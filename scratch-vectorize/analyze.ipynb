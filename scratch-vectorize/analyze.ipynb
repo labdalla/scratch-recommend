{
 "cells": [
  {
   "cell_type": "markdown",
   "metadata": {},
   "source": [
    "### settings & setup"
   ]
  },
  {
   "cell_type": "code",
   "execution_count": 1,
   "metadata": {},
   "outputs": [
    {
     "name": "stdout",
     "output_type": "stream",
     "text": [
      "0.22\n"
     ]
    }
   ],
   "source": [
    "import fasttext\n",
    "import numpy as np\n",
    "import matplotlib.pyplot as plt\n",
    "import os\n",
    "import pandas as pd\n",
    "import sklearn\n",
    "from sklearn.metrics import *\n",
    "from sklearn.metrics import plot_confusion_matrix\n",
    "import seaborn as sns; sns.set()\n",
    "print(sklearn.__version__)\n"
   ]
  },
  {
   "cell_type": "code",
   "execution_count": 3,
   "metadata": {},
   "outputs": [
    {
     "name": "stdout",
     "output_type": "stream",
     "text": [
      "/Users/labdalla/Documents/Scratch-MEng/Workspace/supervised-learning/scratch-recommend/scratch-vectorize/word_vectors/train_500000.bin\n"
     ]
    }
   ],
   "source": [
    "WORD_VECTORS = \"./word_vectors\"\n",
    "MODEL_TARGET = os.path.abspath(os.path.join(WORD_VECTORS, 'train_500000.bin'))\n",
    "\n",
    "print(MODEL_TARGET)"
   ]
  },
  {
   "cell_type": "markdown",
   "metadata": {},
   "source": [
    "### visualize embeddings"
   ]
  },
  {
   "cell_type": "code",
   "execution_count": 4,
   "metadata": {},
   "outputs": [
    {
     "name": "stderr",
     "output_type": "stream",
     "text": [
      "\n"
     ]
    }
   ],
   "source": [
    "model = fasttext.load_model(MODEL_TARGET)"
   ]
  },
  {
   "cell_type": "code",
   "execution_count": 5,
   "metadata": {},
   "outputs": [
    {
     "data": {
      "text/plain": [
       "array([ 0.07661133, -0.21899197,  0.05923463, -0.19274239,  0.36185098,\n",
       "       -0.01490204,  0.31326857, -0.15564577, -0.03452372, -0.04014336,\n",
       "        0.17606167,  0.12581219, -0.08768213,  0.13646033, -0.16349809,\n",
       "       -0.10217518, -0.19393645,  0.16846594,  0.38545442,  0.41580352,\n",
       "        0.1394653 , -0.03271231,  0.14980942,  0.3068345 ,  0.27090755,\n",
       "       -0.36482832, -0.00872882, -0.15615885,  0.5085553 ,  0.02069114,\n",
       "       -0.07501715, -0.26484707, -0.10638502, -0.19239545, -0.18005562,\n",
       "        0.05231786, -0.20690441,  0.4787158 ,  0.02804943,  0.18971577,\n",
       "        0.01125405, -0.16470261,  0.21484017, -0.28493914,  0.10406634,\n",
       "       -0.32433596,  0.07725228, -0.3345698 ,  0.20945628,  0.19499257,\n",
       "        0.07461384,  0.19050792,  0.04713694,  0.13955837,  0.47460324,\n",
       "        0.13744396, -0.25228277, -0.24611297, -0.42012435, -0.13661638,\n",
       "        0.15661351,  0.28216693,  0.47307637,  0.46028164,  0.0304264 ,\n",
       "        0.15028477, -0.10427093,  0.01644554,  0.00264177,  0.03287719,\n",
       "        0.41075155,  0.36771882, -0.33757225,  0.31639016, -0.00744169,\n",
       "       -0.02913519,  0.08521304,  0.04505527, -0.25217003,  0.43116236,\n",
       "        0.24126963,  0.19828713, -0.05791031, -0.08776934,  0.00901765,\n",
       "        0.31754136,  0.14010589,  0.06297594, -0.06747875, -0.16172536,\n",
       "       -0.06631086, -0.06455947,  0.17124118, -0.302787  , -0.00357413,\n",
       "        0.04259456,  0.04910631,  0.23612827, -0.0806215 ,  0.47589716,\n",
       "       -0.1412479 , -0.13862516,  0.33350837, -0.29388928, -0.19434334,\n",
       "       -0.08687599, -0.03315696,  0.16917022,  0.04405342,  0.08716473,\n",
       "       -0.47397622,  0.16131529, -0.0076178 , -0.12960897,  0.13109744,\n",
       "       -0.22496074, -0.3854311 , -0.07454693,  0.11958057,  0.31638885,\n",
       "        0.01913008, -0.03740871,  0.07539727,  0.06530506, -0.04525607,\n",
       "       -0.03925543, -0.21195638,  0.07361026], dtype=float32)"
      ]
     },
     "execution_count": 5,
     "metadata": {},
     "output_type": "execute_result"
    }
   ],
   "source": [
    "model['motion_turnright']"
   ]
  },
  {
   "cell_type": "code",
   "execution_count": 8,
   "metadata": {},
   "outputs": [
    {
     "data": {
      "text/plain": [
       "array([ 0.13997957, -0.32085788,  0.26751712, -0.2749354 ,  0.20241424,\n",
       "        0.1233284 ,  0.19826554, -0.10874201, -0.11394028, -0.03874404,\n",
       "        0.02799118,  0.07100742, -0.19128814,  0.13575374, -0.18594176,\n",
       "       -0.2275155 , -0.11743511,  0.06760412,  0.38450843,  0.46034607,\n",
       "       -0.14708552, -0.10195247,  0.35172272,  0.35165244,  0.20826216,\n",
       "       -0.4401362 , -0.14925079, -0.12192723,  0.49727526,  0.13123691,\n",
       "       -0.21490408, -0.23856781, -0.19994186, -0.29340658, -0.4280149 ,\n",
       "        0.109537  , -0.37129083,  0.65439475,  0.07819791, -0.02686228,\n",
       "        0.12671776, -0.23051867,  0.1503488 , -0.40519163,  0.13480622,\n",
       "       -0.3041387 ,  0.01039407, -0.58092964,  0.10816341,  0.3108211 ,\n",
       "        0.20048259,  0.03679025,  0.021696  ,  0.19158418,  0.41493866,\n",
       "        0.16767497, -0.21969146, -0.4087565 , -0.40252993,  0.04986757,\n",
       "        0.05377672,  0.31723496,  0.37308428,  0.46420196,  0.03730421,\n",
       "       -0.022031  , -0.02213698,  0.11923908, -0.03288323, -0.04690051,\n",
       "        0.21081832,  0.2838595 , -0.5610016 ,  0.09548323,  0.13418314,\n",
       "       -0.09773526, -0.05363794,  0.17833869, -0.28172222,  0.39337677,\n",
       "        0.21521437,  0.14191958, -0.08377847,  0.07060809,  0.09141081,\n",
       "        0.22882193,  0.19412693, -0.06396976, -0.2190192 , -0.13709545,\n",
       "       -0.24758843,  0.03375439,  0.09606418, -0.16322397, -0.04668311,\n",
       "       -0.07342778, -0.22151242, -0.00902131, -0.20135611,  0.3856007 ,\n",
       "       -0.03999975, -0.21362649,  0.38989478, -0.21448736, -0.15837559,\n",
       "        0.2595627 ,  0.0030468 ,  0.11490578,  0.15353833, -0.05064244,\n",
       "       -0.54632616,  0.19349322,  0.0569568 , -0.18879475,  0.17926799,\n",
       "       -0.32498026, -0.41113672, -0.11511727,  0.02097976,  0.08730934,\n",
       "        0.25749865,  0.03907282,  0.14233035,  0.08970258,  0.15102884,\n",
       "       -0.20209081, -0.26707074,  0.11070375], dtype=float32)"
      ]
     },
     "execution_count": 8,
     "metadata": {},
     "output_type": "execute_result"
    }
   ],
   "source": [
    "model['motion_turnleft']"
   ]
  },
  {
   "cell_type": "code",
   "execution_count": 13,
   "metadata": {},
   "outputs": [
    {
     "data": {
      "text/html": [
       "<div>\n",
       "<style scoped>\n",
       "    .dataframe tbody tr th:only-of-type {\n",
       "        vertical-align: middle;\n",
       "    }\n",
       "\n",
       "    .dataframe tbody tr th {\n",
       "        vertical-align: top;\n",
       "    }\n",
       "\n",
       "    .dataframe thead th {\n",
       "        text-align: right;\n",
       "    }\n",
       "</style>\n",
       "<table border=\"1\" class=\"dataframe\">\n",
       "  <thead>\n",
       "    <tr style=\"text-align: right;\">\n",
       "      <th></th>\n",
       "      <th>0</th>\n",
       "      <th>1</th>\n",
       "      <th>2</th>\n",
       "      <th>3</th>\n",
       "      <th>4</th>\n",
       "      <th>5</th>\n",
       "      <th>6</th>\n",
       "      <th>7</th>\n",
       "      <th>8</th>\n",
       "      <th>9</th>\n",
       "      <th>...</th>\n",
       "      <th>118</th>\n",
       "      <th>119</th>\n",
       "      <th>120</th>\n",
       "      <th>121</th>\n",
       "      <th>122</th>\n",
       "      <th>123</th>\n",
       "      <th>124</th>\n",
       "      <th>125</th>\n",
       "      <th>126</th>\n",
       "      <th>127</th>\n",
       "    </tr>\n",
       "  </thead>\n",
       "  <tbody>\n",
       "    <tr>\n",
       "      <th>motion_turnright</th>\n",
       "      <td>0.076611</td>\n",
       "      <td>-0.218992</td>\n",
       "      <td>0.059235</td>\n",
       "      <td>-0.192742</td>\n",
       "      <td>0.361851</td>\n",
       "      <td>-0.014902</td>\n",
       "      <td>0.313269</td>\n",
       "      <td>-0.155646</td>\n",
       "      <td>-0.034524</td>\n",
       "      <td>-0.040143</td>\n",
       "      <td>...</td>\n",
       "      <td>0.119581</td>\n",
       "      <td>0.316389</td>\n",
       "      <td>0.019130</td>\n",
       "      <td>-0.037409</td>\n",
       "      <td>0.075397</td>\n",
       "      <td>0.065305</td>\n",
       "      <td>-0.045256</td>\n",
       "      <td>-0.039255</td>\n",
       "      <td>-0.211956</td>\n",
       "      <td>0.073610</td>\n",
       "    </tr>\n",
       "    <tr>\n",
       "      <th>motion_turnleft</th>\n",
       "      <td>0.139980</td>\n",
       "      <td>-0.320858</td>\n",
       "      <td>0.267517</td>\n",
       "      <td>-0.274935</td>\n",
       "      <td>0.202414</td>\n",
       "      <td>0.123328</td>\n",
       "      <td>0.198266</td>\n",
       "      <td>-0.108742</td>\n",
       "      <td>-0.113940</td>\n",
       "      <td>-0.038744</td>\n",
       "      <td>...</td>\n",
       "      <td>0.020980</td>\n",
       "      <td>0.087309</td>\n",
       "      <td>0.257499</td>\n",
       "      <td>0.039073</td>\n",
       "      <td>0.142330</td>\n",
       "      <td>0.089703</td>\n",
       "      <td>0.151029</td>\n",
       "      <td>-0.202091</td>\n",
       "      <td>-0.267071</td>\n",
       "      <td>0.110704</td>\n",
       "    </tr>\n",
       "  </tbody>\n",
       "</table>\n",
       "<p>2 rows × 128 columns</p>\n",
       "</div>"
      ],
      "text/plain": [
       "                       0         1         2         3         4         5    \\\n",
       "motion_turnright  0.076611 -0.218992  0.059235 -0.192742  0.361851 -0.014902   \n",
       "motion_turnleft   0.139980 -0.320858  0.267517 -0.274935  0.202414  0.123328   \n",
       "\n",
       "                       6         7         8         9    ...       118  \\\n",
       "motion_turnright  0.313269 -0.155646 -0.034524 -0.040143  ...  0.119581   \n",
       "motion_turnleft   0.198266 -0.108742 -0.113940 -0.038744  ...  0.020980   \n",
       "\n",
       "                       119       120       121       122       123       124  \\\n",
       "motion_turnright  0.316389  0.019130 -0.037409  0.075397  0.065305 -0.045256   \n",
       "motion_turnleft   0.087309  0.257499  0.039073  0.142330  0.089703  0.151029   \n",
       "\n",
       "                       125       126       127  \n",
       "motion_turnright -0.039255 -0.211956  0.073610  \n",
       "motion_turnleft  -0.202091 -0.267071  0.110704  \n",
       "\n",
       "[2 rows x 128 columns]"
      ]
     },
     "execution_count": 13,
     "metadata": {},
     "output_type": "execute_result"
    }
   ],
   "source": [
    "df = pd.DataFrame([model['motion_turnright'], model['motion_turnleft']])\n",
    "df.rename(index={0: 'motion_turnright', 1:'motion_turnleft'}, inplace=True)\n",
    "df"
   ]
  },
  {
   "cell_type": "code",
   "execution_count": 40,
   "metadata": {},
   "outputs": [
    {
     "data": {
      "text/plain": [
       "([<matplotlib.axis.YTick at 0x163a76c18>,\n",
       "  <matplotlib.axis.YTick at 0x163a6eb00>],\n",
       " <a list of 2 Text yticklabel objects>)"
      ]
     },
     "execution_count": 40,
     "metadata": {},
     "output_type": "execute_result"
    },
    {
     "data": {
      "image/png": "[encoded data removed]",
      "text/plain": [
       "<Figure size 2160x360 with 2 Axes>"
      ]
     },
     "metadata": {
      "needs_background": "light"
     },
     "output_type": "display_data"
    }
   ],
   "source": [
    "xticklabels=[i for i in range(128)]\n",
    "fig, ax = plt.subplots(figsize=(30,5)) \n",
    "sns.heatmap(df, xticklabels=xticklabels, square=True, ax=ax)\n",
    "plt.xticks(np.arange(128)+0.5, fontsize=\"10\", va=\"center\")\n",
    "plt.yticks(np.arange(2)+0.5, rotation=0, fontsize=\"10\", va=\"center\")\n",
    "\n"
   ]
  },
  {
   "cell_type": "code",
   "execution_count": 39,
   "metadata": {},
   "outputs": [
    {
     "data": {
      "text/plain": [
       "([<matplotlib.axis.YTick at 0x163747dd8>,\n",
       "  <matplotlib.axis.YTick at 0x163739080>],\n",
       " <a list of 2 Text yticklabel objects>)"
      ]
     },
     "execution_count": 39,
     "metadata": {},
     "output_type": "execute_result"
    },
    {
     "data": {
      "image/png": "[encoded data removed]",
      "text/plain": [
       "<Figure size 2160x360 with 2 Axes>"
      ]
     },
     "metadata": {
      "needs_background": "light"
     },
     "output_type": "display_data"
    }
   ],
   "source": [
    "xticklabels=[i for i in range(128)]\n",
    "fig, ax = plt.subplots(figsize=(30,5)) \n",
    "sns.heatmap(df, xticklabels=xticklabels, cmap='RdBu_r', square=True, ax=ax)\n",
    "plt.xticks(np.arange(128)+0.5, fontsize=\"10\", va=\"center\")\n",
    "plt.yticks(np.arange(2)+0.5, rotation=0, fontsize=\"10\", va=\"center\")\n"
   ]
  },
  {
   "cell_type": "code",
   "execution_count": 43,
   "metadata": {},
   "outputs": [
    {
     "data": {
      "text/html": [
       "<div>\n",
       "<style scoped>\n",
       "    .dataframe tbody tr th:only-of-type {\n",
       "        vertical-align: middle;\n",
       "    }\n",
       "\n",
       "    .dataframe tbody tr th {\n",
       "        vertical-align: top;\n",
       "    }\n",
       "\n",
       "    .dataframe thead th {\n",
       "        text-align: right;\n",
       "    }\n",
       "</style>\n",
       "<table border=\"1\" class=\"dataframe\">\n",
       "  <thead>\n",
       "    <tr style=\"text-align: right;\">\n",
       "      <th></th>\n",
       "      <th>0</th>\n",
       "      <th>1</th>\n",
       "      <th>2</th>\n",
       "      <th>3</th>\n",
       "      <th>4</th>\n",
       "      <th>5</th>\n",
       "      <th>6</th>\n",
       "      <th>7</th>\n",
       "      <th>8</th>\n",
       "      <th>9</th>\n",
       "      <th>...</th>\n",
       "      <th>118</th>\n",
       "      <th>119</th>\n",
       "      <th>120</th>\n",
       "      <th>121</th>\n",
       "      <th>122</th>\n",
       "      <th>123</th>\n",
       "      <th>124</th>\n",
       "      <th>125</th>\n",
       "      <th>126</th>\n",
       "      <th>127</th>\n",
       "    </tr>\n",
       "  </thead>\n",
       "  <tbody>\n",
       "    <tr>\n",
       "      <th>motion_turnright</th>\n",
       "      <td>0.076611</td>\n",
       "      <td>-0.218992</td>\n",
       "      <td>0.059235</td>\n",
       "      <td>-0.192742</td>\n",
       "      <td>0.361851</td>\n",
       "      <td>-0.014902</td>\n",
       "      <td>0.313269</td>\n",
       "      <td>-0.155646</td>\n",
       "      <td>-0.034524</td>\n",
       "      <td>-0.040143</td>\n",
       "      <td>...</td>\n",
       "      <td>0.119581</td>\n",
       "      <td>0.316389</td>\n",
       "      <td>0.019130</td>\n",
       "      <td>-0.037409</td>\n",
       "      <td>0.075397</td>\n",
       "      <td>0.065305</td>\n",
       "      <td>-0.045256</td>\n",
       "      <td>-0.039255</td>\n",
       "      <td>-0.211956</td>\n",
       "      <td>0.073610</td>\n",
       "    </tr>\n",
       "    <tr>\n",
       "      <th>motion_turnleft</th>\n",
       "      <td>0.139980</td>\n",
       "      <td>-0.320858</td>\n",
       "      <td>0.267517</td>\n",
       "      <td>-0.274935</td>\n",
       "      <td>0.202414</td>\n",
       "      <td>0.123328</td>\n",
       "      <td>0.198266</td>\n",
       "      <td>-0.108742</td>\n",
       "      <td>-0.113940</td>\n",
       "      <td>-0.038744</td>\n",
       "      <td>...</td>\n",
       "      <td>0.020980</td>\n",
       "      <td>0.087309</td>\n",
       "      <td>0.257499</td>\n",
       "      <td>0.039073</td>\n",
       "      <td>0.142330</td>\n",
       "      <td>0.089703</td>\n",
       "      <td>0.151029</td>\n",
       "      <td>-0.202091</td>\n",
       "      <td>-0.267071</td>\n",
       "      <td>0.110704</td>\n",
       "    </tr>\n",
       "    <tr>\n",
       "      <th>looks_changesizeby</th>\n",
       "      <td>0.344100</td>\n",
       "      <td>0.318401</td>\n",
       "      <td>-0.126316</td>\n",
       "      <td>-0.096353</td>\n",
       "      <td>0.073393</td>\n",
       "      <td>0.377612</td>\n",
       "      <td>0.431553</td>\n",
       "      <td>-0.161523</td>\n",
       "      <td>0.212970</td>\n",
       "      <td>0.127558</td>\n",
       "      <td>...</td>\n",
       "      <td>0.496591</td>\n",
       "      <td>0.065775</td>\n",
       "      <td>-0.373212</td>\n",
       "      <td>-0.190448</td>\n",
       "      <td>0.125239</td>\n",
       "      <td>0.055516</td>\n",
       "      <td>-0.187647</td>\n",
       "      <td>-0.249386</td>\n",
       "      <td>0.053928</td>\n",
       "      <td>-0.111590</td>\n",
       "    </tr>\n",
       "  </tbody>\n",
       "</table>\n",
       "<p>3 rows × 128 columns</p>\n",
       "</div>"
      ],
      "text/plain": [
       "                         0         1         2         3         4    \\\n",
       "motion_turnright    0.076611 -0.218992  0.059235 -0.192742  0.361851   \n",
       "motion_turnleft     0.139980 -0.320858  0.267517 -0.274935  0.202414   \n",
       "looks_changesizeby  0.344100  0.318401 -0.126316 -0.096353  0.073393   \n",
       "\n",
       "                         5         6         7         8         9    ...  \\\n",
       "motion_turnright   -0.014902  0.313269 -0.155646 -0.034524 -0.040143  ...   \n",
       "motion_turnleft     0.123328  0.198266 -0.108742 -0.113940 -0.038744  ...   \n",
       "looks_changesizeby  0.377612  0.431553 -0.161523  0.212970  0.127558  ...   \n",
       "\n",
       "                         118       119       120       121       122  \\\n",
       "motion_turnright    0.119581  0.316389  0.019130 -0.037409  0.075397   \n",
       "motion_turnleft     0.020980  0.087309  0.257499  0.039073  0.142330   \n",
       "looks_changesizeby  0.496591  0.065775 -0.373212 -0.190448  0.125239   \n",
       "\n",
       "                         123       124       125       126       127  \n",
       "motion_turnright    0.065305 -0.045256 -0.039255 -0.211956  0.073610  \n",
       "motion_turnleft     0.089703  0.151029 -0.202091 -0.267071  0.110704  \n",
       "looks_changesizeby  0.055516 -0.187647 -0.249386  0.053928 -0.111590  \n",
       "\n",
       "[3 rows x 128 columns]"
      ]
     },
     "execution_count": 43,
     "metadata": {},
     "output_type": "execute_result"
    }
   ],
   "source": [
    "df = pd.DataFrame([model['motion_turnright'], model['motion_turnleft'], model['looks_changesizeby']])\n",
    "df.rename(index={0: 'motion_turnright', 1:'motion_turnleft', 2: 'looks_changesizeby'}, inplace=True)\n",
    "df"
   ]
  },
  {
   "cell_type": "code",
   "execution_count": 45,
   "metadata": {},
   "outputs": [
    {
     "data": {
      "text/plain": [
       "([<matplotlib.axis.YTick at 0x16445cb38>,\n",
       "  <matplotlib.axis.YTick at 0x16443e7f0>,\n",
       "  <matplotlib.axis.YTick at 0x1644a8048>],\n",
       " <a list of 3 Text yticklabel objects>)"
      ]
     },
     "execution_count": 45,
     "metadata": {},
     "output_type": "execute_result"
    },
    {
     "data": {
      "image/png": "[encoded data removed]",
      "text/plain": [
       "<Figure size 2160x360 with 2 Axes>"
      ]
     },
     "metadata": {
      "needs_background": "light"
     },
     "output_type": "display_data"
    }
   ],
   "source": [
    "xticklabels=[i for i in range(128)]\n",
    "fig, ax = plt.subplots(figsize=(30,5)) \n",
    "sns.heatmap(df, xticklabels=xticklabels, square=True, ax=ax)\n",
    "plt.xticks(np.arange(128)+0.5, fontsize=\"10\", va=\"center\")\n",
    "plt.yticks(np.arange(3)+0.5, rotation=0, fontsize=\"10\", va=\"center\")"
   ]
  },
  {
   "cell_type": "code",
   "execution_count": null,
   "metadata": {},
   "outputs": [],
   "source": [
    "# 6-dim PCA dimensionality reduction!\n"
   ]
  }
 ],
 "metadata": {
  "kernelspec": {
   "display_name": "Python 3",
   "language": "python",
   "name": "python3"
  },
  "language_info": {
   "codemirror_mode": {
    "name": "ipython",
    "version": 3
   },
   "file_extension": ".py",
   "mimetype": "text/x-python",
   "name": "python",
   "nbconvert_exporter": "python",
   "pygments_lexer": "ipython3",
   "version": "3.6.4"
  }
 },
 "nbformat": 4,
 "nbformat_minor": 2
}
