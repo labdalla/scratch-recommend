{
 "cells": [
  {
   "cell_type": "markdown",
   "metadata": {},
   "source": [
    "# dataset\n",
    "Gather project IDs for vectorization task."
   ]
  },
  {
   "cell_type": "markdown",
   "metadata": {},
   "source": [
    "### import dependencies"
   ]
  },
  {
   "cell_type": "code",
   "execution_count": 1,
   "metadata": {},
   "outputs": [],
   "source": [
    "!pip install -q --no-cache-dir mysqlclient\n",
    "\n",
    "import os\n",
    "import pandas as pd\n",
    "import numpy as np"
   ]
  },
  {
   "cell_type": "markdown",
   "metadata": {},
   "source": [
    "### settings & configuration"
   ]
  },
  {
   "cell_type": "code",
   "execution_count": 2,
   "metadata": {},
   "outputs": [],
   "source": [
    "# Dataset paths\n",
    "DATASET = './dataset'\n",
    "DATASET_TARGET = os.path.abspath(os.path.join(DATASET, 'dataset.txt'))\n",
    "DATASET_IDS_TARGET = os.path.abspath(os.path.join(DATASET, 'dataset.ids'))\n",
    "TRAIN_TARGET = os.path.abspath(os.path.join(DATASET, 'train')) # add the .txt later."
   ]
  },
  {
   "cell_type": "markdown",
   "metadata": {},
   "source": [
    "----"
   ]
  },
  {
   "cell_type": "markdown",
   "metadata": {},
   "source": [
    "## Extract Datasets of Different Sample Sizes"
   ]
  },
  {
   "cell_type": "markdown",
   "metadata": {},
   "source": [
    "### clean and examine dataset\n",
    "Examine dataset, create dataframe and clean it from empty / NaN rows, examine the resulting dataframe."
   ]
  },
  {
   "cell_type": "code",
   "execution_count": 3,
   "metadata": {
    "scrolled": true
   },
   "outputs": [
    {
     "name": "stdout",
     "output_type": "stream",
     "text": [
      "568331 /home/jovyan/shared/lena/dataset/dataset.txt\n",
      "568331 /home/jovyan/shared/lena/dataset/dataset.ids\n"
     ]
    }
   ],
   "source": [
    "!wc -l {DATASET_TARGET}\n",
    "!wc -l {DATASET_IDS_TARGET}"
   ]
  },
  {
   "cell_type": "code",
   "execution_count": 4,
   "metadata": {
    "scrolled": true
   },
   "outputs": [
    {
     "name": "stdout",
     "output_type": "stream",
     "text": [
      "_STARTSTACK_ event_whenflagclicked _NEXT_ control_forever _STARTNEST_ looks_nextcostume _NEXT_ control_wait _STARTINPUT_ numtext_input _ENDINPUT_ _ENDNEST_ _ENDSTACK_ _STARTSTACK_ event_whenflagclicked _NEXT_ control_forever _STARTNEST_ sound_playuntildone _MENU_ menu_option _MENU_ _ENDNEST_ _ENDSTACK_ _STARTSTACK_ event_whenflagclicked _NEXT_ control_forever _STARTNEST_ motion_turnright _STARTINPUT_ numtext_input _ENDINPUT_ _ENDNEST_ _ENDSTACK_ _STARTSTACK_ event_whenflagclicked _NEXT_ control_forever _STARTNEST_ motion_gotoxy _STARTINPUT_ operator_random _STARTINPUT_ numtext_input _ENDINPUT_ _STARTINPUT_ numtext_input _ENDINPUT_ _ENDINPUT_ _STARTINPUT_ operator_random _STARTINPUT_ numtext_input _ENDINPUT_ _STARTINPUT_ numtext_input _ENDINPUT_ _ENDINPUT_ _ENDNEST_ _ENDSTACK_ _STARTSTACK_ event_whenflagclicked _NEXT_ control_forever _STARTNEST_ pen_penDown _NEXT_ pen_stamp _ENDNEST_ _ENDSTACK_\r\n",
      "_STARTSTACK_ event_whenbackdropswitchesto _MENU_ menu_option _MENU_ _NEXT_ data_setvariableto _MENU_ _VAR_ _MENU_ _STARTINPUT_ sensing_timer _ENDINPUT_ _NEXT_ sensing_resettimer _NEXT_ control_wait _STARTINPUT_ numtext_input _ENDINPUT_ _NEXT_ looks_switchbackdropto _MENU_ menu_option _MENU_ _ENDSTACK_ _STARTSTACK_ event_whenbackdropswitchesto _MENU_ menu_option _MENU_ _NEXT_ data_showvariable _MENU_ _VAR_ _MENU_ _NEXT_ data_showvariable _MENU_ _VAR_ _MENU_ _NEXT_ data_showvariable _MENU_ _VAR_ _MENU_ _NEXT_ control_if _STARTINPUT_ operator_gt _STARTINPUT_ _VAR_ _ENDINPUT_ _STARTINPUT_ _VAR_ _ENDINPUT_ _ENDINPUT_ _STARTNEST_ data_setvariableto _MENU_ _VAR_ _MENU_ _STARTINPUT_ _VAR_ _ENDINPUT_ _NEXT_ sensing_askandwait _STARTINPUT_ numtext_input _ENDINPUT_ _NEXT_ data_setvariableto _MENU_ _VAR_ _MENU_ _STARTINPUT_ sensing_answer _ENDINPUT_ _ENDNEST_ _ENDSTACK_ _STARTSTACK_ event_whenflagclicked _NEXT_ data_hidevariable _MENU_ _VAR_ _MENU_ _NEXT_ data_hidevariable _MENU_ _VAR_ _MENU_ _NEXT_ data_hidevariable _MENU_ _VAR_ _MENU_ _NEXT_ sensing_resettimer _NEXT_ data_setvariableto _MENU_ _VAR_ _MENU_ _STARTINPUT_ numtext_input _ENDINPUT_ _NEXT_ looks_switchbackdropto _MENU_ menu_option _MENU_ _ENDSTACK_ _STARTSTACK_ event_whenbackdropswitchesto _MENU_ menu_option _MENU_ _NEXT_ sound_stopallsounds _NEXT_ sound_playuntildone _MENU_ menu_option _MENU_ _ENDSTACK_ _STARTSTACK_ event_whenbackdropswitchesto _MENU_ menu_option _MENU_ _NEXT_ sound_stopallsounds _NEXT_ control_if _STARTINPUT_ operator_equals _STARTINPUT_ _VAR_ _ENDINPUT_ _STARTINPUT_ _VAR_ _ENDINPUT_ _ENDINPUT_ _STARTNEST_ sound_playuntildone _MENU_ menu_option _MENU_ _ENDNEST_ _ENDSTACK_ _STARTSTACK_ event_whenbackdropswitchesto _MENU_ menu_option _MENU_ _NEXT_ looks_switchcostumeto _MENU_ menu_option _MENU_ _ENDSTACK_ _STARTSTACK_ event_whenflagclicked _NEXT_ looks_gotofrontback _MENU_ menu_option _MENU_ _NEXT_ looks_switchcostumeto _MENU_ menu_option _MENU_ _ENDSTACK_ _STARTSTACK_ event_whenkeypressed _MENU_ menu_option _MENU_ _NEXT_ looks_switchcostumeto _MENU_ menu_option _MENU_ _NEXT_ control_if_else _STARTINPUT_ operator_gt _STARTINPUT_ motion_xposition _ENDINPUT_ _STARTINPUT_ numtext_input _ENDINPUT_ _ENDINPUT_ _STARTNEST_ motion_setx _STARTINPUT_ numtext_input _ENDINPUT_ _ENDNEST_ _STARTNEST_ motion_movesteps _STARTINPUT_ numtext_input _ENDINPUT_ _ENDNEST_ _ENDSTACK_ _STARTSTACK_ event_whenkeypressed _MENU_ menu_option _MENU_ _NEXT_ looks_switchcostumeto _MENU_ menu_option _MENU_ _NEXT_ control_if_else _STARTINPUT_ operator_lt _STARTINPUT_ motion_xposition _ENDINPUT_ _STARTINPUT_ numtext_input _ENDINPUT_ _ENDINPUT_ _STARTNEST_ motion_setx _STARTINPUT_ numtext_input _ENDINPUT_ _ENDNEST_ _STARTNEST_ motion_movesteps _STARTINPUT_ numtext_input _ENDINPUT_ _ENDNEST_ _ENDSTACK_ _STARTSTACK_ event_whenbackdropswitchesto _MENU_ menu_option _MENU_ _NEXT_ control_forever _STARTNEST_ looks_switchcostumeto _MENU_ menu_option _MENU_ _ENDNEST_ _ENDSTACK_ _STARTSTACK_ event_whenflagclicked _NEXT_ looks_switchcostumeto _MENU_ menu_option _MENU_ _NEXT_ looks_sayforsecs _STARTINPUT_ numtext_input _ENDINPUT_ _STARTINPUT_ numtext_input _ENDINPUT_ _NEXT_ looks_sayforsecs _STARTINPUT_ numtext_input _ENDINPUT_ _STARTINPUT_ numtext_input _ENDINPUT_ _NEXT_ looks_sayforsecs _STARTINPUT_ numtext_input _ENDINPUT_ _STARTINPUT_ numtext_input _ENDINPUT_ _ENDSTACK_ _STARTSTACK_ control_start_as_clone _NEXT_ motion_setx _STARTINPUT_ operator_random _STARTINPUT_ numtext_input _ENDINPUT_ _STARTINPUT_ numtext_input _ENDINPUT_ _ENDINPUT_ _NEXT_ motion_sety _STARTINPUT_ numtext_input _ENDINPUT_ _NEXT_ control_forever _STARTNEST_ control_if _STARTINPUT_ sensing_touchingobject _MENU_ menu_option _MENU_ _ENDINPUT_ _STARTNEST_ sound_play _MENU_ menu_option _MENU_ _NEXT_ looks_switchbackdropto _MENU_ menu_option _MENU_ _NEXT_ data_setvariableto _MENU_ _VAR_ _MENU_ _STARTINPUT_ numtext_input _ENDINPUT_ _ENDNEST_ _NEXT_ motion_movesteps _STARTINPUT_ numtext_input _ENDINPUT_ _NEXT_ control_if _STARTINPUT_ operator_equals _STARTINPUT_ motion_yposition _ENDINPUT_ _STARTINPUT_ numtext_input _ENDINPUT_ _ENDINPUT_ _STARTNEST_ control_delete_this_clone _ENDNEST_ _ENDNEST_ _ENDSTACK_ _STARTSTACK_ event_whenbackdropswitchesto _MENU_ menu_option _MENU_ _NEXT_ looks_switchcostumeto _MENU_ menu_option _MENU_ _ENDSTACK_ _STARTSTACK_ event_whenflagclicked _NEXT_ data_setvariableto _MENU_ _VAR_ _MENU_ _STARTINPUT_ sensing_timer _ENDINPUT_ _NEXT_ data_hidevariable _MENU_ _VAR_ _MENU_ _NEXT_ data_hidevariable _MENU_ _VAR_ _MENU_ _NEXT_ looks_goforwardbackwardlayers _MENU_ menu_option _MENU_ _STARTINPUT_ numtext_input _ENDINPUT_ _NEXT_ looks_switchcostumeto _MENU_ menu_option _MENU_ _NEXT_ motion_pointindirection _STARTINPUT_ numtext_input _ENDINPUT_ _NEXT_ control_forever _STARTNEST_ motion_movesteps _STARTINPUT_ numtext_input _ENDINPUT_ _ENDNEST_ _ENDSTACK_ _STARTSTACK_ event_whenflagclicked _NEXT_ control_wait _STARTINPUT_ numtext_input _ENDINPUT_ _NEXT_ control_forever _STARTNEST_ control_if _STARTINPUT_ operator_lt _STARTINPUT_ numtext_input _ENDINPUT_ _STARTINPUT_ sensing_timer _ENDINPUT_ _ENDINPUT_ _STARTNEST_ control_if _STARTINPUT_ operator_equals _STARTINPUT_ operator_random _STARTINPUT_ numtext_input _ENDINPUT_ _STARTINPUT_ numtext_input _ENDINPUT_ _ENDINPUT_ _STARTINPUT_ numtext_input _ENDINPUT_ _ENDINPUT_ _STARTNEST_ control_create_clone_of _MENU_ menu_option _MENU_ _ENDNEST_ _NEXT_ control_if _STARTINPUT_ operator_lt _STARTINPUT_ numtext_input _ENDINPUT_ _STARTINPUT_ sensing_timer _ENDINPUT_ _ENDINPUT_ _STARTNEST_ control_if _STARTINPUT_ operator_equals _STARTINPUT_ operator_random _STARTINPUT_ numtext_input _ENDINPUT_ _STARTINPUT_ numtext_input _ENDINPUT_ _ENDINPUT_ _STARTINPUT_ numtext_input _ENDINPUT_ _ENDINPUT_ _STARTNEST_ control_create_clone_of _MENU_ menu_option _MENU_ _ENDNEST_ _NEXT_ control_if _STARTINPUT_ operator_lt _STARTINPUT_ numtext_input _ENDINPUT_ _STARTINPUT_ sensing_timer _ENDINPUT_ _ENDINPUT_ _STARTNEST_ control_if _STARTINPUT_ operator_equals _STARTINPUT_ operator_random _STARTINPUT_ numtext_input _ENDINPUT_ _STARTINPUT_ numtext_input _ENDINPUT_ _ENDINPUT_ _STARTINPUT_ numtext_input _ENDINPUT_ _ENDINPUT_ _STARTNEST_ control_create_clone_of _MENU_ menu_option _MENU_ _ENDNEST_ _NEXT_ control_if _STARTINPUT_ operator_lt _STARTINPUT_ numtext_input _ENDINPUT_ _STARTINPUT_ sensing_timer _ENDINPUT_ _ENDINPUT_ _STARTNEST_ control_if _STARTINPUT_ operator_equals _STARTINPUT_ operator_random _STARTINPUT_ numtext_input _ENDINPUT_ _STARTINPUT_ numtext_input _ENDINPUT_ _ENDINPUT_ _STARTINPUT_ numtext_input _ENDINPUT_ _ENDINPUT_ _STARTNEST_ control_create_clone_of _MENU_ menu_option _MENU_ _ENDNEST_ _ENDNEST_ _ENDNEST_ _ENDNEST_ _ENDNEST_ _ENDNEST_ _ENDSTACK_ _STARTSTACK_ event_whenflagclicked _NEXT_ control_if _STARTINPUT_ operator_equals _STARTINPUT_ numtext_input _ENDINPUT_ _STARTINPUT_ _VAR_ _ENDINPUT_ _ENDINPUT_ _STARTNEST_ looks_switchbackdropto _MENU_ menu_option _MENU_ _ENDNEST_ _NEXT_ control_if _STARTINPUT_ operator_equals _STARTINPUT_ numtext_input _ENDINPUT_ _STARTINPUT_ _VAR_ _ENDINPUT_ _ENDINPUT_ _STARTNEST_ looks_switchbackdropto _MENU_ menu_option _MENU_ _ENDNEST_ _NEXT_ control_if _STARTINPUT_ operator_equals _STARTINPUT_ numtext_input _ENDINPUT_ _STARTINPUT_ _VAR_ _ENDINPUT_ _ENDINPUT_ _STARTNEST_ looks_switchbackdropto _MENU_ menu_option _MENU_ _ENDNEST_ _NEXT_ control_if _STARTINPUT_ operator_equals _STARTINPUT_ numtext_input _ENDINPUT_ _STARTINPUT_ _VAR_ _ENDINPUT_ _ENDINPUT_ _STARTNEST_ looks_switchbackdropto _MENU_ menu_option _MENU_ _ENDNEST_ _ENDSTACK_\r\n",
      "_STARTSTACK_ event_whenflagclicked _NEXT_ looks_sayforsecs _STARTINPUT_ numtext_input _ENDINPUT_ _STARTINPUT_ numtext_input _ENDINPUT_ _NEXT_ looks_hide _ENDSTACK_ _STARTSTACK_ event_whenthisspriteclicked _NEXT_ motion_gotoxy _STARTINPUT_ numtext_input _ENDINPUT_ _STARTINPUT_ numtext_input _ENDINPUT_ _NEXT_ control_stop _MENU_ menu_option _MENU_ _ENDSTACK_ _STARTSTACK_ event_whenflagclicked _NEXT_ data_setvariableto _MENU_ _VAR_ _MENU_ _STARTINPUT_ numtext_input _ENDINPUT_ _NEXT_ motion_gotoxy _STARTINPUT_ operator_random _STARTINPUT_ numtext_input _ENDINPUT_ _STARTINPUT_ numtext_input _ENDINPUT_ _ENDINPUT_ _STARTINPUT_ operator_random _STARTINPUT_ numtext_input _ENDINPUT_ _STARTINPUT_ numtext_input _ENDINPUT_ _ENDINPUT_ _NEXT_ motion_pointindirection _STARTINPUT_ operator_random _STARTINPUT_ numtext_input _ENDINPUT_ _STARTINPUT_ numtext_input _ENDINPUT_ _ENDINPUT_ _NEXT_ control_forever _STARTNEST_ motion_movesteps _STARTINPUT_ operator_random _STARTINPUT_ numtext_input _ENDINPUT_ _STARTINPUT_ numtext_input _ENDINPUT_ _ENDINPUT_ _NEXT_ motion_ifonedgebounce _ENDNEST_ _ENDSTACK_ _STARTSTACK_ event_whenthisspriteclicked _NEXT_ data_changevariableby _MENU_ _VAR_ _MENU_ _STARTINPUT_ numtext_input _ENDINPUT_ _ENDSTACK_ _STARTSTACK_ event_whenflagclicked _ENDSTACK_ _STARTSTACK_ event_whenflagclicked _NEXT_ data_setvariableto _MENU_ _VAR_ _MENU_ _STARTINPUT_ numtext_input _ENDINPUT_ _NEXT_ motion_gotoxy _STARTINPUT_ operator_random _STARTINPUT_ numtext_input _ENDINPUT_ _STARTINPUT_ numtext_input _ENDINPUT_ _ENDINPUT_ _STARTINPUT_ operator_random _STARTINPUT_ numtext_input _ENDINPUT_ _STARTINPUT_ numtext_input _ENDINPUT_ _ENDINPUT_ _NEXT_ motion_pointindirection _STARTINPUT_ operator_random _STARTINPUT_ numtext_input _ENDINPUT_ _STARTINPUT_ numtext_input _ENDINPUT_ _ENDINPUT_ _NEXT_ control_forever _STARTNEST_ motion_movesteps _STARTINPUT_ operator_random _STARTINPUT_ numtext_input _ENDINPUT_ _STARTINPUT_ numtext_input _ENDINPUT_ _ENDINPUT_ _NEXT_ motion_ifonedgebounce _ENDNEST_ _ENDSTACK_ _STARTSTACK_ event_whenthisspriteclicked _NEXT_ motion_gotoxy _STARTINPUT_ numtext_input _ENDINPUT_ _STARTINPUT_ numtext_input _ENDINPUT_ _NEXT_ control_stop _MENU_ menu_option _MENU_ _ENDSTACK_ _STARTSTACK_ event_whenflagclicked _NEXT_ data_setvariableto _MENU_ _VAR_ _MENU_ _STARTINPUT_ numtext_input _ENDINPUT_ _NEXT_ motion_gotoxy _STARTINPUT_ operator_random _STARTINPUT_ numtext_input _ENDINPUT_ _STARTINPUT_ numtext_input _ENDINPUT_ _ENDINPUT_ _STARTINPUT_ operator_random _STARTINPUT_ numtext_input _ENDINPUT_ _STARTINPUT_ numtext_input _ENDINPUT_ _ENDINPUT_ _NEXT_ motion_pointindirection _STARTINPUT_ operator_random _STARTINPUT_ numtext_input _ENDINPUT_ _STARTINPUT_ numtext_input _ENDINPUT_ _ENDINPUT_ _NEXT_ control_forever _STARTNEST_ motion_movesteps _STARTINPUT_ operator_random _STARTINPUT_ numtext_input _ENDINPUT_ _STARTINPUT_ numtext_input _ENDINPUT_ _ENDINPUT_ _NEXT_ motion_ifonedgebounce _ENDNEST_ _ENDSTACK_ _STARTSTACK_ event_whenthisspriteclicked _NEXT_ motion_gotoxy _STARTINPUT_ numtext_input _ENDINPUT_ _STARTINPUT_ numtext_input _ENDINPUT_ _NEXT_ control_stop _MENU_ menu_option _MENU_ _ENDSTACK_ _STARTSTACK_ event_whenthisspriteclicked _NEXT_ motion_gotoxy _STARTINPUT_ numtext_input _ENDINPUT_ _STARTINPUT_ numtext_input _ENDINPUT_ _NEXT_ control_stop _MENU_ menu_option _MENU_ _ENDSTACK_ _STARTSTACK_ event_whenflagclicked _NEXT_ data_setvariableto _MENU_ _VAR_ _MENU_ _STARTINPUT_ numtext_input _ENDINPUT_ _NEXT_ motion_gotoxy _STARTINPUT_ operator_random _STARTINPUT_ numtext_input _ENDINPUT_ _STARTINPUT_ numtext_input _ENDINPUT_ _ENDINPUT_ _STARTINPUT_ operator_random _STARTINPUT_ numtext_input _ENDINPUT_ _STARTINPUT_ numtext_input _ENDINPUT_ _ENDINPUT_ _NEXT_ motion_pointindirection _STARTINPUT_ operator_random _STARTINPUT_ numtext_input _ENDINPUT_ _STARTINPUT_ numtext_input _ENDINPUT_ _ENDINPUT_ _NEXT_ control_forever _STARTNEST_ motion_movesteps _STARTINPUT_ operator_random _STARTINPUT_ numtext_input _ENDINPUT_ _STARTINPUT_ numtext_input _ENDINPUT_ _ENDINPUT_ _NEXT_ motion_ifonedgebounce _ENDNEST_ _ENDSTACK_ _STARTSTACK_ event_whenthisspriteclicked _NEXT_ motion_gotoxy _STARTINPUT_ numtext_input _ENDINPUT_ _STARTINPUT_ numtext_input _ENDINPUT_ _NEXT_ control_stop _MENU_ menu_option _MENU_ _ENDSTACK_ _STARTSTACK_ event_whenflagclicked _NEXT_ data_setvariableto _MENU_ _VAR_ _MENU_ _STARTINPUT_ numtext_input _ENDINPUT_ _NEXT_ motion_gotoxy _STARTINPUT_ operator_random _STARTINPUT_ numtext_input _ENDINPUT_ _STARTINPUT_ numtext_input _ENDINPUT_ _ENDINPUT_ _STARTINPUT_ operator_random _STARTINPUT_ numtext_input _ENDINPUT_ _STARTINPUT_ numtext_input _ENDINPUT_ _ENDINPUT_ _NEXT_ motion_pointindirection _STARTINPUT_ operator_random _STARTINPUT_ numtext_input _ENDINPUT_ _STARTINPUT_ numtext_input _ENDINPUT_ _ENDINPUT_ _NEXT_ control_forever _STARTNEST_ motion_movesteps _STARTINPUT_ operator_random _STARTINPUT_ numtext_input _ENDINPUT_ _STARTINPUT_ numtext_input _ENDINPUT_ _ENDINPUT_ _NEXT_ motion_ifonedgebounce _ENDNEST_ _ENDSTACK_\r\n",
      "_STARTSTACK_ event_whenbroadcastreceived _MENU_ menu_option _MENU_ _NEXT_ looks_hide _ENDSTACK_ _STARTSTACK_ event_whenbroadcastreceived _MENU_ menu_option _MENU_ _ENDSTACK_ _STARTSTACK_ event_whenflagclicked _NEXT_ data_setvariableto _MENU_ _VAR_ _MENU_ _STARTINPUT_ operator_random _STARTINPUT_ numtext_input _ENDINPUT_ _STARTINPUT_ numtext_input _ENDINPUT_ _ENDINPUT_ _NEXT_ control_if _STARTINPUT_ operator_equals _STARTINPUT_ _VAR_ _ENDINPUT_ _STARTINPUT_ numtext_input _ENDINPUT_ _ENDINPUT_ _STARTNEST_ data_setvariableto _MENU_ _VAR_ _MENU_ _STARTINPUT_ numtext_input _ENDINPUT_ _ENDNEST_ _NEXT_ control_if _STARTINPUT_ operator_equals _STARTINPUT_ _VAR_ _ENDINPUT_ _STARTINPUT_ numtext_input _ENDINPUT_ _ENDINPUT_ _STARTNEST_ data_setvariableto _MENU_ _VAR_ _MENU_ _STARTINPUT_ numtext_input _ENDINPUT_ _ENDNEST_ _NEXT_ control_if _STARTINPUT_ operator_equals _STARTINPUT_ _VAR_ _ENDINPUT_ _STARTINPUT_ numtext_input _ENDINPUT_ _ENDINPUT_ _STARTNEST_ data_setvariableto _MENU_ _VAR_ _MENU_ _STARTINPUT_ numtext_input _ENDINPUT_ _ENDNEST_ _NEXT_ control_if _STARTINPUT_ operator_equals _STARTINPUT_ _VAR_ _ENDINPUT_ _STARTINPUT_ numtext_input _ENDINPUT_ _ENDINPUT_ _STARTNEST_ data_setvariableto _MENU_ _VAR_ _MENU_ _STARTINPUT_ numtext_input _ENDINPUT_ _ENDNEST_ _NEXT_ event_broadcast _MENU_ menu_option _MENU_ _NEXT_ looks_show _NEXT_ data_setvariableto _MENU_ _VAR_ _MENU_ _STARTINPUT_ operator_random _STARTINPUT_ numtext_input _ENDINPUT_ _STARTINPUT_ numtext_input _ENDINPUT_ _ENDINPUT_ _NEXT_ data_setvariableto _MENU_ _VAR_ _MENU_ _STARTINPUT_ numtext_input _ENDINPUT_ _NEXT_ data_setvariableto _MENU_ _VAR_ _MENU_ _STARTINPUT_ numtext_input _ENDINPUT_ _NEXT_ data_setvariableto _MENU_ _VAR_ _MENU_ _STARTINPUT_ numtext_input _ENDINPUT_ _NEXT_ data_setvariableto _MENU_ _VAR_ _MENU_ _STARTINPUT_ numtext_input _ENDINPUT_ _NEXT_ data_setvariableto _MENU_ _VAR_ _MENU_ _STARTINPUT_ numtext_input _ENDINPUT_ _NEXT_ data_setvariableto _MENU_ _VAR_ _MENU_ _STARTINPUT_ numtext_input _ENDINPUT_ _NEXT_ motion_pointindirection _STARTINPUT_ numtext_input _ENDINPUT_ _NEXT_ pen_penUp _NEXT_ pen_clear _NEXT_ motion_gotoxy _STARTINPUT_ numtext_input _ENDINPUT_ _STARTINPUT_ numtext_input _ENDINPUT_ _NEXT_ pen_setPenSizeTo _STARTINPUT_ numtext_input _ENDINPUT_ _NEXT_ pen_penDown _NEXT_ pen_setPenColorToColor _STARTINPUT_ numtext_input _ENDINPUT_ _NEXT_ control_if _STARTINPUT_ operator_equals _STARTINPUT_ _VAR_ _ENDINPUT_ _STARTINPUT_ numtext_input _ENDINPUT_ _ENDINPUT_ _STARTNEST_ control_if_else _STARTINPUT_ operator_equals _STARTINPUT_ operator_random _STARTINPUT_ numtext_input _ENDINPUT_ _STARTINPUT_ numtext_input _ENDINPUT_ _ENDINPUT_ _STARTINPUT_ numtext_input _ENDINPUT_ _ENDINPUT_ _STARTNEST_ data_showvariable _MENU_ _VAR_ _MENU_ _NEXT_ data_showvariable _MENU_ _VAR_ _MENU_ _NEXT_ data_hidevariable _MENU_ _VAR_ _MENU_ _NEXT_ data_setvariableto _MENU_ _VAR_ _MENU_ _STARTINPUT_ operator_random _STARTINPUT_ numtext_input _ENDINPUT_ _STARTINPUT_ numtext_input _ENDINPUT_ _ENDINPUT_ _NEXT_ control_repeat _STARTINPUT_ _VAR_ _ENDINPUT_ _STARTNEST_ motion_movesteps _STARTINPUT_ numtext_input _ENDINPUT_ _ENDNEST_ _NEXT_ motion_turnleft _STARTINPUT_ numtext_input _ENDINPUT_ _NEXT_ control_repeat_until _STARTINPUT_ operator_gt _STARTINPUT_ _VAR_ _ENDINPUT_ _STARTINPUT_ _VAR_ _ENDINPUT_ _ENDINPUT_ _STARTNEST_ data_setvariableto _MENU_ _VAR_ _MENU_ _STARTINPUT_ operator_random _STARTINPUT_ numtext_input _ENDINPUT_ _STARTINPUT_ numtext_input _ENDINPUT_ _ENDINPUT_ _ENDNEST_ _NEXT_ control_repeat _STARTINPUT_ _VAR_ _ENDINPUT_ _STARTNEST_ motion_movesteps _STARTINPUT_ numtext_input _ENDINPUT_ _ENDNEST_ _NEXT_ motion_pointtowards _MENU_ menu_option _MENU_ _NEXT_ control_repeat_until _STARTINPUT_ sensing_touchingobject _MENU_ menu_option _MENU_ _ENDINPUT_ _STARTNEST_ motion_pointtowards _MENU_ menu_option _MENU_ _NEXT_ motion_movesteps _STARTINPUT_ numtext_input _ENDINPUT_ _ENDNEST_ _NEXT_ looks_hide _NEXT_ event_broadcast _MENU_ menu_option _MENU_ _NEXT_ data_setvariableto _MENU_ _VAR_ _MENU_ _STARTINPUT_ operator_round _STARTINPUT_ operator_divide _STARTINPUT_ _VAR_ _ENDINPUT_ _STARTINPUT_ numtext_input _ENDINPUT_ _ENDINPUT_ _ENDINPUT_ _NEXT_ data_setvariableto _MENU_ _VAR_ _MENU_ _STARTINPUT_ operator_round _STARTINPUT_ operator_divide _STARTINPUT_ _VAR_ _ENDINPUT_ _STARTINPUT_ numtext_input _ENDINPUT_ _ENDINPUT_ _ENDINPUT_ _NEXT_ data_setvariableto _MENU_ _VAR_ _MENU_ _STARTINPUT_ operator_join _STARTINPUT_ operator_round _STARTINPUT_ operator_mathop _MENU_ menu_option _MENU_ _STARTINPUT_ operator_add _STARTINPUT_ operator_multiply _STARTINPUT_ _VAR_ _ENDINPUT_ _STARTINPUT_ _VAR_ _ENDINPUT_ _ENDINPUT_ _STARTINPUT_ operator_multiply _STARTINPUT_ _VAR_ _ENDINPUT_ _STARTINPUT_ _VAR_ _ENDINPUT_ _ENDINPUT_ _ENDINPUT_ _ENDINPUT_ _ENDINPUT_ _STARTINPUT_ operator_join _STARTINPUT_ numtext_input _ENDINPUT_ _STARTINPUT_ _VAR_ _ENDINPUT_ _ENDINPUT_ _ENDINPUT_ _NEXT_ data_setvariableto _MENU_ _VAR_ _MENU_ _STARTINPUT_ operator_join _STARTINPUT_ operator_round _STARTINPUT_ operator_divide _STARTINPUT_ _VAR_ _ENDINPUT_ _STARTINPUT_ numtext_input _ENDINPUT_ _ENDINPUT_ _ENDINPUT_ _STARTINPUT_ operator_join _STARTINPUT_ numtext_input _ENDINPUT_ _STARTINPUT_ _VAR_ _ENDINPUT_ _ENDINPUT_ _ENDINPUT_ _NEXT_ data_setvariableto _MENU_ _VAR_ _MENU_ _STARTINPUT_ operator_join _STARTINPUT_ operator_round _STARTINPUT_ operator_divide _STARTINPUT_ _VAR_ _ENDINPUT_ _STARTINPUT_ numtext_input _ENDINPUT_ _ENDINPUT_ _ENDINPUT_ _STARTINPUT_ operator_join _STARTINPUT_ numtext_input _ENDINPUT_ _STARTINPUT_ _VAR_ _ENDINPUT_ _ENDINPUT_ _ENDINPUT_ _ENDNEST_ _STARTNEST_ data_showvariable _MENU_ _VAR_ _MENU_ _NEXT_ data_showvariable _MENU_ _VAR_ _MENU_ _NEXT_ data_hidevariable _MENU_ _VAR_ _MENU_ _NEXT_ data_setvariableto _MENU_ _VAR_ _MENU_ _STARTINPUT_ operator_random _STARTINPUT_ numtext_input _ENDINPUT_ _STARTINPUT_ numtext_input _ENDINPUT_ _ENDINPUT_ _NEXT_ control_repeat_until _STARTINPUT_ operator_gt _STARTINPUT_ _VAR_ _ENDINPUT_ _STARTINPUT_ _VAR_ _ENDINPUT_ _ENDINPUT_ _STARTNEST_ data_setvariableto _MENU_ _VAR_ _MENU_ _STARTINPUT_ operator_random _STARTINPUT_ numtext_input _ENDINPUT_ _STARTINPUT_ numtext_input _ENDINPUT_ _ENDINPUT_ _ENDNEST_ _NEXT_ control_repeat _STARTINPUT_ _VAR_ _ENDINPUT_ _STARTNEST_ motion_movesteps _STARTINPUT_ numtext_input _ENDINPUT_ _ENDNEST_ _NEXT_ motion_turnleft _STARTINPUT_ numtext_input _ENDINPUT_ _NEXT_ control_repeat _STARTINPUT_ _VAR_ _ENDINPUT_ _STARTNEST_ motion_movesteps _STARTINPUT_ numtext_input _ENDINPUT_ _ENDNEST_ _NEXT_ motion_pointtowards _MENU_ menu_option _MENU_ _NEXT_ control_repeat_until _STARTINPUT_ sensing_touchingobject _MENU_ menu_option _MENU_ _ENDINPUT_ _STARTNEST_ motion_pointtowards _MENU_ menu_option _MENU_ _NEXT_ motion_movesteps _STARTINPUT_ numtext_input _ENDINPUT_ _ENDNEST_ _NEXT_ looks_hide _NEXT_ event_broadcast _MENU_ menu_option _MENU_ _NEXT_ data_setvariableto _MENU_ _VAR_ _MENU_ _STARTINPUT_ operator_round _STARTINPUT_ operator_divide _STARTINPUT_ _VAR_ _ENDINPUT_ _STARTINPUT_ numtext_input _ENDINPUT_ _ENDINPUT_ _ENDINPUT_ _NEXT_ data_setvariableto _MENU_ _VAR_ _MENU_ _STARTINPUT_ operator_round _STARTINPUT_ operator_divide _STARTINPUT_ _VAR_ _ENDINPUT_ _STARTINPUT_ numtext_input _ENDINPUT_ _ENDINPUT_ _ENDINPUT_ _NEXT_ data_setvariableto _MENU_ _VAR_ _MENU_ _STARTINPUT_ operator_join _STARTINPUT_ operator_round _STARTINPUT_ operator_mathop _MENU_ menu_option _MENU_ _STARTINPUT_ operator_add _STARTINPUT_ operator_multiply _STARTINPUT_ _VAR_ _ENDINPUT_ _STARTINPUT_ _VAR_ _ENDINPUT_ _ENDINPUT_ _STARTINPUT_ operator_multiply _STARTINPUT_ _VAR_ _ENDINPUT_ _STARTINPUT_ _VAR_ _ENDINPUT_ _ENDINPUT_ _ENDINPUT_ _ENDINPUT_ _ENDINPUT_ _STARTINPUT_ operator_join _STARTINPUT_ numtext_input _ENDINPUT_ _STARTINPUT_ _VAR_ _ENDINPUT_ _ENDINPUT_ _ENDINPUT_ _NEXT_ data_setvariableto _MENU_ _VAR_ _MENU_ _STARTINPUT_ operator_join _STARTINPUT_ operator_round _STARTINPUT_ operator_divide _STARTINPUT_ _VAR_ _ENDINPUT_ _STARTINPUT_ numtext_input _ENDINPUT_ _ENDINPUT_ _ENDINPUT_ _STARTINPUT_ operator_join _STARTINPUT_ numtext_input _ENDINPUT_ _STARTINPUT_ _VAR_ _ENDINPUT_ _ENDINPUT_ _ENDINPUT_ _NEXT_ data_setvariableto _MENU_ _VAR_ _MENU_ _STARTINPUT_ operator_join _STARTINPUT_ operator_round _STARTINPUT_ operator_divide _STARTINPUT_ _VAR_ _ENDINPUT_ _STARTINPUT_ numtext_input _ENDINPUT_ _ENDINPUT_ _ENDINPUT_ _STARTINPUT_ operator_join _STARTINPUT_ numtext_input _ENDINPUT_ _STARTINPUT_ _VAR_ _ENDINPUT_ _ENDINPUT_ _ENDINPUT_ _ENDNEST_ _ENDNEST_ _NEXT_ control_if _STARTINPUT_ operator_equals _STARTINPUT_ _VAR_ _ENDINPUT_ _STARTINPUT_ numtext_input _ENDINPUT_ _ENDINPUT_ _STARTNEST_ control_if_else _STARTINPUT_ operator_equals _STARTINPUT_ operator_random _STARTINPUT_ numtext_input _ENDINPUT_ _STARTINPUT_ numtext_input _ENDINPUT_ _ENDINPUT_ _STARTINPUT_ numtext_input _ENDINPUT_ _ENDINPUT_ _STARTNEST_ data_hidevariable _MENU_ _VAR_ _MENU_ _NEXT_ data_showvariable _MENU_ _VAR_ _MENU_ _NEXT_ data_showvariable _MENU_ _VAR_ _MENU_ _NEXT_ data_setvariableto _MENU_ _VAR_ _MENU_ _STARTINPUT_ operator_random _STARTINPUT_ numtext_input _ENDINPUT_ _STARTINPUT_ numtext_input _ENDINPUT_ _ENDINPUT_ _NEXT_ control_repeat _STARTINPUT_ _VAR_ _ENDINPUT_ _STARTNEST_ motion_movesteps _STARTINPUT_ numtext_input _ENDINPUT_ _ENDNEST_ _NEXT_ motion_turnleft _STARTINPUT_ numtext_input _ENDINPUT_ _NEXT_ control_repeat_until _STARTINPUT_ operator_gt _STARTINPUT_ _VAR_ _ENDINPUT_ _STARTINPUT_ _VAR_ _ENDINPUT_ _ENDINPUT_ _STARTNEST_ data_setvariableto _MENU_ _VAR_ _MENU_ _STARTINPUT_ operator_random _STARTINPUT_ numtext_input _ENDINPUT_ _STARTINPUT_ numtext_input _ENDINPUT_ _ENDINPUT_ _ENDNEST_ _NEXT_ control_repeat _STARTINPUT_ _VAR_ _ENDINPUT_ _STARTNEST_ motion_movesteps _STARTINPUT_ numtext_input _ENDINPUT_ _ENDNEST_ _NEXT_ motion_pointtowards _MENU_ menu_option _MENU_ _NEXT_ control_repeat_until _STARTINPUT_ sensing_touchingobject _MENU_ menu_option _MENU_ _ENDINPUT_ _STARTNEST_ motion_pointtowards _MENU_ menu_option _MENU_ _NEXT_ motion_movesteps _STARTINPUT_ numtext_input _ENDINPUT_ _ENDNEST_ _NEXT_ data_setvariableto _MENU_ _VAR_ _MENU_ _STARTINPUT_ numtext_input _ENDINPUT_ _NEXT_ looks_hide _NEXT_ event_broadcast _MENU_ menu_option _MENU_ _NEXT_ data_setvariableto _MENU_ _VAR_ _MENU_ _STARTINPUT_ operator_round _STARTINPUT_ operator_divide _STARTINPUT_ _VAR_ _ENDINPUT_ _STARTINPUT_ numtext_input _ENDINPUT_ _ENDINPUT_ _ENDINPUT_ _NEXT_ data_setvariableto _MENU_ _VAR_ _MENU_ _STARTINPUT_ operator_round _STARTINPUT_ operator_divide _STARTINPUT_ _VAR_ _ENDINPUT_ _STARTINPUT_ numtext_input _ENDINPUT_ _ENDINPUT_ _ENDINPUT_ _NEXT_ data_setvariableto _MENU_ _VAR_ _MENU_ _STARTINPUT_ operator_join _STARTINPUT_ operator_round _STARTINPUT_ operator_mathop _MENU_ menu_option _MENU_ _STARTINPUT_ operator_add _STARTINPUT_ operator_multiply _STARTINPUT_ _VAR_ _ENDINPUT_ _STARTINPUT_ _VAR_ _ENDINPUT_ _ENDINPUT_ _STARTINPUT_ operator_multiply _STARTINPUT_ _VAR_ _ENDINPUT_ _STARTINPUT_ _VAR_ _ENDINPUT_ _ENDINPUT_ _ENDINPUT_ _ENDINPUT_ _ENDINPUT_ _STARTINPUT_ operator_join _STARTINPUT_ numtext_input _ENDINPUT_ _STARTINPUT_ _VAR_ _ENDINPUT_ _ENDINPUT_ _ENDINPUT_ _NEXT_ data_setvariableto _MENU_ _VAR_ _MENU_ _STARTINPUT_ operator_join _STARTINPUT_ operator_round _STARTINPUT_ operator_divide _STARTINPUT_ _VAR_ _ENDINPUT_ _STARTINPUT_ numtext_input _ENDINPUT_ _ENDINPUT_ _ENDINPUT_ _STARTINPUT_ operator_join _STARTINPUT_ numtext_input _ENDINPUT_ _STARTINPUT_ _VAR_ _ENDINPUT_ _ENDINPUT_ _ENDINPUT_ _NEXT_ data_setvariableto _MENU_ _VAR_ _MENU_ _STARTINPUT_ operator_join _STARTINPUT_ operator_round _STARTINPUT_ operator_divide _STARTINPUT_ _VAR_ _ENDINPUT_ _STARTINPUT_ numtext_input _ENDINPUT_ _ENDINPUT_ _ENDINPUT_ _STARTINPUT_ operator_join _STARTINPUT_ numtext_input _ENDINPUT_ _STARTINPUT_ _VAR_ _ENDINPUT_ _ENDINPUT_ _ENDINPUT_ _ENDNEST_ _STARTNEST_ data_hidevariable _MENU_ _VAR_ _MENU_ _NEXT_ data_showvariable _MENU_ _VAR_ _MENU_ _NEXT_ data_showvariable _MENU_ _VAR_ _MENU_ _NEXT_ data_setvariableto _MENU_ _VAR_ _MENU_ _STARTINPUT_ operator_random _STARTINPUT_ numtext_input _ENDINPUT_ _STARTINPUT_ numtext_input _ENDINPUT_ _ENDINPUT_ _NEXT_ control_repeat_until _STARTINPUT_ operator_gt _STARTINPUT_ _VAR_ _ENDINPUT_ _STARTINPUT_ _VAR_ _ENDINPUT_ _ENDINPUT_ _STARTNEST_ data_setvariableto _MENU_ _VAR_ _MENU_ _STARTINPUT_ operator_random _STARTINPUT_ numtext_input _ENDINPUT_ _STARTINPUT_ numtext_input _ENDINPUT_ _ENDINPUT_ _ENDNEST_ _NEXT_ control_repeat _STARTINPUT_ _VAR_ _ENDINPUT_ _STARTNEST_ motion_movesteps _STARTINPUT_ numtext_input _ENDINPUT_ _ENDNEST_ _NEXT_ motion_turnleft _STARTINPUT_ numtext_input _ENDINPUT_ _NEXT_ control_repeat _STARTINPUT_ _VAR_ _ENDINPUT_ _STARTNEST_ motion_movesteps _STARTINPUT_ numtext_input _ENDINPUT_ _ENDNEST_ _NEXT_ motion_pointtowards _MENU_ menu_option _MENU_ _NEXT_ control_repeat_until _STARTINPUT_ sensing_touchingobject _MENU_ menu_option _MENU_ _ENDINPUT_ _STARTNEST_ motion_pointtowards _MENU_ menu_option _MENU_ _NEXT_ motion_movesteps _STARTINPUT_ numtext_input _ENDINPUT_ _ENDNEST_ _NEXT_ looks_hide _NEXT_ event_broadcast _MENU_ menu_option _MENU_ _NEXT_ data_setvariableto _MENU_ _VAR_ _MENU_ _STARTINPUT_ operator_round _STARTINPUT_ operator_divide _STARTINPUT_ _VAR_ _ENDINPUT_ _STARTINPUT_ numtext_input _ENDINPUT_ _ENDINPUT_ _ENDINPUT_ _NEXT_ data_setvariableto _MENU_ _VAR_ _MENU_ _STARTINPUT_ operator_round _STARTINPUT_ operator_divide _STARTINPUT_ _VAR_ _ENDINPUT_ _STARTINPUT_ numtext_input _ENDINPUT_ _ENDINPUT_ _ENDINPUT_ _NEXT_ data_setvariableto _MENU_ _VAR_ _MENU_ _STARTINPUT_ operator_join _STARTINPUT_ operator_round _STARTINPUT_ operator_mathop _MENU_ menu_option _MENU_ _STARTINPUT_ operator_add _STARTINPUT_ operator_multiply _STARTINPUT_ _VAR_ _ENDINPUT_ _STARTINPUT_ _VAR_ _ENDINPUT_ _ENDINPUT_ _STARTINPUT_ operator_multiply _STARTINPUT_ _VAR_ _ENDINPUT_ _STARTINPUT_ _VAR_ _ENDINPUT_ _ENDINPUT_ _ENDINPUT_ _ENDINPUT_ _ENDINPUT_ _STARTINPUT_ operator_join _STARTINPUT_ numtext_input _ENDINPUT_ _STARTINPUT_ _VAR_ _ENDINPUT_ _ENDINPUT_ _ENDINPUT_ _NEXT_ data_setvariableto _MENU_ _VAR_ _MENU_ _STARTINPUT_ operator_join _STARTINPUT_ operator_round _STARTINPUT_ operator_divide _STARTINPUT_ _VAR_ _ENDINPUT_ _STARTINPUT_ numtext_input _ENDINPUT_ _ENDINPUT_ _ENDINPUT_ _STARTINPUT_ operator_join _STARTINPUT_ numtext_input _ENDINPUT_ _STARTINPUT_ _VAR_ _ENDINPUT_ _ENDINPUT_ _ENDINPUT_ _NEXT_ data_setvariableto _MENU_ _VAR_ _MENU_ _STARTINPUT_ operator_join _STARTINPUT_ operator_round _STARTINPUT_ operator_divide _STARTINPUT_ _VAR_ _ENDINPUT_ _STARTINPUT_ numtext_input _ENDINPUT_ _ENDINPUT_ _ENDINPUT_ _STARTINPUT_ operator_join _STARTINPUT_ numtext_input _ENDINPUT_ _STARTINPUT_ _VAR_ _ENDINPUT_ _ENDINPUT_ _ENDINPUT_ _ENDNEST_ _ENDNEST_ _NEXT_ control_if _STARTINPUT_ operator_equals _STARTINPUT_ _VAR_ _ENDINPUT_ _STARTINPUT_ numtext_input _ENDINPUT_ _ENDINPUT_ _STARTNEST_ control_if_else _STARTINPUT_ operator_equals _STARTINPUT_ operator_random _STARTINPUT_ numtext_input _ENDINPUT_ _STARTINPUT_ numtext_input _ENDINPUT_ _ENDINPUT_ _STARTINPUT_ numtext_input _ENDINPUT_ _ENDINPUT_ _STARTNEST_ data_hidevariable _MENU_ _VAR_ _MENU_ _NEXT_ data_showvariable _MENU_ _VAR_ _MENU_ _NEXT_ data_showvariable _MENU_ _VAR_ _MENU_ _NEXT_ data_setvariableto _MENU_ _VAR_ _MENU_ _STARTINPUT_ operator_random _STARTINPUT_ numtext_input _ENDINPUT_ _STARTINPUT_ numtext_input _ENDINPUT_ _ENDINPUT_ _NEXT_ control_repeat _STARTINPUT_ _VAR_ _ENDINPUT_ _STARTNEST_ motion_movesteps _STARTINPUT_ numtext_input _ENDINPUT_ _ENDNEST_ _NEXT_ motion_turnleft _STARTINPUT_ numtext_input _ENDINPUT_ _NEXT_ control_repeat_until _STARTINPUT_ operator_gt _STARTINPUT_ _VAR_ _ENDINPUT_ _STARTINPUT_ _VAR_ _ENDINPUT_ _ENDINPUT_ _STARTNEST_ data_setvariableto _MENU_ _VAR_ _MENU_ _STARTINPUT_ operator_random _STARTINPUT_ numtext_input _ENDINPUT_ _STARTINPUT_ numtext_input _ENDINPUT_ _ENDINPUT_ _ENDNEST_ _NEXT_ control_repeat _STARTINPUT_ _VAR_ _ENDINPUT_ _STARTNEST_ motion_movesteps _STARTINPUT_ numtext_input _ENDINPUT_ _ENDNEST_ _NEXT_ motion_pointtowards _MENU_ menu_option _MENU_ _NEXT_ control_repeat_until _STARTINPUT_ sensing_touchingobject _MENU_ menu_option _MENU_ _ENDINPUT_ _STARTNEST_ motion_pointtowards _MENU_ menu_option _MENU_ _NEXT_ motion_movesteps _STARTINPUT_ numtext_input _ENDINPUT_ _ENDNEST_ _NEXT_ looks_hide _NEXT_ event_broadcast _MENU_ menu_option _MENU_ _NEXT_ data_setvariableto _MENU_ _VAR_ _MENU_ _STARTINPUT_ operator_round _STARTINPUT_ operator_divide _STARTINPUT_ _VAR_ _ENDINPUT_ _STARTINPUT_ numtext_input _ENDINPUT_ _ENDINPUT_ _ENDINPUT_ _NEXT_ data_setvariableto _MENU_ _VAR_ _MENU_ _STARTINPUT_ operator_round _STARTINPUT_ operator_divide _STARTINPUT_ _VAR_ _ENDINPUT_ _STARTINPUT_ numtext_input _ENDINPUT_ _ENDINPUT_ _ENDINPUT_ _NEXT_ data_setvariableto _MENU_ _VAR_ _MENU_ _STARTINPUT_ operator_join _STARTINPUT_ operator_round _STARTINPUT_ operator_mathop _MENU_ menu_option _MENU_ _STARTINPUT_ operator_add _STARTINPUT_ operator_multiply _STARTINPUT_ _VAR_ _ENDINPUT_ _STARTINPUT_ _VAR_ _ENDINPUT_ _ENDINPUT_ _STARTINPUT_ operator_multiply _STARTINPUT_ _VAR_ _ENDINPUT_ _STARTINPUT_ _VAR_ _ENDINPUT_ _ENDINPUT_ _ENDINPUT_ _ENDINPUT_ _ENDINPUT_ _STARTINPUT_ operator_join _STARTINPUT_ numtext_input _ENDINPUT_ _STARTINPUT_ _VAR_ _ENDINPUT_ _ENDINPUT_ _ENDINPUT_ _NEXT_ data_setvariableto _MENU_ _VAR_ _MENU_ _STARTINPUT_ operator_join _STARTINPUT_ operator_round _STARTINPUT_ operator_divide _STARTINPUT_ _VAR_ _ENDINPUT_ _STARTINPUT_ numtext_input _ENDINPUT_ _ENDINPUT_ _ENDINPUT_ _STARTINPUT_ operator_join _STARTINPUT_ numtext_input _ENDINPUT_ _STARTINPUT_ _VAR_ _ENDINPUT_ _ENDINPUT_ _ENDINPUT_ _NEXT_ data_setvariableto _MENU_ _VAR_ _MENU_ _STARTINPUT_ operator_join _STARTINPUT_ operator_round _STARTINPUT_ operator_divide _STARTINPUT_ _VAR_ _ENDINPUT_ _STARTINPUT_ numtext_input _ENDINPUT_ _ENDINPUT_ _ENDINPUT_ _STARTINPUT_ operator_join _STARTINPUT_ numtext_input _ENDINPUT_ _STARTINPUT_ _VAR_ _ENDINPUT_ _ENDINPUT_ _ENDINPUT_ _ENDNEST_ _STARTNEST_ data_setvariableto _MENU_ _VAR_ _MENU_ _STARTINPUT_ operator_random _STARTINPUT_ numtext_input _ENDINPUT_ _STARTINPUT_ numtext_input _ENDINPUT_ _ENDINPUT_ _NEXT_ control_repeat_until _STARTINPUT_ operator_gt _STARTINPUT_ _VAR_ _ENDINPUT_ _STARTINPUT_ _VAR_ _ENDINPUT_ _ENDINPUT_ _STARTNEST_ data_setvariableto _MENU_ _VAR_ _MENU_ _STARTINPUT_ operator_random _STARTINPUT_ numtext_input _ENDINPUT_ _STARTINPUT_ numtext_input _ENDINPUT_ _ENDINPUT_ _ENDNEST_ _NEXT_ control_repeat _STARTINPUT_ _VAR_ _ENDINPUT_ _STARTNEST_ motion_movesteps _STARTINPUT_ numtext_input _ENDINPUT_ _ENDNEST_ _NEXT_ motion_turnleft _STARTINPUT_ numtext_input _ENDINPUT_ _NEXT_ control_repeat _STARTINPUT_ _VAR_ _ENDINPUT_ _STARTNEST_ motion_movesteps _STARTINPUT_ numtext_input _ENDINPUT_ _ENDNEST_ _NEXT_ motion_pointtowards _MENU_ menu_option _MENU_ _NEXT_ control_repeat_until _STARTINPUT_ sensing_touchingobject _MENU_ menu_option _MENU_ _ENDINPUT_ _STARTNEST_ motion_pointtowards _MENU_ menu_option _MENU_ _NEXT_ motion_movesteps _STARTINPUT_ numtext_input _ENDINPUT_ _ENDNEST_ _NEXT_ looks_hide _NEXT_ event_broadcast _MENU_ menu_option _MENU_ _NEXT_ data_setvariableto _MENU_ _VAR_ _MENU_ _STARTINPUT_ operator_round _STARTINPUT_ operator_divide _STARTINPUT_ _VAR_ _ENDINPUT_ _STARTINPUT_ numtext_input _ENDINPUT_ _ENDINPUT_ _ENDINPUT_ _NEXT_ data_setvariableto _MENU_ _VAR_ _MENU_ _STARTINPUT_ operator_round _STARTINPUT_ operator_divide _STARTINPUT_ _VAR_ _ENDINPUT_ _STARTINPUT_ numtext_input _ENDINPUT_ _ENDINPUT_ _ENDINPUT_ _NEXT_ data_setvariableto _MENU_ _VAR_ _MENU_ _STARTINPUT_ operator_join _STARTINPUT_ operator_round _STARTINPUT_ operator_mathop _MENU_ menu_option _MENU_ _STARTINPUT_ operator_add _STARTINPUT_ operator_multiply _STARTINPUT_ _VAR_ _ENDINPUT_ _STARTINPUT_ _VAR_ _ENDINPUT_ _ENDINPUT_ _STARTINPUT_ operator_multiply _STARTINPUT_ _VAR_ _ENDINPUT_ _STARTINPUT_ _VAR_ _ENDINPUT_ _ENDINPUT_ _ENDINPUT_ _ENDINPUT_ _ENDINPUT_ _STARTINPUT_ operator_join _STARTINPUT_ numtext_input _ENDINPUT_ _STARTINPUT_ _VAR_ _ENDINPUT_ _ENDINPUT_ _ENDINPUT_ _NEXT_ data_setvariableto _MENU_ _VAR_ _MENU_ _STARTINPUT_ operator_join _STARTINPUT_ operator_round _STARTINPUT_ operator_divide _STARTINPUT_ _VAR_ _ENDINPUT_ _STARTINPUT_ numtext_input _ENDINPUT_ _ENDINPUT_ _ENDINPUT_ _STARTINPUT_ operator_join _STARTINPUT_ numtext_input _ENDINPUT_ _STARTINPUT_ _VAR_ _ENDINPUT_ _ENDINPUT_ _ENDINPUT_ _NEXT_ data_setvariableto _MENU_ _VAR_ _MENU_ _STARTINPUT_ operator_join _STARTINPUT_ operator_round _STARTINPUT_ operator_divide _STARTINPUT_ _VAR_ _ENDINPUT_ _STARTINPUT_ numtext_input _ENDINPUT_ _ENDINPUT_ _ENDINPUT_ _STARTINPUT_ operator_join _STARTINPUT_ numtext_input _ENDINPUT_ _STARTINPUT_ _VAR_ _ENDINPUT_ _ENDINPUT_ _ENDINPUT_ _ENDNEST_ _ENDNEST_ _ENDSTACK_ _STARTSTACK_ event_whenflagclicked _NEXT_ motion_gotoxy _STARTINPUT_ numtext_input _ENDINPUT_ _STARTINPUT_ numtext_input _ENDINPUT_ _NEXT_ control_forever _STARTNEST_ looks_show _ENDNEST_ _ENDSTACK_ _STARTSTACK_ event_whenbroadcastreceived _MENU_ menu_option _MENU_ _NEXT_ control_stop _MENU_ menu_option _MENU_ _NEXT_ looks_hide _ENDSTACK_ _STARTSTACK_ event_whenbroadcastreceived _MENU_ menu_option _MENU_ _NEXT_ looks_hide _ENDSTACK_ _STARTSTACK_ event_whenflagclicked _ENDSTACK_ _STARTSTACK_ event_whenbroadcastreceived _MENU_ menu_option _MENU_ _NEXT_ pen_setPenSizeTo _STARTINPUT_ numtext_input _ENDINPUT_ _NEXT_ pen_penUp _NEXT_ motion_gotoxy _STARTINPUT_ numtext_input _ENDINPUT_ _STARTINPUT_ numtext_input _ENDINPUT_ _NEXT_ motion_goto _MENU_ menu_option _MENU_ _NEXT_ looks_show _NEXT_ control_repeat_until _STARTINPUT_ operator_not _STARTINPUT_ sensing_touchingobject _MENU_ menu_option _MENU_ _ENDINPUT_ _ENDINPUT_ _STARTNEST_ motion_gotoxy _STARTINPUT_ sensing_of _MENU_ menu_option _MENU_ _MENU_ menu_option _MENU_ _ENDINPUT_ _STARTINPUT_ numtext_input _ENDINPUT_ _ENDNEST_ _NEXT_ motion_pointindirection _STARTINPUT_ numtext_input _ENDINPUT_ _NEXT_ motion_movesteps _STARTINPUT_ numtext_input _ENDINPUT_ _NEXT_ pen_setPenColorToColor _STARTINPUT_ numtext_input _ENDINPUT_ _NEXT_ pen_penDown _NEXT_ motion_pointindirection _STARTINPUT_ numtext_input _ENDINPUT_ _NEXT_ motion_movesteps _STARTINPUT_ numtext_input _ENDINPUT_ _NEXT_ motion_pointindirection _STARTINPUT_ numtext_input _ENDINPUT_ _NEXT_ motion_movesteps _STARTINPUT_ numtext_input _ENDINPUT_ _ENDSTACK_\r\n",
      "_STARTSTACK_ procedures_definition _NEXT_ data_setvariableto _MENU_ _VAR_ _MENU_ _STARTINPUT_ numtext_input _ENDINPUT_ _NEXT_ data_setvariableto _MENU_ _VAR_ _MENU_ _STARTINPUT_ numtext_input _ENDINPUT_ _NEXT_ data_setvariableto _MENU_ _VAR_ _MENU_ _STARTINPUT_ numtext_input _ENDINPUT_ _NEXT_ data_setvariableto _MENU_ _VAR_ _MENU_ _STARTINPUT_ numtext_input _ENDINPUT_ _ENDSTACK_ _STARTSTACK_ procedures_definition _NEXT_ looks_switchcostumeto _MENU_ menu_option _MENU_ _NEXT_ looks_switchcostumeto _STARTINPUT_ _NUMTEXTARG_ _ENDINPUT_ _NEXT_ control_if_else _STARTINPUT_ operator_not _STARTINPUT_ operator_or _STARTINPUT_ operator_equals _STARTINPUT_ _VAR_ _ENDINPUT_ _STARTINPUT_ numtext_input _ENDINPUT_ _ENDINPUT_ _STARTINPUT_ operator_equals _STARTINPUT_ _VAR_ _ENDINPUT_ _STARTINPUT_ numtext_input _ENDINPUT_ _ENDINPUT_ _ENDINPUT_ _ENDINPUT_ _STARTNEST_ control_if_else _STARTINPUT_ operator_equals _STARTINPUT_ looks_costumenumbername _MENU_ menu_option _MENU_ _ENDINPUT_ _STARTINPUT_ numtext_input _ENDINPUT_ _ENDINPUT_ _STARTNEST_ data_setvariableto _MENU_ _VAR_ _MENU_ _STARTINPUT_ numtext_input _ENDINPUT_ _ENDNEST_ _STARTNEST_ data_setvariableto _MENU_ _VAR_ _MENU_ _STARTINPUT_ numtext_input _ENDINPUT_ _ENDNEST_ _ENDNEST_ _STARTNEST_ data_setvariableto _MENU_ _VAR_ _MENU_ _STARTINPUT_ operator_subtract _STARTINPUT_ _VAR_ _ENDINPUT_ _STARTINPUT_ numtext_input _ENDINPUT_ _ENDINPUT_ _ENDNEST_ _ENDSTACK_ _STARTSTACK_ procedures_definition _NEXT_ data_deleteoflist _MENU_ _LIST_ _MENU_ _STARTINPUT_ numtext_input _ENDINPUT_ _NEXT_ data_setvariableto _MENU_ _VAR_ _MENU_ _STARTINPUT_ numtext_input _ENDINPUT_ _NEXT_ data_addtolist _MENU_ _LIST_ _MENU_ _NEXT_ data_deleteoflist _MENU_ _LIST_ _MENU_ _STARTINPUT_ numtext_input _ENDINPUT_ _NEXT_ control_repeat _STARTINPUT_ operator_length _STARTINPUT_ _NUMTEXTARG_ _ENDINPUT_ _ENDINPUT_ _STARTNEST_ data_changevariableby _MENU_ _VAR_ _MENU_ _STARTINPUT_ numtext_input _ENDINPUT_ _NEXT_ control_if_else _STARTINPUT_ operator_equals _STARTINPUT_ operator_letter_of _STARTINPUT_ _VAR_ _ENDINPUT_ _STARTINPUT_ _NUMTEXTARG_ _ENDINPUT_ _ENDINPUT_ _STARTINPUT_ numtext_input _ENDINPUT_ _ENDINPUT_ _STARTNEST_ data_addtolist _MENU_ _LIST_ _MENU_ _ENDNEST_ _STARTNEST_ procedures_call _STARTINPUT_ operator_letter_of _STARTINPUT_ _VAR_ _ENDINPUT_ _STARTINPUT_ _NUMTEXTARG_ _ENDINPUT_ _ENDINPUT_ _NEXT_ control_if _STARTINPUT_ operator_lt _STARTINPUT_ _VAR_ _ENDINPUT_ _STARTINPUT_ numtext_input _ENDINPUT_ _ENDINPUT_ _STARTNEST_ procedures_call _STARTINPUT_ operator_letter_of _STARTINPUT_ _VAR_ _ENDINPUT_ _STARTINPUT_ _NUMTEXTARG_ _ENDINPUT_ _ENDINPUT_ _NEXT_ data_setvariableto _MENU_ _VAR_ _MENU_ _STARTINPUT_ operator_add _STARTINPUT_ _VAR_ _ENDINPUT_ _STARTINPUT_ operator_multiply _STARTINPUT_ numtext_input _ENDINPUT_ _STARTINPUT_ _VAR_ _ENDINPUT_ _ENDINPUT_ _ENDINPUT_ _ENDNEST_ _NEXT_ data_addtolist _MENU_ _LIST_ _MENU_ _STARTINPUT_ _VAR_ _ENDINPUT_ _NEXT_ data_replaceitemoflist _MENU_ _LIST_ _MENU_ _STARTINPUT_ data_lengthoflist _MENU_ _LIST_ _MENU_ _ENDINPUT_ _STARTINPUT_ operator_add _STARTINPUT_ data_itemoflist _MENU_ _LIST_ _MENU_ _STARTINPUT_ data_lengthoflist _MENU_ _LIST_ _MENU_ _ENDINPUT_ _ENDINPUT_ _STARTINPUT_ operator_add _STARTINPUT_ operator_letter_of _STARTINPUT_ numtext_input _ENDINPUT_ _STARTINPUT_ data_itemoflist _MENU_ _LIST_ _MENU_ _STARTINPUT_ _VAR_ _ENDINPUT_ _ENDINPUT_ _ENDINPUT_ _STARTINPUT_ numtext_input _ENDINPUT_ _ENDINPUT_ _ENDINPUT_ _ENDNEST_ _ENDNEST_ _NEXT_ data_deleteoflist _MENU_ _LIST_ _MENU_ _STARTINPUT_ numtext_input _ENDINPUT_ _NEXT_ data_setvariableto _MENU_ _VAR_ _MENU_ _STARTINPUT_ numtext_input _ENDINPUT_ _NEXT_ data_addtolist _MENU_ _LIST_ _MENU_ _NEXT_ control_repeat _STARTINPUT_ operator_length _STARTINPUT_ _NUMTEXTARG_ _ENDINPUT_ _ENDINPUT_ _STARTNEST_ data_changevariableby _MENU_ _VAR_ _MENU_ _STARTINPUT_ numtext_input _ENDINPUT_ _NEXT_ control_if_else _STARTINPUT_ operator_equals _STARTINPUT_ operator_letter_of _STARTINPUT_ _VAR_ _ENDINPUT_ _STARTINPUT_ _NUMTEXTARG_ _ENDINPUT_ _ENDINPUT_ _STARTINPUT_ numtext_input _ENDINPUT_ _ENDINPUT_ _STARTNEST_ data_addtolist _MENU_ _LIST_ _MENU_ _ENDNEST_ _STARTNEST_ data_replaceitemoflist _MENU_ _LIST_ _MENU_ _STARTINPUT_ data_lengthoflist _MENU_ _LIST_ _MENU_ _ENDINPUT_ _STARTINPUT_ operator_join _STARTINPUT_ data_itemoflist _MENU_ _LIST_ _MENU_ _STARTINPUT_ data_lengthoflist _MENU_ _LIST_ _MENU_ _ENDINPUT_ _ENDINPUT_ _STARTINPUT_ operator_letter_of _STARTINPUT_ _VAR_ _ENDINPUT_ _STARTINPUT_ _NUMTEXTARG_ _ENDINPUT_ _ENDINPUT_ _ENDINPUT_ _ENDNEST_ _ENDNEST_ _ENDSTACK_ _STARTSTACK_ procedures_definition _NEXT_ looks_hide _NEXT_ control_if _STARTINPUT_ operator_not _STARTINPUT_ operator_equals _STARTINPUT_ _VAR_ _ENDINPUT_ _STARTINPUT_ _NUMTEXTARG_ _ENDINPUT_ _ENDINPUT_ _ENDINPUT_ _STARTNEST_ procedures_call _STARTINPUT_ _NUMTEXTARG_ _ENDINPUT_ _NEXT_ data_setvariableto _MENU_ _VAR_ _MENU_ _STARTINPUT_ _NUMTEXTARG_ _ENDINPUT_ _ENDNEST_ _NEXT_ control_if _STARTINPUT_ operator_equals _STARTINPUT_ operator_multiply _STARTINPUT_ _NUMTEXTARG_ _ENDINPUT_ _STARTINPUT_ numtext_input _ENDINPUT_ _ENDINPUT_ _STARTINPUT_ _NUMTEXTARG_ _ENDINPUT_ _ENDINPUT_ _STARTNEST_ data_setvariableto _MENU_ _VAR_ _MENU_ _STARTINPUT_ _NUMTEXTARG_ _ENDINPUT_ _ENDNEST_ _NEXT_ control_if _STARTINPUT_ operator_equals _STARTINPUT_ operator_multiply _STARTINPUT_ _NUMTEXTARG_ _ENDINPUT_ _STARTINPUT_ numtext_input _ENDINPUT_ _ENDINPUT_ _STARTINPUT_ _NUMTEXTARG_ _ENDINPUT_ _ENDINPUT_ _STARTNEST_ data_setvariableto _MENU_ _VAR_ _MENU_ _STARTINPUT_ _NUMTEXTARG_ _ENDINPUT_ _NEXT_ motion_setx _STARTINPUT_ _VAR_ _ENDINPUT_ _ENDNEST_ _NEXT_ control_if _STARTINPUT_ operator_equals _STARTINPUT_ operator_multiply _STARTINPUT_ _NUMTEXTARG_ _ENDINPUT_ _STARTINPUT_ numtext_input _ENDINPUT_ _ENDINPUT_ _STARTINPUT_ _NUMTEXTARG_ _ENDINPUT_ _ENDINPUT_ _STARTNEST_ data_setvariableto _MENU_ _VAR_ _MENU_ _STARTINPUT_ operator_subtract _STARTINPUT_ _NUMTEXTARG_ _ENDINPUT_ _STARTINPUT_ numtext_input _ENDINPUT_ _ENDINPUT_ _ENDNEST_ _NEXT_ control_if _STARTINPUT_ operator_equals _STARTINPUT_ operator_multiply _STARTINPUT_ _NUMTEXTARG_ _ENDINPUT_ _STARTINPUT_ numtext_input _ENDINPUT_ _ENDINPUT_ _STARTINPUT_ _NUMTEXTARG_ _ENDINPUT_ _ENDINPUT_ _STARTNEST_ motion_sety _STARTINPUT_ _NUMTEXTARG_ _ENDINPUT_ _NEXT_ data_setvariableto _MENU_ _VAR_ _MENU_ _STARTINPUT_ motion_yposition _ENDINPUT_ _ENDNEST_ _NEXT_ control_if _STARTINPUT_ operator_equals _STARTINPUT_ operator_multiply _STARTINPUT_ _NUMTEXTARG_ _ENDINPUT_ _STARTINPUT_ numtext_input _ENDINPUT_ _ENDINPUT_ _STARTINPUT_ _NUMTEXTARG_ _ENDINPUT_ _ENDINPUT_ _STARTNEST_ data_setvariableto _MENU_ _VAR_ _MENU_ _STARTINPUT_ _NUMTEXTARG_ _ENDINPUT_ _ENDNEST_ _NEXT_ motion_sety _STARTINPUT_ _VAR_ _ENDINPUT_ _NEXT_ data_setvariableto _MENU_ _VAR_ _MENU_ _STARTINPUT_ numtext_input _ENDINPUT_ _NEXT_ data_setvariableto _MENU_ _VAR_ _MENU_ _STARTINPUT_ numtext_input _ENDINPUT_ _NEXT_ data_setvariableto _MENU_ _VAR_ _MENU_ _STARTINPUT_ numtext_input _ENDINPUT_ _NEXT_ control_repeat _STARTINPUT_ data_lengthoflist _MENU_ _LIST_ _MENU_ _ENDINPUT_ _STARTNEST_ control_if _STARTINPUT_ operator_gt _STARTINPUT_ operator_add _STARTINPUT_ motion_xposition _ENDINPUT_ _STARTINPUT_ operator_multiply _STARTINPUT_ data_itemoflist _MENU_ _LIST_ _MENU_ _STARTINPUT_ _VAR_ _ENDINPUT_ _ENDINPUT_ _STARTINPUT_ _VAR_ _ENDINPUT_ _ENDINPUT_ _ENDINPUT_ _STARTINPUT_ _VAR_ _ENDINPUT_ _ENDINPUT_ _STARTNEST_ control_if _STARTINPUT_ operator_not _STARTINPUT_ operator_gt _STARTINPUT_ operator_multiply _STARTINPUT_ data_itemoflist _MENU_ _LIST_ _MENU_ _STARTINPUT_ _VAR_ _ENDINPUT_ _ENDINPUT_ _STARTINPUT_ _VAR_ _ENDINPUT_ _ENDINPUT_ _STARTINPUT_ operator_subtract _STARTINPUT_ _VAR_ _ENDINPUT_ _STARTINPUT_ _VAR_ _ENDINPUT_ _ENDINPUT_ _ENDINPUT_ _ENDINPUT_ _STARTNEST_ control_if _STARTINPUT_ operator_lt _STARTINPUT_ operator_subtract _STARTINPUT_ _VAR_ _ENDINPUT_ _STARTINPUT_ operator_multiply _STARTINPUT_ _VAR_ _ENDINPUT_ _STARTINPUT_ numtext_input _ENDINPUT_ _ENDINPUT_ _ENDINPUT_ _STARTINPUT_ _VAR_ _ENDINPUT_ _ENDINPUT_ _STARTNEST_ data_setvariableto _MENU_ _VAR_ _MENU_ _STARTINPUT_ numtext_input _ENDINPUT_ _ENDNEST_ _NEXT_ motion_setx _STARTINPUT_ _VAR_ _ENDINPUT_ _NEXT_ data_changevariableby _MENU_ _VAR_ _MENU_ _STARTINPUT_ operator_multiply _STARTINPUT_ _VAR_ _ENDINPUT_ _STARTINPUT_ numtext_input _ENDINPUT_ _ENDINPUT_ _NEXT_ motion_sety _STARTINPUT_ _VAR_ _ENDINPUT_ _ENDNEST_ _ENDNEST_ _NEXT_ control_repeat _STARTINPUT_ operator_length _STARTINPUT_ data_itemoflist _MENU_ _LIST_ _MENU_ _STARTINPUT_ _VAR_ _ENDINPUT_ _ENDINPUT_ _ENDINPUT_ _STARTNEST_ control_if _STARTINPUT_ operator_not _STARTINPUT_ operator_equals _STARTINPUT_ _VAR_ _ENDINPUT_ _STARTINPUT_ numtext_input _ENDINPUT_ _ENDINPUT_ _ENDINPUT_ _STARTNEST_ control_if _STARTINPUT_ operator_lt _STARTINPUT_ _VAR_ _ENDINPUT_ _STARTINPUT_ operator_add _STARTINPUT_ motion_xposition _ENDINPUT_ _STARTINPUT_ operator_multiply _STARTINPUT_ operator_add _STARTINPUT_ operator_letter_of _STARTINPUT_ numtext_input _ENDINPUT_ _STARTINPUT_ data_itemoflist _MENU_ _LIST_ _MENU_ _STARTINPUT_ _VAR_ _ENDINPUT_ _ENDINPUT_ _ENDINPUT_ _STARTINPUT_ numtext_input _ENDINPUT_ _ENDINPUT_ _STARTINPUT_ _VAR_ _ENDINPUT_ _ENDINPUT_ _ENDINPUT_ _ENDINPUT_ _STARTNEST_ control_if _STARTINPUT_ operator_lt _STARTINPUT_ operator_subtract _STARTINPUT_ _VAR_ _ENDINPUT_ _STARTINPUT_ operator_multiply _STARTINPUT_ _VAR_ _ENDINPUT_ _STARTINPUT_ numtext_input _ENDINPUT_ _ENDINPUT_ _ENDINPUT_ _STARTINPUT_ _VAR_ _ENDINPUT_ _ENDINPUT_ _STARTNEST_ data_setvariableto _MENU_ _VAR_ _MENU_ _STARTINPUT_ numtext_input _ENDINPUT_ _ENDNEST_ _NEXT_ motion_setx _STARTINPUT_ _VAR_ _ENDINPUT_ _NEXT_ data_changevariableby _MENU_ _VAR_ _MENU_ _STARTINPUT_ operator_multiply _STARTINPUT_ _VAR_ _ENDINPUT_ _STARTINPUT_ numtext_input _ENDINPUT_ _ENDINPUT_ _NEXT_ motion_sety _STARTINPUT_ _VAR_ _ENDINPUT_ _ENDNEST_ _NEXT_ procedures_call _STARTINPUT_ motion_xposition _ENDINPUT_ _STARTINPUT_ operator_subtract _STARTINPUT_ motion_yposition _ENDINPUT_ _STARTINPUT_ operator_multiply _STARTINPUT_ _VAR_ _ENDINPUT_ _STARTINPUT_ operator_letter_of _STARTINPUT_ numtext_input _ENDINPUT_ _STARTINPUT_ data_itemoflist _MENU_ _LIST_ _MENU_ _STARTINPUT_ data_itemoflist _MENU_ _LIST_ _MENU_ _STARTINPUT_ _VAR_ _ENDINPUT_ _ENDINPUT_ _ENDINPUT_ _ENDINPUT_ _ENDINPUT_ _ENDINPUT_ _STARTINPUT_ _VAR_ _ENDINPUT_ _NEXT_ data_changevariableby _MENU_ _VAR_ _MENU_ _STARTINPUT_ numtext_input _ENDINPUT_ _ENDNEST_ _ENDNEST_ _NEXT_ control_if_else _STARTINPUT_ operator_and _STARTINPUT_ operator_not _STARTINPUT_ operator_equals _STARTINPUT_ _VAR_ _ENDINPUT_ _STARTINPUT_ numtext_input _ENDINPUT_ _ENDINPUT_ _ENDINPUT_ _STARTINPUT_ operator_and _STARTINPUT_ operator_gt _STARTINPUT_ _VAR_ _ENDINPUT_ _STARTINPUT_ numtext_input _ENDINPUT_ _ENDINPUT_ _STARTINPUT_ operator_not _STARTINPUT_ operator_or _STARTINPUT_ operator_equals _STARTINPUT_ data_lengthoflist _MENU_ _LIST_ _MENU_ _ENDINPUT_ _STARTINPUT_ numtext_input _ENDINPUT_ _ENDINPUT_ _STARTINPUT_ operator_gt _STARTINPUT_ operator_add _STARTINPUT_ operator_add _STARTINPUT_ motion_xposition _ENDINPUT_ _STARTINPUT_ operator_multiply _STARTINPUT_ _VAR_ _ENDINPUT_ _STARTINPUT_ numtext_input _ENDINPUT_ _ENDINPUT_ _ENDINPUT_ _STARTINPUT_ operator_multiply _STARTINPUT_ data_itemoflist _MENU_ _LIST_ _MENU_ _STARTINPUT_ numtext_input _ENDINPUT_ _ENDINPUT_ _STARTINPUT_ _VAR_ _ENDINPUT_ _ENDINPUT_ _ENDINPUT_ _STARTINPUT_ _VAR_ _ENDINPUT_ _ENDINPUT_ _ENDINPUT_ _ENDINPUT_ _ENDINPUT_ _ENDINPUT_ _STARTNEST_ pen_setPenSizeTo _STARTINPUT_ operator_add _STARTINPUT_ _VAR_ _ENDINPUT_ _STARTINPUT_ operator_multiply _STARTINPUT_ _VAR_ _ENDINPUT_ _STARTINPUT_ operator_divide _STARTINPUT_ _VAR_ _ENDINPUT_ _STARTINPUT_ numtext_input _ENDINPUT_ _ENDINPUT_ _ENDINPUT_ _ENDINPUT_ _NEXT_ motion_changexby _STARTINPUT_ operator_multiply _STARTINPUT_ _VAR_ _ENDINPUT_ _STARTINPUT_ numtext_input _ENDINPUT_ _ENDINPUT_ _NEXT_ motion_changeyby _STARTINPUT_ operator_multiply _STARTINPUT_ _VAR_ _ENDINPUT_ _STARTINPUT_ numtext_input _ENDINPUT_ _ENDINPUT_ _NEXT_ pen_penDown _NEXT_ motion_changexby _STARTINPUT_ operator_multiply _STARTINPUT_ _VAR_ _ENDINPUT_ _STARTINPUT_ numtext_input _ENDINPUT_ _ENDINPUT_ _NEXT_ pen_penUp _ENDNEST_ _STARTNEST_ motion_changexby _STARTINPUT_ operator_multiply _STARTINPUT_ _VAR_ _ENDINPUT_ _STARTINPUT_ numtext_input _ENDINPUT_ _ENDINPUT_ _ENDNEST_ _NEXT_ motion_sety _STARTINPUT_ _VAR_ _ENDINPUT_ _NEXT_ data_changevariableby _MENU_ _VAR_ _MENU_ _STARTINPUT_ numtext_input _ENDINPUT_ _ENDNEST_ _ENDSTACK_ _STARTSTACK_ procedures_definition _NEXT_ data_setvariableto _MENU_ _VAR_ _MENU_ _STARTINPUT_ numtext_input _ENDINPUT_ _NEXT_ control_if _STARTINPUT_ operator_equals _STARTINPUT_ _VAR_ _ENDINPUT_ _STARTINPUT_ numtext_input _ENDINPUT_ _ENDINPUT_ _STARTNEST_ pen_penUp _NEXT_ pen_setPenSizeTo _STARTINPUT_ operator_add _STARTINPUT_ _NUMTEXTARG_ _ENDINPUT_ _STARTINPUT_ operator_multiply _STARTINPUT_ _VAR_ _ENDINPUT_ _STARTINPUT_ operator_divide _STARTINPUT_ _NUMTEXTARG_ _ENDINPUT_ _STARTINPUT_ numtext_input _ENDINPUT_ _ENDINPUT_ _ENDINPUT_ _ENDINPUT_ _NEXT_ control_repeat _STARTINPUT_ operator_divide _STARTINPUT_ operator_subtract _STARTINPUT_ operator_length _STARTINPUT_ data_itemoflist _MENU_ _LIST_ _MENU_ _STARTINPUT_ data_itemoflist _MENU_ _LIST_ _MENU_ _STARTINPUT_ _VAR_ _ENDINPUT_ _ENDINPUT_ _ENDINPUT_ _ENDINPUT_ _STARTINPUT_ numtext_input _ENDINPUT_ _ENDINPUT_ _STARTINPUT_ numtext_input _ENDINPUT_ _ENDINPUT_ _STARTNEST_ motion_gotoxy _STARTINPUT_ operator_add _STARTINPUT_ operator_add _STARTINPUT_ _NUMTEXTARG_ _ENDINPUT_ _STARTINPUT_ operator_multiply _STARTINPUT_ operator_letter_of _STARTINPUT_ _VAR_ _ENDINPUT_ _STARTINPUT_ data_itemoflist _MENU_ _LIST_ _MENU_ _STARTINPUT_ data_itemoflist _MENU_ _LIST_ _MENU_ _STARTINPUT_ _VAR_ _ENDINPUT_ _ENDINPUT_ _ENDINPUT_ _ENDINPUT_ _STARTINPUT_ _NUMTEXTARG_ _ENDINPUT_ _ENDINPUT_ _ENDINPUT_ _STARTINPUT_ operator_multiply _STARTINPUT_ operator_divide _STARTINPUT_ _VAR_ _ENDINPUT_ _STARTINPUT_ numtext_input _ENDINPUT_ _ENDINPUT_ _STARTINPUT_ operator_letter_of _STARTINPUT_ operator_add _STARTINPUT_ _VAR_ _ENDINPUT_ _STARTINPUT_ numtext_input _ENDINPUT_ _ENDINPUT_ _STARTINPUT_ data_itemoflist _MENU_ _LIST_ _MENU_ _STARTINPUT_ data_itemoflist _MENU_ _LIST_ _MENU_ _STARTINPUT_ _VAR_ _ENDINPUT_ _ENDINPUT_ _ENDINPUT_ _ENDINPUT_ _ENDINPUT_ _ENDINPUT_ _STARTINPUT_ operator_add _STARTINPUT_ _NUMTEXTARG_ _ENDINPUT_ _STARTINPUT_ operator_multiply _STARTINPUT_ operator_letter_of _STARTINPUT_ operator_add _STARTINPUT_ _VAR_ _ENDINPUT_ _STARTINPUT_ numtext_input _ENDINPUT_ _ENDINPUT_ _STARTINPUT_ data_itemoflist _MENU_ _LIST_ _MENU_ _STARTINPUT_ data_itemoflist _MENU_ _LIST_ _MENU_ _STARTINPUT_ _VAR_ _ENDINPUT_ _ENDINPUT_ _ENDINPUT_ _ENDINPUT_ _STARTINPUT_ _NUMTEXTARG_ _ENDINPUT_ _ENDINPUT_ _ENDINPUT_ _NEXT_ pen_penDown _NEXT_ motion_gotoxy _STARTINPUT_ operator_add _STARTINPUT_ operator_add _STARTINPUT_ _NUMTEXTARG_ _ENDINPUT_ _STARTINPUT_ operator_multiply _STARTINPUT_ operator_letter_of _STARTINPUT_ operator_add _STARTINPUT_ _VAR_ _ENDINPUT_ _STARTINPUT_ numtext_input _ENDINPUT_ _ENDINPUT_ _STARTINPUT_ data_itemoflist _MENU_ _LIST_ _MENU_ _STARTINPUT_ data_itemoflist _MENU_ _LIST_ _MENU_ _STARTINPUT_ _VAR_ _ENDINPUT_ _ENDINPUT_ _ENDINPUT_ _ENDINPUT_ _STARTINPUT_ _NUMTEXTARG_ _ENDINPUT_ _ENDINPUT_ _ENDINPUT_ _STARTINPUT_ operator_multiply _STARTINPUT_ operator_divide _STARTINPUT_ _VAR_ _ENDINPUT_ _STARTINPUT_ numtext_input _ENDINPUT_ _ENDINPUT_ _STARTINPUT_ operator_letter_of _STARTINPUT_ operator_add _STARTINPUT_ _VAR_ _ENDINPUT_ _STARTINPUT_ numtext_input _ENDINPUT_ _ENDINPUT_ _STARTINPUT_ data_itemoflist _MENU_ _LIST_ _MENU_ _STARTINPUT_ data_itemoflist _MENU_ _LIST_ _MENU_ _STARTINPUT_ _VAR_ _ENDINPUT_ _ENDINPUT_ _ENDINPUT_ _ENDINPUT_ _ENDINPUT_ _ENDINPUT_ _STARTINPUT_ operator_add _STARTINPUT_ _NUMTEXTARG_ _ENDINPUT_ _STARTINPUT_ operator_multiply _STARTINPUT_ operator_letter_of _STARTINPUT_ operator_add _STARTINPUT_ _VAR_ _ENDINPUT_ _STARTINPUT_ numtext_input _ENDINPUT_ _ENDINPUT_ _STARTINPUT_ data_itemoflist _MENU_ _LIST_ _MENU_ _STARTINPUT_ data_itemoflist _MENU_ _LIST_ _MENU_ _STARTINPUT_ _VAR_ _ENDINPUT_ _ENDINPUT_ _ENDINPUT_ _ENDINPUT_ _STARTINPUT_ _NUMTEXTARG_ _ENDINPUT_ _ENDINPUT_ _ENDINPUT_ _NEXT_ pen_penUp _NEXT_ data_changevariableby _MENU_ _VAR_ _MENU_ _STARTINPUT_ numtext_input _ENDINPUT_ _ENDNEST_ _NEXT_ control_if _STARTINPUT_ operator_gt _STARTINPUT_ _VAR_ _ENDINPUT_ _STARTINPUT_ numtext_input _ENDINPUT_ _ENDINPUT_ _STARTNEST_ pen_setPenSizeTo _STARTINPUT_ operator_add _STARTINPUT_ _NUMTEXTARG_ _ENDINPUT_ _STARTINPUT_ operator_multiply _STARTINPUT_ _VAR_ _ENDINPUT_ _STARTINPUT_ operator_divide _STARTINPUT_ _NUMTEXTARG_ _ENDINPUT_ _STARTINPUT_ numtext_input _ENDINPUT_ _ENDINPUT_ _ENDINPUT_ _ENDINPUT_ _NEXT_ motion_gotoxy _STARTINPUT_ operator_subtract _STARTINPUT_ _NUMTEXTARG_ _ENDINPUT_ _STARTINPUT_ _VAR_ _ENDINPUT_ _ENDINPUT_ _STARTINPUT_ _NUMTEXTARG_ _ENDINPUT_ _NEXT_ motion_sety _STARTINPUT_ operator_subtract _STARTINPUT_ operator_add _STARTINPUT_ motion_yposition _ENDINPUT_ _STARTINPUT_ operator_multiply _STARTINPUT_ _VAR_ _ENDINPUT_ _STARTINPUT_ operator_add _STARTINPUT_ operator_letter_of _STARTINPUT_ numtext_input _ENDINPUT_ _STARTINPUT_ data_itemoflist _MENU_ _LIST_ _MENU_ _STARTINPUT_ data_itemoflist _MENU_ _LIST_ _MENU_ _STARTINPUT_ _VAR_ _ENDINPUT_ _ENDINPUT_ _ENDINPUT_ _ENDINPUT_ _STARTINPUT_ numtext_input _ENDINPUT_ _ENDINPUT_ _ENDINPUT_ _ENDINPUT_ _STARTINPUT_ operator_multiply _STARTINPUT_ _NUMTEXTARG_ _ENDINPUT_ _STARTINPUT_ numtext_input _ENDINPUT_ _ENDINPUT_ _ENDINPUT_ _NEXT_ pen_penDown _NEXT_ motion_changexby _STARTINPUT_ operator_multiply _STARTINPUT_ _VAR_ _ENDINPUT_ _STARTINPUT_ operator_add _STARTINPUT_ operator_letter_of _STARTINPUT_ numtext_input _ENDINPUT_ _STARTINPUT_ data_itemoflist _MENU_ _LIST_ _MENU_ _STARTINPUT_ data_itemoflist _MENU_ _LIST_ _MENU_ _STARTINPUT_ _VAR_ _ENDINPUT_ _ENDINPUT_ _ENDINPUT_ _ENDINPUT_ _STARTINPUT_ numtext_input _ENDINPUT_ _ENDINPUT_ _ENDINPUT_ _NEXT_ pen_penUp _ENDNEST_ _NEXT_ motion_gotoxy _STARTINPUT_ _NUMTEXTARG_ _ENDINPUT_ _STARTINPUT_ _NUMTEXTARG_ _ENDINPUT_ _NEXT_ motion_changexby _STARTINPUT_ operator_multiply _STARTINPUT_ _VAR_ _ENDINPUT_ _STARTINPUT_ operator_add _STARTINPUT_ operator_letter_of _STARTINPUT_ numtext_input _ENDINPUT_ _STARTINPUT_ data_itemoflist _MENU_ _LIST_ _MENU_ _STARTINPUT_ data_itemoflist _MENU_ _LIST_ _MENU_ _STARTINPUT_ _VAR_ _ENDINPUT_ _ENDINPUT_ _ENDINPUT_ _ENDINPUT_ _STARTINPUT_ numtext_input _ENDINPUT_ _ENDINPUT_ _ENDINPUT_ _NEXT_ motion_sety _STARTINPUT_ _VAR_ _ENDINPUT_ _ENDNEST_ _ENDSTACK_ _STARTSTACK_ procedures_definition _NEXT_ data_setvariableto _MENU_ _VAR_ _MENU_ _STARTINPUT_ numtext_input _ENDINPUT_ _NEXT_ control_repeat _STARTINPUT_ data_lengthoflist _MENU_ _LIST_ _MENU_ _ENDINPUT_ _STARTNEST_ data_changevariableby _MENU_ _VAR_ _MENU_ _STARTINPUT_ numtext_input _ENDINPUT_ _NEXT_ control_if _STARTINPUT_ operator_equals _STARTINPUT_ operator_letter_of _STARTINPUT_ numtext_input _ENDINPUT_ _STARTINPUT_ data_itemoflist _MENU_ _LIST_ _MENU_ _STARTINPUT_ _VAR_ _ENDINPUT_ _ENDINPUT_ _ENDINPUT_ _STARTINPUT_ _NUMTEXTARG_ _ENDINPUT_ _ENDINPUT_ _STARTNEST_ control_stop _MENU_ menu_option _MENU_ _ENDNEST_ _ENDNEST_ _ENDSTACK_ _STARTSTACK_ event_whenkeypressed _MENU_ menu_option _MENU_ _NEXT_ control_if _STARTINPUT_ operator_equals _STARTINPUT_ sensing_username _ENDINPUT_ _STARTINPUT_ numtext_input _ENDINPUT_ _ENDINPUT_ _STARTNEST_ control_stop _MENU_ menu_option _MENU_ _NEXT_ pen_clear _NEXT_ procedures_call _NEXT_ procedures_call _STARTINPUT_ numtext_input _ENDINPUT_ _STARTINPUT_ numtext_input _ENDINPUT_ _STARTINPUT_ numtext_input _ENDINPUT_ _NEXT_ procedures_call _STARTINPUT_ numtext_input _ENDINPUT_ _NEXT_ procedures_call _STARTINPUT_ numtext_input _ENDINPUT_ _STARTINPUT_ numtext_input _ENDINPUT_ _STARTINPUT_ numtext_input _ENDINPUT_ _STARTINPUT_ numtext_input _ENDINPUT_ _STARTINPUT_ numtext_input _ENDINPUT_ _NEXT_ procedures_call _STARTINPUT_ numtext_input _ENDINPUT_ _STARTINPUT_ numtext_input _ENDINPUT_ _STARTINPUT_ numtext_input _ENDINPUT_ _NEXT_ procedures_call _STARTINPUT_ numtext_input _ENDINPUT_ _NEXT_ procedures_call _STARTINPUT_ numtext_input _ENDINPUT_ _STARTINPUT_ numtext_input _ENDINPUT_ _STARTINPUT_ numtext_input _ENDINPUT_ _STARTINPUT_ numtext_input _ENDINPUT_ _STARTINPUT_ numtext_input _ENDINPUT_ _NEXT_ procedures_call _STARTINPUT_ numtext_input _ENDINPUT_ _NEXT_ procedures_call _STARTINPUT_ numtext_input _ENDINPUT_ _STARTINPUT_ numtext_input _ENDINPUT_ _STARTINPUT_ numtext_input _ENDINPUT_ _NEXT_ procedures_call _STARTINPUT_ numtext_input _ENDINPUT_ _STARTINPUT_ numtext_input _ENDINPUT_ _STARTINPUT_ numtext_input _ENDINPUT_ _STARTINPUT_ numtext_input _ENDINPUT_ _STARTINPUT_ numtext_input _ENDINPUT_ _NEXT_ procedures_call _NEXT_ procedures_call _STARTINPUT_ numtext_input _ENDINPUT_ _NEXT_ procedures_call _STARTINPUT_ numtext_input _ENDINPUT_ _STARTINPUT_ numtext_input _ENDINPUT_ _STARTINPUT_ numtext_input _ENDINPUT_ _NEXT_ procedures_call _STARTINPUT_ numtext_input _ENDINPUT_ _STARTINPUT_ numtext_input _ENDINPUT_ _STARTINPUT_ numtext_input _ENDINPUT_ _STARTINPUT_ numtext_input _ENDINPUT_ _STARTINPUT_ numtext_input _ENDINPUT_ _NEXT_ procedures_call _STARTINPUT_ numtext_input _ENDINPUT_ _NEXT_ procedures_call _STARTINPUT_ numtext_input _ENDINPUT_ _STARTINPUT_ numtext_input _ENDINPUT_ _STARTINPUT_ numtext_input _ENDINPUT_ _NEXT_ procedures_call _STARTINPUT_ numtext_input _ENDINPUT_ _STARTINPUT_ numtext_input _ENDINPUT_ _STARTINPUT_ numtext_input _ENDINPUT_ _STARTINPUT_ numtext_input _ENDINPUT_ _STARTINPUT_ numtext_input _ENDINPUT_ _NEXT_ procedures_call _NEXT_ procedures_call _STARTINPUT_ numtext_input _ENDINPUT_ _NEXT_ procedures_call _STARTINPUT_ numtext_input _ENDINPUT_ _STARTINPUT_ numtext_input _ENDINPUT_ _STARTINPUT_ numtext_input _ENDINPUT_ _NEXT_ procedures_call _STARTINPUT_ numtext_input _ENDINPUT_ _STARTINPUT_ numtext_input _ENDINPUT_ _STARTINPUT_ numtext_input _ENDINPUT_ _STARTINPUT_ numtext_input _ENDINPUT_ _NEXT_ procedures_call _STARTINPUT_ numtext_input _ENDINPUT_ _STARTINPUT_ numtext_input _ENDINPUT_ _STARTINPUT_ numtext_input _ENDINPUT_ _STARTINPUT_ numtext_input _ENDINPUT_ _NEXT_ procedures_call _STARTINPUT_ numtext_input _ENDINPUT_ _STARTINPUT_ numtext_input _ENDINPUT_ _STARTINPUT_ numtext_input _ENDINPUT_ _STARTINPUT_ numtext_input _ENDINPUT_ _NEXT_ procedures_call _STARTINPUT_ numtext_input _ENDINPUT_ _STARTINPUT_ numtext_input _ENDINPUT_ _STARTINPUT_ numtext_input _ENDINPUT_ _STARTINPUT_ numtext_input _ENDINPUT_ _NEXT_ procedures_call _STARTINPUT_ numtext_input _ENDINPUT_ _STARTINPUT_ numtext_input _ENDINPUT_ _STARTINPUT_ numtext_input _ENDINPUT_ _STARTINPUT_ numtext_input _ENDINPUT_ _NEXT_ procedures_call _STARTINPUT_ numtext_input _ENDINPUT_ _STARTINPUT_ numtext_input _ENDINPUT_ _STARTINPUT_ numtext_input _ENDINPUT_ _NEXT_ procedures_call _STARTINPUT_ numtext_input _ENDINPUT_ _STARTINPUT_ numtext_input _ENDINPUT_ _STARTINPUT_ numtext_input _ENDINPUT_ _STARTINPUT_ numtext_input _ENDINPUT_ _NEXT_ procedures_call _ENDNEST_ _ENDSTACK_ _STARTSTACK_ procedures_definition _NEXT_ control_if _STARTINPUT_ operator_lt _STARTINPUT_ operator_subtract _STARTINPUT_ _VAR_ _ENDINPUT_ _STARTINPUT_ operator_multiply _STARTINPUT_ _VAR_ _ENDINPUT_ _STARTINPUT_ _NUMTEXTARG_ _ENDINPUT_ _ENDINPUT_ _ENDINPUT_ _STARTINPUT_ _VAR_ _ENDINPUT_ _ENDINPUT_ _STARTNEST_ data_setvariableto _MENU_ _VAR_ _MENU_ _STARTINPUT_ numtext_input _ENDINPUT_ _ENDNEST_ _NEXT_ motion_setx _STARTINPUT_ _VAR_ _ENDINPUT_ _NEXT_ control_if_else _STARTINPUT_ operator_equals _STARTINPUT_ operator_multiply _STARTINPUT_ _NUMTEXTARG_ _ENDINPUT_ _STARTINPUT_ numtext_input _ENDINPUT_ _ENDINPUT_ _STARTINPUT_ _NUMTEXTARG_ _ENDINPUT_ _ENDINPUT_ _STARTNEST_ data_changevariableby _MENU_ _VAR_ _MENU_ _STARTINPUT_ operator_multiply _STARTINPUT_ operator_multiply _STARTINPUT_ _NUMTEXTARG_ _ENDINPUT_ _STARTINPUT_ numtext_input _ENDINPUT_ _ENDINPUT_ _STARTINPUT_ _NUMTEXTARG_ _ENDINPUT_ _ENDINPUT_ _ENDNEST_ _STARTNEST_ data_changevariableby _MENU_ _VAR_ _MENU_ _STARTINPUT_ operator_multiply _STARTINPUT_ operator_multiply _STARTINPUT_ _VAR_ _ENDINPUT_ _STARTINPUT_ numtext_input _ENDINPUT_ _ENDINPUT_ _STARTINPUT_ _NUMTEXTARG_ _ENDINPUT_ _ENDINPUT_ _ENDNEST_ _NEXT_ motion_sety _STARTINPUT_ _VAR_ _ENDINPUT_ _ENDSTACK_ _STARTSTACK_ procedures_definition _NEXT_ pen_setPenColorToColor _STARTINPUT_ operator_add _STARTINPUT_ operator_add _STARTINPUT_ operator_multiply _STARTINPUT_ operator_round _STARTINPUT_ _NUMTEXTARG_ _ENDINPUT_ _ENDINPUT_ _STARTINPUT_ numtext_input _ENDINPUT_ _ENDINPUT_ _STARTINPUT_ operator_multiply _STARTINPUT_ operator_round _STARTINPUT_ _NUMTEXTARG_ _ENDINPUT_ _ENDINPUT_ _STARTINPUT_ numtext_input _ENDINPUT_ _ENDINPUT_ _ENDINPUT_ _STARTINPUT_ operator_round _STARTINPUT_ _NUMTEXTARG_ _ENDINPUT_ _ENDINPUT_ _ENDINPUT_ _ENDSTACK_ _STARTSTACK_ procedures_definition _NEXT_ pen_setPenHueToNumber _STARTINPUT_ _NUMTEXTARG_ _ENDINPUT_ _NEXT_ pen_setPenShadeToNumber _STARTINPUT_ _NUMTEXTARG_ _ENDINPUT_ _ENDSTACK_ _STARTSTACK_ procedures_definition _NEXT_ data_setvariableto _MENU_ _VAR_ _MENU_ _STARTINPUT_ _NUMTEXTARG_ _ENDINPUT_ _ENDSTACK_ _STARTSTACK_ procedures_definition _NEXT_ control_if_else _STARTINPUT_ operator_and _STARTINPUT_ operator_lt _STARTINPUT_ _NUMTEXTARG_ _ENDINPUT_ _STARTINPUT_ numtext_input _ENDINPUT_ _ENDINPUT_ _STARTINPUT_ operator_gt _STARTINPUT_ _NUMTEXTARG_ _ENDINPUT_ _STARTINPUT_ numtext_input _ENDINPUT_ _ENDINPUT_ _ENDINPUT_ _STARTNEST_ data_setvariableto _MENU_ _VAR_ _MENU_ _STARTINPUT_ _NUMTEXTARG_ _ENDINPUT_ _ENDNEST_ _STARTNEST_ data_setvariableto _MENU_ _VAR_ _MENU_ _STARTINPUT_ numtext_input _ENDINPUT_ _ENDNEST_ _ENDSTACK_ _STARTSTACK_ procedures_definition _NEXT_ control_if_else _STARTINPUT_ operator_gt _STARTINPUT_ _NUMTEXTARG_ _ENDINPUT_ _STARTINPUT_ numtext_input _ENDINPUT_ _ENDINPUT_ _STARTNEST_ data_setvariableto _MENU_ _VAR_ _MENU_ _STARTINPUT_ _NUMTEXTARG_ _ENDINPUT_ _ENDNEST_ _STARTNEST_ data_setvariableto _MENU_ _VAR_ _MENU_ _STARTINPUT_ numtext_input _ENDINPUT_ _ENDNEST_ _ENDSTACK_ _STARTSTACK_ procedures_definition _NEXT_ control_if_else _STARTINPUT_ operator_and _STARTINPUT_ operator_lt _STARTINPUT_ _NUMTEXTARG_ _ENDINPUT_ _STARTINPUT_ numtext_input _ENDINPUT_ _ENDINPUT_ _STARTINPUT_ operator_gt _STARTINPUT_ _NUMTEXTARG_ _ENDINPUT_ _STARTINPUT_ numtext_input _ENDINPUT_ _ENDINPUT_ _ENDINPUT_ _STARTNEST_ data_setvariableto _MENU_ _VAR_ _MENU_ _STARTINPUT_ _NUMTEXTARG_ _ENDINPUT_ _ENDNEST_ _STARTNEST_ data_setvariableto _MENU_ _VAR_ _MENU_ _STARTINPUT_ numtext_input _ENDINPUT_ _ENDNEST_ _ENDSTACK_ _STARTSTACK_ event_whenbroadcastreceived _MENU_ menu_option _MENU_ _NEXT_ pen_clear _NEXT_ procedures_call _STARTINPUT_ numtext_input _ENDINPUT_ _STARTINPUT_ numtext_input _ENDINPUT_ _STARTINPUT_ numtext_input _ENDINPUT_ _NEXT_ data_setvariableto _MENU_ _VAR_ _MENU_ _STARTINPUT_ numtext_input _ENDINPUT_ _NEXT_ data_setvariableto _MENU_ _VAR_ _MENU_ _STARTINPUT_ _VAR_ _ENDINPUT_ _NEXT_ control_repeat _STARTINPUT_ numtext_input _ENDINPUT_ _STARTNEST_ procedures_call _STARTINPUT_ data_itemoflist _MENU_ _LIST_ _MENU_ _STARTINPUT_ _VAR_ _ENDINPUT_ _ENDINPUT_ _NEXT_ procedures_call _STARTINPUT_ numtext_input _ENDINPUT_ _NEXT_ data_changevariableby _MENU_ _VAR_ _MENU_ _STARTINPUT_ numtext_input _ENDINPUT_ _ENDNEST_ _NEXT_ procedures_call _STARTINPUT_ operator_join _STARTINPUT_ numtext_input _ENDINPUT_ _STARTINPUT_ _VAR_ _ENDINPUT_ _ENDINPUT_ _STARTINPUT_ numtext_input _ENDINPUT_ _ENDSTACK_ _STARTSTACK_ procedures_definition _NEXT_ control_if _STARTINPUT_ operator_or _STARTINPUT_ operator_or _STARTINPUT_ operator_equals _STARTINPUT_ _NUMTEXTARG_ _ENDINPUT_ _ENDINPUT_ _STARTINPUT_ operator_equals _STARTINPUT_ _NUMTEXTARG_ _ENDINPUT_ _ENDINPUT_ _ENDINPUT_ _STARTINPUT_ operator_or _STARTINPUT_ operator_equals _STARTINPUT_ _NUMTEXTARG_ _ENDINPUT_ _STARTINPUT_ numtext_input _ENDINPUT_ _ENDINPUT_ _STARTINPUT_ operator_equals _STARTINPUT_ _NUMTEXTARG_ _ENDINPUT_ _STARTINPUT_ numtext_input _ENDINPUT_ _ENDINPUT_ _ENDINPUT_ _ENDINPUT_ _STARTNEST_ control_stop _MENU_ menu_option _MENU_ _ENDNEST_ _NEXT_ data_deleteoflist _MENU_ _LIST_ _MENU_ _STARTINPUT_ numtext_input _ENDINPUT_ _NEXT_ data_setvariableto _MENU_ _VAR_ _MENU_ _STARTINPUT_ numtext_input _ENDINPUT_ _NEXT_ control_repeat _STARTINPUT_ data_lengthoflist _MENU_ _LIST_ _MENU_ _ENDINPUT_ _STARTNEST_ data_setvariableto _MENU_ _VAR_ _MENU_ _STARTINPUT_ numtext_input _ENDINPUT_ _NEXT_ control_repeat _STARTINPUT_ operator_length _STARTINPUT_ data_itemoflist _MENU_ _LIST_ _MENU_ _STARTINPUT_ _VAR_ _ENDINPUT_ _ENDINPUT_ _ENDINPUT_ _STARTNEST_ data_setvariableto _MENU_ _VAR_ _MENU_ _STARTINPUT_ numtext_input _ENDINPUT_ _NEXT_ control_repeat_until _STARTINPUT_ operator_or _STARTINPUT_ operator_equals _STARTINPUT_ operator_letter_of _STARTINPUT_ _VAR_ _ENDINPUT_ _STARTINPUT_ _VAR_ _ENDINPUT_ _ENDINPUT_ _STARTINPUT_ operator_letter_of _STARTINPUT_ _VAR_ _ENDINPUT_ _STARTINPUT_ data_itemoflist _MENU_ _LIST_ _MENU_ _STARTINPUT_ _VAR_ _ENDINPUT_ _ENDINPUT_ _ENDINPUT_ _ENDINPUT_ _STARTINPUT_ operator_gt _STARTINPUT_ _VAR_ _ENDINPUT_ _STARTINPUT_ operator_length _STARTINPUT_ _VAR_ _ENDINPUT_ _ENDINPUT_ _ENDINPUT_ _ENDINPUT_ _STARTNEST_ data_changevariableby _MENU_ _VAR_ _MENU_ _STARTINPUT_ numtext_input _ENDINPUT_ _ENDNEST_ _NEXT_ control_if _STARTINPUT_ operator_not _STARTINPUT_ operator_gt _STARTINPUT_ _VAR_ _ENDINPUT_ _STARTINPUT_ operator_length _STARTINPUT_ _VAR_ _ENDINPUT_ _ENDINPUT_ _ENDINPUT_ _ENDINPUT_ _STARTNEST_ control_if _STARTINPUT_ operator_not _STARTINPUT_ operator_gt _STARTINPUT_ _VAR_ _ENDINPUT_ _STARTINPUT_ numtext_input _ENDINPUT_ _ENDINPUT_ _ENDINPUT_ _STARTNEST_ looks_switchcostumeto _MENU_ menu_option _MENU_ _NEXT_ looks_switchcostumeto _STARTINPUT_ operator_letter_of _STARTINPUT_ _VAR_ _ENDINPUT_ _STARTINPUT_ data_itemoflist _MENU_ _LIST_ _MENU_ _STARTINPUT_ _VAR_ _ENDINPUT_ _ENDINPUT_ _ENDINPUT_ _NEXT_ control_if _STARTINPUT_ operator_equals _STARTINPUT_ looks_costumenumbername _MENU_ menu_option _MENU_ _ENDINPUT_ _STARTINPUT_ numtext_input _ENDINPUT_ _ENDINPUT_ _STARTNEST_ data_changevariableby _MENU_ _VAR_ _MENU_ _STARTINPUT_ numtext_input _ENDINPUT_ _ENDNEST_ _ENDNEST_ _NEXT_ control_if _STARTINPUT_ operator_lt _STARTINPUT_ operator_length _STARTINPUT_ _VAR_ _ENDINPUT_ _ENDINPUT_ _STARTINPUT_ numtext_input _ENDINPUT_ _ENDINPUT_ _STARTNEST_ data_setvariableto _MENU_ _VAR_ _MENU_ _STARTINPUT_ operator_join _STARTINPUT_ numtext_input _ENDINPUT_ _STARTINPUT_ _VAR_ _ENDINPUT_ _ENDINPUT_ _ENDNEST_ _NEXT_ data_addtolist _MENU_ _LIST_ _MENU_ _STARTINPUT_ operator_letter_of _STARTINPUT_ numtext_input _ENDINPUT_ _STARTINPUT_ _VAR_ _ENDINPUT_ _ENDINPUT_ _NEXT_ data_addtolist _MENU_ _LIST_ _MENU_ _STARTINPUT_ operator_letter_of _STARTINPUT_ numtext_input _ENDINPUT_ _STARTINPUT_ _VAR_ _ENDINPUT_ _ENDINPUT_ _ENDNEST_ _NEXT_ data_changevariableby _MENU_ _VAR_ _MENU_ _STARTINPUT_ numtext_input _ENDINPUT_ _ENDNEST_ _NEXT_ data_addtolist _MENU_ _LIST_ _MENU_ _STARTINPUT_ operator_letter_of _STARTINPUT_ numtext_input _ENDINPUT_ _STARTINPUT_ numtext_input _ENDINPUT_ _ENDINPUT_ _NEXT_ data_addtolist _MENU_ _LIST_ _MENU_ _STARTINPUT_ operator_letter_of _STARTINPUT_ numtext_input _ENDINPUT_ _STARTINPUT_ numtext_input _ENDINPUT_ _ENDINPUT_ _NEXT_ data_changevariableby _MENU_ _VAR_ _MENU_ _STARTINPUT_ numtext_input _ENDINPUT_ _ENDNEST_ _NEXT_ data_setvariableto _MENU_ _VAR_ _MENU_ _STARTINPUT_ _LIST_ _ENDINPUT_ _ENDSTACK_ _STARTSTACK_ procedures_definition _NEXT_ control_if _STARTINPUT_ operator_or _STARTINPUT_ operator_equals _STARTINPUT_ _NUMTEXTARG_ _ENDINPUT_ _ENDINPUT_ _STARTINPUT_ operator_equals _STARTINPUT_ _NUMTEXTARG_ _ENDINPUT_ _STARTINPUT_ numtext_input _ENDINPUT_ _ENDINPUT_ _ENDINPUT_ _STARTNEST_ control_stop _MENU_ menu_option _MENU_ _ENDNEST_ _NEXT_ data_deleteoflist _MENU_ _LIST_ _MENU_ _STARTINPUT_ numtext_input _ENDINPUT_ _NEXT_ data_setvariableto _MENU_ _VAR_ _MENU_ _NEXT_ data_setvariableto _MENU_ _VAR_ _MENU_ _STARTINPUT_ numtext_input _ENDINPUT_ _NEXT_ control_repeat _STARTINPUT_ operator_divide _STARTINPUT_ operator_length _STARTINPUT_ _NUMTEXTARG_ _ENDINPUT_ _ENDINPUT_ _STARTINPUT_ numtext_input _ENDINPUT_ _ENDINPUT_ _STARTNEST_ data_setvariableto _MENU_ _VAR_ _MENU_ _STARTINPUT_ operator_join _STARTINPUT_ operator_letter_of _STARTINPUT_ _VAR_ _ENDINPUT_ _STARTINPUT_ _NUMTEXTARG_ _ENDINPUT_ _ENDINPUT_ _STARTINPUT_ operator_letter_of _STARTINPUT_ operator_add _STARTINPUT_ _VAR_ _ENDINPUT_ _STARTINPUT_ numtext_input _ENDINPUT_ _ENDINPUT_ _STARTINPUT_ _NUMTEXTARG_ _ENDINPUT_ _ENDINPUT_ _ENDINPUT_ _NEXT_ control_if_else _STARTINPUT_ operator_equals _STARTINPUT_ _VAR_ _ENDINPUT_ _STARTINPUT_ numtext_input _ENDINPUT_ _ENDINPUT_ _STARTNEST_ data_addtolist _MENU_ _LIST_ _MENU_ _STARTINPUT_ _VAR_ _ENDINPUT_ _NEXT_ data_setvariableto _MENU_ _VAR_ _MENU_ _ENDNEST_ _STARTNEST_ data_setvariableto _MENU_ _VAR_ _MENU_ _STARTINPUT_ operator_join _STARTINPUT_ _VAR_ _ENDINPUT_ _STARTINPUT_ operator_letter_of _STARTINPUT_ _VAR_ _ENDINPUT_ _STARTINPUT_ _VAR_ _ENDINPUT_ _ENDINPUT_ _ENDINPUT_ _ENDNEST_ _NEXT_ data_changevariableby _MENU_ _VAR_ _MENU_ _STARTINPUT_ numtext_input _ENDINPUT_ _ENDNEST_ _ENDSTACK_ _STARTSTACK_ event_whenflagclicked _NEXT_ data_setvariableto _MENU_ _VAR_ _MENU_ _STARTINPUT_ numtext_input _ENDINPUT_ _NEXT_ procedures_call _STARTINPUT_ _VAR_ _ENDINPUT_ _NEXT_ control_wait _STARTINPUT_ numtext_input _ENDINPUT_ _NEXT_ control_if_else _STARTINPUT_ operator_not _STARTINPUT_ data_listcontainsitem _MENU_ _LIST_ _MENU_ _STARTINPUT_ sensing_username _ENDINPUT_ _ENDINPUT_ _ENDINPUT_ _STARTNEST_ data_addtolist _MENU_ _LIST_ _MENU_ _STARTINPUT_ sensing_username _ENDINPUT_ _NEXT_ procedures_call _NEXT_ event_broadcast _MENU_ menu_option _MENU_ _ENDNEST_ _STARTNEST_ event_broadcast _MENU_ menu_option _MENU_ _ENDNEST_ _ENDSTACK_ _STARTSTACK_ event_whenthisspriteclicked _NEXT_ data_changevariableby _MENU_ _VAR_ _MENU_ _STARTINPUT_ numtext_input _ENDINPUT_ _NEXT_ data_changevariableby _MENU_ _VAR_ _MENU_ _STARTINPUT_ numtext_input _ENDINPUT_ _NEXT_ event_broadcast _MENU_ menu_option _MENU_ _ENDSTACK_ _STARTSTACK_ event_whenflagclicked _NEXT_ motion_gotoxy _STARTINPUT_ numtext_input _ENDINPUT_ _STARTINPUT_ numtext_input _ENDINPUT_ _NEXT_ data_setvariableto _MENU_ _VAR_ _MENU_ _STARTINPUT_ numtext_input _ENDINPUT_ _NEXT_ data_setvariableto _MENU_ _VAR_ _MENU_ _STARTINPUT_ numtext_input _ENDINPUT_ _ENDSTACK_ _STARTSTACK_ event_whenthisspriteclicked _NEXT_ control_if _STARTINPUT_ operator_gt _STARTINPUT_ _VAR_ _ENDINPUT_ _STARTINPUT_ numtext_input _ENDINPUT_ _ENDINPUT_ _STARTNEST_ data_changevariableby _MENU_ _VAR_ _MENU_ _STARTINPUT_ numtext_input _ENDINPUT_ _NEXT_ data_changevariableby _MENU_ _VAR_ _MENU_ _STARTINPUT_ numtext_input _ENDINPUT_ _NEXT_ event_broadcast _MENU_ menu_option _MENU_ _ENDNEST_ _ENDSTACK_ _STARTSTACK_ event_whenflagclicked _NEXT_ data_setvariableto _MENU_ _VAR_ _MENU_ _STARTINPUT_ numtext_input _ENDINPUT_ _NEXT_ data_setvariableto _MENU_ _VAR_ _MENU_ _STARTINPUT_ numtext_input _ENDINPUT_ _ENDSTACK_ _STARTSTACK_ event_whenflagclicked _NEXT_ looks_hide _NEXT_ control_wait _STARTINPUT_ numtext_input _ENDINPUT_ _NEXT_ control_if _STARTINPUT_ operator_equals _STARTINPUT_ _VAR_ _ENDINPUT_ _STARTINPUT_ numtext_input _ENDINPUT_ _ENDINPUT_ _STARTNEST_ motion_gotoxy _STARTINPUT_ numtext_input _ENDINPUT_ _STARTINPUT_ numtext_input _ENDINPUT_ _NEXT_ looks_seteffectto _MENU_ menu_option _MENU_ _STARTINPUT_ numtext_input _ENDINPUT_ _NEXT_ looks_show _NEXT_ data_setvariableto _MENU_ _VAR_ _MENU_ _STARTINPUT_ numtext_input _ENDINPUT_ _NEXT_ control_repeat _STARTINPUT_ numtext_input _ENDINPUT_ _STARTNEST_ data_changevariableby _MENU_ _VAR_ _MENU_ _STARTINPUT_ numtext_input _ENDINPUT_ _NEXT_ looks_changeeffectby _MENU_ menu_option _MENU_ _STARTINPUT_ numtext_input _ENDINPUT_ _NEXT_ control_wait _STARTINPUT_ numtext_input _ENDINPUT_ _ENDNEST_ _NEXT_ data_setvariableto _MENU_ _VAR_ _MENU_ _STARTINPUT_ numtext_input _ENDINPUT_ _NEXT_ control_wait _STARTINPUT_ numtext_input _ENDINPUT_ _NEXT_ data_setvariableto _MENU_ _VAR_ _MENU_ _STARTINPUT_ numtext_input _ENDINPUT_ _NEXT_ control_repeat _STARTINPUT_ numtext_input _ENDINPUT_ _STARTNEST_ data_changevariableby _MENU_ _VAR_ _MENU_ _STARTINPUT_ numtext_input _ENDINPUT_ _NEXT_ looks_changeeffectby _MENU_ menu_option _MENU_ _STARTINPUT_ numtext_input _ENDINPUT_ _NEXT_ control_wait _STARTINPUT_ numtext_input _ENDINPUT_ _ENDNEST_ _NEXT_ data_setvariableto _MENU_ _VAR_ _MENU_ _STARTINPUT_ numtext_input _ENDINPUT_ _NEXT_ looks_hide _NEXT_ control_wait _STARTINPUT_ numtext_input _ENDINPUT_ _ENDNEST_ _ENDSTACK_ _STARTSTACK_ event_whenflagclicked _NEXT_ data_setvariableto _MENU_ _VAR_ _MENU_ _STARTINPUT_ numtext_input _ENDINPUT_ _NEXT_ control_forever _STARTNEST_ motion_changeyby _STARTINPUT_ _VAR_ _ENDINPUT_ _NEXT_ looks_gotofrontback _MENU_ menu_option _MENU_ _ENDNEST_ _ENDSTACK_\r\n"
     ]
    },
    {
     "name": "stdout",
     "output_type": "stream",
     "text": [
      "53132408\r\n",
      "287403141\r\n",
      "2741557\r\n",
      "80671956\r\n",
      "125204462\r\n"
     ]
    }
   ],
   "source": [
    "!shuf -n 5 {DATASET_TARGET}\n",
    "!shuf -n 5 {DATASET_IDS_TARGET}"
   ]
  },
  {
   "cell_type": "code",
   "execution_count": 6,
   "metadata": {},
   "outputs": [],
   "source": [
    "# read in the text file into a dataframe\n",
    "def to_df(filepath, columns=[]):\n",
    "    df = pd.read_csv(filepath, sep=\"\\n\", header=None)\n",
    "    df.columns = columns\n",
    "    return df\n",
    "\n",
    "projects_df = to_df(DATASET_TARGET, columns=['project_text'])\n",
    "ids_df = to_df(DATASET_IDS_TARGET, columns=['project_id'])"
   ]
  },
  {
   "cell_type": "code",
   "execution_count": 7,
   "metadata": {},
   "outputs": [
    {
     "name": "stdout",
     "output_type": "stream",
     "text": [
      "                                             project_text\n",
      "385489  _STARTSTACK_ event_whenkeypressed _MENU_ menu_...\n",
      "462081  _STARTSTACK_ event_whenflagclicked _NEXT_ data...\n",
      "98964   _STARTSTACK_ event_whenflagclicked _NEXT_ cont...\n",
      "100842  _STARTSTACK_ event_whenkeypressed _MENU_ menu_...\n",
      "402207  _STARTSTACK_ event_whenflagclicked _NEXT_ pen_...\n",
      "\n",
      "\n",
      "        project_id\n",
      "523626   219997328\n",
      "148849    43987840\n",
      "186126   117514420\n",
      "378562   119737070\n",
      "278935    28267108\n"
     ]
    }
   ],
   "source": [
    "print(projects_df.sample(n=5))\n",
    "print(\"\\n\")\n",
    "print(ids_df.sample(n=5))"
   ]
  },
  {
   "cell_type": "code",
   "execution_count": 8,
   "metadata": {},
   "outputs": [
    {
     "data": {
      "text/plain": [
       "(array([], dtype=int64), array([], dtype=int64))"
      ]
     },
     "execution_count": 8,
     "metadata": {},
     "output_type": "execute_result"
    }
   ],
   "source": [
    "np.where(projects_df.isnull())\n",
    "np.where(ids_df.isnull())"
   ]
  },
  {
   "cell_type": "markdown",
   "metadata": {},
   "source": [
    "### 1000 samples"
   ]
  },
  {
   "cell_type": "code",
   "execution_count": 29,
   "metadata": {},
   "outputs": [],
   "source": [
    "num_samples = 1000"
   ]
  },
  {
   "cell_type": "code",
   "execution_count": 30,
   "metadata": {},
   "outputs": [],
   "source": [
    "def extract_samples(dataframe, n=1000, extension='.txt', column='project_text'):\n",
    "    # Slice the dataframe to get the top n samples\n",
    "    df = dataframe.iloc[:n]\n",
    "    print(df.shape)\n",
    "    \n",
    "    # Write the dataframe back into a text file\n",
    "    target = TRAIN_TARGET + \"_\" + str(n) + extension\n",
    "    f = open(target, 'w+')\n",
    "    for i in df.index:\n",
    "        f.write(str(df.iloc[i][column]) + \"\\n\")\n",
    "    \n",
    "    # Return the text file handle\n",
    "    return target"
   ]
  },
  {
   "cell_type": "code",
   "execution_count": 31,
   "metadata": {},
   "outputs": [
    {
     "name": "stdout",
     "output_type": "stream",
     "text": [
      "(1000, 1)\n",
      "/home/jovyan/shared/lena/dataset/train_1000.txt\n",
      "(1000, 1)\n",
      "/home/jovyan/shared/lena/dataset/train_1000.ids\n"
     ]
    }
   ],
   "source": [
    "train_target = extract_samples(projects_df, n=num_samples, extension='.txt', column='project_text')\n",
    "print(train_target)\n",
    "\n",
    "train_ids_target = extract_samples(ids_df, n=num_samples, extension='.ids', column='project_id')\n",
    "print(train_ids_target)"
   ]
  },
  {
   "cell_type": "code",
   "execution_count": 32,
   "metadata": {},
   "outputs": [
    {
     "name": "stdout",
     "output_type": "stream",
     "text": [
      "1000 /home/jovyan/shared/lena/dataset/train_1000.txt\n",
      "1000 /home/jovyan/shared/lena/dataset/train_1000.ids\n"
     ]
    }
   ],
   "source": [
    "!wc -l {train_target}\n",
    "!wc -l {train_ids_target}"
   ]
  },
  {
   "cell_type": "markdown",
   "metadata": {},
   "source": [
    "### 10,000 samples"
   ]
  },
  {
   "cell_type": "code",
   "execution_count": 33,
   "metadata": {},
   "outputs": [],
   "source": [
    "num_samples = 10000"
   ]
  },
  {
   "cell_type": "code",
   "execution_count": 34,
   "metadata": {},
   "outputs": [
    {
     "name": "stdout",
     "output_type": "stream",
     "text": [
      "(10000, 1)\n",
      "/home/jovyan/shared/lena/dataset/train_10000.txt\n",
      "(10000, 1)\n",
      "/home/jovyan/shared/lena/dataset/train_10000.ids\n"
     ]
    }
   ],
   "source": [
    "train_target = extract_samples(projects_df, n=num_samples, extension='.txt', column='project_text')\n",
    "print(train_target)\n",
    "\n",
    "train_ids_target = extract_samples(ids_df, n=num_samples, extension='.ids', column='project_id')\n",
    "print(train_ids_target)"
   ]
  },
  {
   "cell_type": "code",
   "execution_count": 35,
   "metadata": {},
   "outputs": [
    {
     "name": "stdout",
     "output_type": "stream",
     "text": [
      "10000 /home/jovyan/shared/lena/dataset/train_10000.txt\n",
      "10000 /home/jovyan/shared/lena/dataset/train_10000.ids\n"
     ]
    }
   ],
   "source": [
    "!wc -l {train_target}\n",
    "!wc -l {train_ids_target}"
   ]
  },
  {
   "cell_type": "markdown",
   "metadata": {},
   "source": [
    "### 100,000 samples"
   ]
  },
  {
   "cell_type": "code",
   "execution_count": 36,
   "metadata": {},
   "outputs": [],
   "source": [
    "num_samples = 100000"
   ]
  },
  {
   "cell_type": "code",
   "execution_count": 37,
   "metadata": {},
   "outputs": [
    {
     "name": "stdout",
     "output_type": "stream",
     "text": [
      "(100000, 1)\n",
      "/home/jovyan/shared/lena/dataset/train_100000.txt\n",
      "(100000, 1)\n",
      "/home/jovyan/shared/lena/dataset/train_100000.ids\n"
     ]
    }
   ],
   "source": [
    "train_target = extract_samples(projects_df, n=num_samples, extension='.txt', column='project_text')\n",
    "print(train_target)\n",
    "\n",
    "train_ids_target = extract_samples(ids_df, n=num_samples, extension='.ids', column='project_id')\n",
    "print(train_ids_target)"
   ]
  },
  {
   "cell_type": "code",
   "execution_count": 38,
   "metadata": {},
   "outputs": [
    {
     "name": "stdout",
     "output_type": "stream",
     "text": [
      "100000 /home/jovyan/shared/lena/dataset/train_100000.txt\n",
      "100000 /home/jovyan/shared/lena/dataset/train_100000.ids\n"
     ]
    }
   ],
   "source": [
    "!wc -l {train_target}\n",
    "!wc -l {train_ids_target}"
   ]
  },
  {
   "cell_type": "markdown",
   "metadata": {},
   "source": [
    "### 500,000 samples"
   ]
  },
  {
   "cell_type": "code",
   "execution_count": 39,
   "metadata": {},
   "outputs": [],
   "source": [
    "num_samples = 500000"
   ]
  },
  {
   "cell_type": "code",
   "execution_count": 40,
   "metadata": {},
   "outputs": [
    {
     "name": "stdout",
     "output_type": "stream",
     "text": [
      "(500000, 1)\n",
      "/home/jovyan/shared/lena/dataset/train_500000.txt\n",
      "(500000, 1)\n",
      "/home/jovyan/shared/lena/dataset/train_500000.ids\n"
     ]
    }
   ],
   "source": [
    "train_target = extract_samples(projects_df, n=num_samples, extension='.txt', column='project_text')\n",
    "print(train_target)\n",
    "\n",
    "train_ids_target = extract_samples(ids_df, n=num_samples, extension='.ids', column='project_id')\n",
    "print(train_ids_target)"
   ]
  },
  {
   "cell_type": "code",
   "execution_count": 41,
   "metadata": {},
   "outputs": [
    {
     "name": "stdout",
     "output_type": "stream",
     "text": [
      "500000 /home/jovyan/shared/lena/dataset/train_500000.txt\n",
      "500000 /home/jovyan/shared/lena/dataset/train_500000.ids\n"
     ]
    }
   ],
   "source": [
    "!wc -l {train_target}\n",
    "!wc -l {train_ids_target}"
   ]
  }
 ],
 "metadata": {
  "kernelspec": {
   "display_name": "Python 3",
   "language": "python",
   "name": "python3"
  },
  "language_info": {
   "codemirror_mode": {
    "name": "ipython",
    "version": 3
   },
   "file_extension": ".py",
   "mimetype": "text/x-python",
   "name": "python",
   "nbconvert_exporter": "python",
   "pygments_lexer": "ipython3",
   "version": "3.7.3"
  }
 },
 "nbformat": 4,
 "nbformat_minor": 2
}
