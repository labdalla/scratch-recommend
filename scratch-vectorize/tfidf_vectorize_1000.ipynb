{
 "cells": [
  {
   "cell_type": "markdown",
   "metadata": {},
   "source": [
    "# tfidf vectorize\n",
    "TFIDF Vectorizing Scratch projects encoded in syntax-based language (using `scratch-textify`)."
   ]
  },
  {
   "cell_type": "markdown",
   "metadata": {},
   "source": [
    "### settings and setup"
   ]
  },
  {
   "cell_type": "code",
   "execution_count": 5,
   "metadata": {},
   "outputs": [
    {
     "name": "stdout",
     "output_type": "stream",
     "text": [
      "\u001b[33mWARNING: The directory '/home/jovyan/.cache/pip/http' or its parent directory is not owned by the current user and the cache has been disabled. Please check the permissions and owner of that directory. If executing pip with sudo, you may want sudo's -H flag.\u001b[0m\r\n",
      "\u001b[33mWARNING: The directory '/home/jovyan/.cache/pip' or its parent directory is not owned by the current user and caching wheels has been disabled. check the permissions and owner of that directory. If executing pip with sudo, you may want sudo's -H flag.\u001b[0m\r\n"
     ]
    }
   ],
   "source": [
    "# Executed by system command line\n",
    "!pip install -q scikit-learn"
   ]
  },
  {
   "cell_type": "code",
   "execution_count": 6,
   "metadata": {},
   "outputs": [
    {
     "name": "stdout",
     "output_type": "stream",
     "text": [
      "0.25.1\n"
     ]
    }
   ],
   "source": [
    "import os\n",
    "import warnings\n",
    "\n",
    "from sklearn.feature_extraction.text import TfidfVectorizer\n",
    "from sklearn.neighbors import NearestNeighbors\n",
    "\n",
    "import pandas as pd\n",
    "import numpy as np\n",
    "import matplotlib.pyplot as plt\n",
    "\n",
    "warnings.filterwarnings('ignore')\n",
    "\n",
    "print(pd.__version__)"
   ]
  },
  {
   "cell_type": "code",
   "execution_count": 59,
   "metadata": {},
   "outputs": [],
   "source": [
    "DATASET = \"./dataset\"\n",
    "TRAIN_TARGET = os.path.abspath(os.path.join(DATASET, 'train')) # add the .txt later.\n",
    "\n",
    "MODEL = \"./model\"\n",
    "MODEL_TARGET = os.path.abspath(os.path.join(MODEL, 'tfidf_vectorization')) # add the .bin later.\n",
    "\n",
    "NUM_SAMPLES = 1000"
   ]
  },
  {
   "cell_type": "markdown",
   "metadata": {},
   "source": [
    "### prepare dataset for vectorization"
   ]
  },
  {
   "cell_type": "code",
   "execution_count": 60,
   "metadata": {},
   "outputs": [],
   "source": [
    "train_target = TRAIN_TARGET + \"_\" + str(NUM_SAMPLES) + \".txt\"\n",
    "model_target = MODEL_TARGET + \"_\" + str(NUM_SAMPLES) + \".bin\""
   ]
  },
  {
   "cell_type": "code",
   "execution_count": 61,
   "metadata": {},
   "outputs": [
    {
     "name": "stdout",
     "output_type": "stream",
     "text": [
      "(1000, 1)\n",
      "                                          project_text\n",
      "668  _STARTSTACK_ event_whenflagclicked _NEXT_ look...\n",
      "228  _STARTSTACK_ event_whenflagclicked _NEXT_ look...\n",
      "144  _STARTSTACK_ event_whenflagclicked _NEXT_ look...\n",
      "569  _STARTSTACK_ event_whenflagclicked _NEXT_ cont...\n",
      "534  _STARTSTACK_ event_whenflagclicked _NEXT_ moti...\n"
     ]
    }
   ],
   "source": [
    "# read in the projects text file into df\n",
    "def to_df(filepath, columns=[]):\n",
    "    df = pd.read_csv(filepath, sep=\"\\n\", header=None)\n",
    "    df.columns = columns\n",
    "    return df\n",
    "\n",
    "projects_df = to_df(train_target, columns=['project_text'])\n",
    "print(projects_df.shape)\n",
    "display(projects_df.sample(n=5))\n",
    "\n",
    "ids_df = to_df(train_ids_target, columns=['project_id'])\n",
    "print(ids_df.shape)\n",
    "display(ids_df.sample(n=5))\n",
    "\n",
    "# ids_df = ids_df.set_index('project_id')"
   ]
  },
  {
   "cell_type": "markdown",
   "metadata": {},
   "source": [
    "### vectorize\n",
    "Vectorize the (textified) dataset using sklearn's tfidfvectorizer. The end product is a single vector for  the entire project."
   ]
  },
  {
   "cell_type": "code",
   "execution_count": 62,
   "metadata": {},
   "outputs": [],
   "source": [
    "# tokenizer = lambda text: text_to_word_sequence(text, filters='', lower=True, split=\",\")\n",
    "vectorizer = TfidfVectorizer(lowercase=False)\n",
    "tfidf_matrix = vectorizer.fit_transform(df['project_text'])"
   ]
  },
  {
   "cell_type": "code",
   "execution_count": 63,
   "metadata": {},
   "outputs": [
    {
     "name": "stdout",
     "output_type": "stream",
     "text": [
      "['_BOOLARG_', '_ENDINPUT_', '_ENDNEST_', '_ENDSTACK_', '_LIST_', '_MENU_', '_NEXT_', '_NUMTEXTARG_', '_STARTINPUT_', '_STARTNEST_', '_STARTSTACK_', '_VAR_', 'control_create_clone_of', 'control_delete_this_clone', 'control_forever', 'control_if', 'control_if_else', 'control_repeat', 'control_repeat_until', 'control_start_as_clone', 'control_stop', 'control_wait', 'control_wait_until', 'data_addtolist', 'data_changevariableby', 'data_deletealloflist', 'data_deleteoflist', 'data_hidelist', 'data_hidevariable', 'data_insertatlist', 'data_itemnumoflist', 'data_itemoflist', 'data_lengthoflist', 'data_listcontainsitem', 'data_replaceitemoflist', 'data_setvariableto', 'data_showlist', 'data_showvariable', 'event_broadcast', 'event_broadcastandwait', 'event_whenbackdropswitchesto', 'event_whenbroadcastreceived', 'event_whenflagclicked', 'event_whengreaterthan', 'event_whenkeypressed', 'event_whenthisspriteclicked', 'looks_backdropnumbername', 'looks_changeeffectby', 'looks_changesizeby', 'looks_cleargraphiceffects', 'looks_costumenumbername', 'looks_goforwardbackwardlayers', 'looks_gotofrontback', 'looks_hide', 'looks_nextbackdrop', 'looks_nextcostume', 'looks_say', 'looks_sayforsecs', 'looks_seteffectto', 'looks_setsizeto', 'looks_show', 'looks_size', 'looks_switchbackdropto', 'looks_switchbackdroptoandwait', 'looks_switchcostumeto', 'looks_think', 'looks_thinkforsecs', 'menu_option', 'motion_changexby', 'motion_changeyby', 'motion_direction', 'motion_glidesecstoxy', 'motion_glideto', 'motion_goto', 'motion_gotoxy', 'motion_ifonedgebounce', 'motion_movesteps', 'motion_pointindirection', 'motion_pointtowards', 'motion_setrotationstyle', 'motion_setx', 'motion_sety', 'motion_turnleft', 'motion_turnright', 'motion_xposition', 'motion_yposition', 'music_changeTempo', 'music_midiPlayDrumForBeats', 'music_midiSetInstrument', 'music_playDrumForBeats', 'music_playNoteForBeats', 'music_restForBeats', 'music_setInstrument', 'music_setTempo', 'numtext_input', 'operator_add', 'operator_and', 'operator_divide', 'operator_equals', 'operator_gt', 'operator_join', 'operator_length', 'operator_letter_of', 'operator_lt', 'operator_mathop', 'operator_mod', 'operator_multiply', 'operator_not', 'operator_or', 'operator_random', 'operator_round', 'operator_subtract', 'pen_changePenColorParamBy', 'pen_changePenHueBy', 'pen_changePenShadeBy', 'pen_changePenSizeBy', 'pen_clear', 'pen_penDown', 'pen_penUp', 'pen_setPenColorParamTo', 'pen_setPenColorToColor', 'pen_setPenHueToNumber', 'pen_setPenShadeToNumber', 'pen_setPenSizeTo', 'pen_stamp', 'procedures_call', 'procedures_definition', 'sensing_answer', 'sensing_askandwait', 'sensing_coloristouchingcolor', 'sensing_current', 'sensing_dayssince2000', 'sensing_distanceto', 'sensing_keypressed', 'sensing_loudness', 'sensing_mousedown', 'sensing_mousex', 'sensing_mousey', 'sensing_of', 'sensing_resettimer', 'sensing_setdragmode', 'sensing_timer', 'sensing_touchingcolor', 'sensing_touchingobject', 'sensing_username', 'sound_changevolumeby', 'sound_cleareffects', 'sound_play', 'sound_playuntildone', 'sound_seteffectto', 'sound_setvolumeto', 'sound_stopallsounds', 'sound_volume', 'text2speech_setLanguage', 'text2speech_setVoice', 'text2speech_speakAndWait', 'videoSensing_setVideoTransparency', 'videoSensing_videoToggle', 'videoSensing_whenMotionGreaterThan']\n",
      "\n",
      "\n",
      "number of features:  159\n",
      "<class 'scipy.sparse.csr.csr_matrix'>\n",
      "(1000, 159)\n"
     ]
    }
   ],
   "source": [
    "features = vectorizer.get_feature_names()\n",
    "print(features)\n",
    "print(\"\\n\")\n",
    "print(\"number of features: \", len(features))\n",
    "print(type(tfidf_matrix))\n",
    "print(tfidf_matrix.shape)"
   ]
  },
  {
   "cell_type": "code",
   "execution_count": 64,
   "metadata": {},
   "outputs": [
    {
     "name": "stdout",
     "output_type": "stream",
     "text": [
      "     _BOOLARG_  _ENDINPUT_  _ENDNEST_  _ENDSTACK_  _LIST_    _MENU_    _NEXT_  \\\n",
      "954        0.0    0.386938   0.100675    0.120986     0.0  0.355156  0.323274   \n",
      "628        0.0    0.437191   0.170624    0.136698     0.0  0.000000  0.342430   \n",
      "255        0.0    0.357278   0.083662    0.134054     0.0  0.442708  0.268645   \n",
      "491        0.0    0.471015   0.097319    0.077969     0.0  0.400538  0.286458   \n",
      "806        0.0    0.382848   0.000000    0.179560     0.0  0.000000  0.269879   \n",
      "\n",
      "     _NUMTEXTARG_  _STARTINPUT_  _STARTNEST_  ...  sound_seteffectto  \\\n",
      "954           0.0      0.386938     0.100675  ...                0.0   \n",
      "628           0.0      0.437191     0.170624  ...                0.0   \n",
      "255           0.0      0.357278     0.083662  ...                0.0   \n",
      "491           0.0      0.471015     0.097319  ...                0.0   \n",
      "806           0.0      0.382848     0.000000  ...                0.0   \n",
      "\n",
      "     sound_setvolumeto  sound_stopallsounds  sound_volume  \\\n",
      "954                0.0                  0.0           0.0   \n",
      "628                0.0                  0.0           0.0   \n",
      "255                0.0                  0.0           0.0   \n",
      "491                0.0                  0.0           0.0   \n",
      "806                0.0                  0.0           0.0   \n",
      "\n",
      "     text2speech_setLanguage  text2speech_setVoice  text2speech_speakAndWait  \\\n",
      "954                      0.0                   0.0                       0.0   \n",
      "628                      0.0                   0.0                       0.0   \n",
      "255                      0.0                   0.0                       0.0   \n",
      "491                      0.0                   0.0                       0.0   \n",
      "806                      0.0                   0.0                       0.0   \n",
      "\n",
      "     videoSensing_setVideoTransparency  videoSensing_videoToggle  \\\n",
      "954                                0.0                       0.0   \n",
      "628                                0.0                       0.0   \n",
      "255                                0.0                       0.0   \n",
      "491                                0.0                       0.0   \n",
      "806                                0.0                       0.0   \n",
      "\n",
      "     videoSensing_whenMotionGreaterThan  \n",
      "954                                 0.0  \n",
      "628                                 0.0  \n",
      "255                                 0.0  \n",
      "491                                 0.0  \n",
      "806                                 0.0  \n",
      "\n",
      "[5 rows x 159 columns]\n",
      "\n",
      "\n",
      "(1000, 159)\n"
     ]
    }
   ],
   "source": [
    "# make it into vector with columns being the feature names\n",
    "tfidf_df = pd.DataFrame(tfidf_matrix.toarray())\n",
    "tfidf_df.columns = features\n",
    "print(tfidf_df.sample(n=5))\n",
    "print('\\n')\n",
    "print(tfidf_df.shape)"
   ]
  },
  {
   "cell_type": "code",
   "execution_count": 8,
   "metadata": {},
   "outputs": [],
   "source": [
    "# save the vectorizer into disk (using pickle)?\n"
   ]
  },
  {
   "cell_type": "markdown",
   "metadata": {},
   "source": [
    "-----"
   ]
  },
  {
   "cell_type": "markdown",
   "metadata": {},
   "source": [
    "## evaluate"
   ]
  },
  {
   "cell_type": "markdown",
   "metadata": {},
   "source": [
    "### nearest neighbors"
   ]
  },
  {
   "cell_type": "code",
   "execution_count": 65,
   "metadata": {
    "scrolled": true
   },
   "outputs": [
    {
     "data": {
      "text/plain": [
       "NearestNeighbors(algorithm='auto', leaf_size=30, metric='cosine',\n",
       "                 metric_params=None, n_jobs=None, n_neighbors=5, p=2,\n",
       "                 radius=1.0)"
      ]
     },
     "execution_count": 65,
     "metadata": {},
     "output_type": "execute_result"
    }
   ],
   "source": [
    "nearest_neighbors = NearestNeighbors(metric=\"cosine\")\n",
    "nearest_neighbors.fit(tfidf_df)"
   ]
  },
  {
   "cell_type": "code",
   "execution_count": 66,
   "metadata": {},
   "outputs": [
    {
     "name": "stdout",
     "output_type": "stream",
     "text": [
      "index:  353\n"
     ]
    }
   ],
   "source": [
    "k = 5\n",
    "index = np.random.randint(0, tfidf_df.shape[0])\n",
    "print(\"index: \", index)"
   ]
  },
  {
   "cell_type": "code",
   "execution_count": 67,
   "metadata": {},
   "outputs": [
    {
     "name": "stdout",
     "output_type": "stream",
     "text": [
      "[[0.         0.46646538 0.00574892 0.05527016 0.         0.22308913\n",
      "  0.37843479 0.         0.46646538 0.00574892 0.05527016 0.\n",
      "  0.         0.         0.         0.0090913  0.         0.\n",
      "  0.         0.         0.         0.18305679 0.         0.\n",
      "  0.         0.         0.         0.         0.         0.\n",
      "  0.         0.         0.         0.         0.         0.\n",
      "  0.         0.         0.05093286 0.         0.         0.08015697\n",
      "  0.01989804 0.         0.         0.         0.         0.\n",
      "  0.         0.         0.         0.         0.         0.0546944\n",
      "  0.         0.         0.         0.29367656 0.         0.\n",
      "  0.02709232 0.         0.03117604 0.         0.04576315 0.\n",
      "  0.03645538 0.11380898 0.         0.         0.         0.\n",
      "  0.         0.         0.         0.         0.         0.\n",
      "  0.         0.         0.         0.         0.         0.\n",
      "  0.         0.         0.         0.         0.         0.\n",
      "  0.         0.         0.         0.         0.4638717  0.\n",
      "  0.         0.         0.         0.         0.         0.\n",
      "  0.         0.         0.         0.         0.         0.\n",
      "  0.         0.         0.         0.         0.         0.\n",
      "  0.         0.         0.         0.         0.         0.\n",
      "  0.         0.         0.         0.         0.         0.\n",
      "  0.         0.         0.         0.         0.         0.\n",
      "  0.         0.01261206 0.         0.         0.         0.\n",
      "  0.         0.         0.         0.         0.         0.\n",
      "  0.         0.         0.         0.         0.         0.\n",
      "  0.         0.         0.         0.         0.         0.\n",
      "  0.         0.         0.        ]]\n"
     ]
    }
   ],
   "source": [
    "# choose a random project and find its nearest k neighbors\n",
    "starting_vector = np.array([tfidf_df.iloc[index]])\n",
    "print(starting_vector)"
   ]
  },
  {
   "cell_type": "code",
   "execution_count": 73,
   "metadata": {},
   "outputs": [
    {
     "name": "stdout",
     "output_type": "stream",
     "text": [
      "nearest neighbors:  [(353, 2.220446049250313e-16), (942, 0.012359907496883205), (602, 0.013966959018432812), (263, 0.015051012506195671), (117, 0.01689257182796844)]\n"
     ]
    }
   ],
   "source": [
    "nearest_distances, nearest_vector_indices = nearest_neighbors.kneighbors(starting_vector, k)\n",
    "print(\"nearest neighbors: \", list(zip(nearest_vector_indices.flatten().tolist(), nearest_distances.flatten().tolist())))\n"
   ]
  },
  {
   "cell_type": "code",
   "execution_count": 74,
   "metadata": {
    "scrolled": false
   },
   "outputs": [
    {
     "name": "stdout",
     "output_type": "stream",
     "text": [
      "============== STARTING VECTOR:\n",
      "\n",
      "_STARTSTACK_ event_whenbroadcastreceived _MENU_ menu_option _MENU_ _NEXT_ looks_switchbackdropto _MENU_ menu_option _MENU_ _ENDSTACK_ _STARTSTACK_ event_whenflagclicked _NEXT_ looks_switchbackdropto _MENU_ menu_option _MENU_ _ENDSTACK_ _STARTSTACK_ event_whenbroadcastreceived _MENU_ menu_option _MENU_ _NEXT_ looks_switchbackdropto _MENU_ menu_option _MENU_ _ENDSTACK_ _STARTSTACK_ event_whenbroadcastreceived _MENU_ menu_option _MENU_ _ENDSTACK_ _STARTSTACK_ event_whenflagclicked _NEXT_ looks_show _NEXT_ looks_switchcostumeto _MENU_ menu_option _MENU_ _NEXT_ looks_sayforsecs _STARTINPUT_ numtext_input _ENDINPUT_ _STARTINPUT_ numtext_input _ENDINPUT_ _NEXT_ control_wait _STARTINPUT_ numtext_input _ENDINPUT_ _NEXT_ looks_sayforsecs _STARTINPUT_ numtext_input _ENDINPUT_ _STARTINPUT_ numtext_input _ENDINPUT_ _NEXT_ control_wait _STARTINPUT_ numtext_input _ENDINPUT_ _NEXT_ looks_switchcostumeto _MENU_ menu_option _MENU_ _NEXT_ control_wait _STARTINPUT_ numtext_input _ENDINPUT_ _NEXT_ looks_switchcostumeto _MENU_ menu_option _MENU_ _NEXT_ looks_sayforsecs _STARTINPUT_ numtext_input _ENDINPUT_ _STARTINPUT_ numtext_input _ENDINPUT_ _NEXT_ control_wait _STARTINPUT_ numtext_input _ENDINPUT_ _NEXT_ looks_sayforsecs _STARTINPUT_ numtext_input _ENDINPUT_ _STARTINPUT_ numtext_input _ENDINPUT_ _NEXT_ control_wait _STARTINPUT_ numtext_input _ENDINPUT_ _NEXT_ looks_sayforsecs _STARTINPUT_ numtext_input _ENDINPUT_ _STARTINPUT_ numtext_input _ENDINPUT_ _NEXT_ control_wait _STARTINPUT_ numtext_input _ENDINPUT_ _NEXT_ looks_sayforsecs _STARTINPUT_ numtext_input _ENDINPUT_ _STARTINPUT_ numtext_input _ENDINPUT_ _NEXT_ control_wait _STARTINPUT_ numtext_input _ENDINPUT_ _NEXT_ looks_sayforsecs _STARTINPUT_ numtext_input _ENDINPUT_ _STARTINPUT_ numtext_input _ENDINPUT_ _NEXT_ control_wait _STARTINPUT_ numtext_input _ENDINPUT_ _NEXT_ looks_sayforsecs _STARTINPUT_ numtext_input _ENDINPUT_ _STARTINPUT_ numtext_input _ENDINPUT_ _NEXT_ control_wait _STARTINPUT_ numtext_input _ENDINPUT_ _NEXT_ looks_thinkforsecs _STARTINPUT_ numtext_input _ENDINPUT_ _STARTINPUT_ numtext_input _ENDINPUT_ _NEXT_ control_wait _STARTINPUT_ numtext_input _ENDINPUT_ _NEXT_ looks_sayforsecs _STARTINPUT_ numtext_input _ENDINPUT_ _STARTINPUT_ numtext_input _ENDINPUT_ _NEXT_ looks_sayforsecs _STARTINPUT_ numtext_input _ENDINPUT_ _STARTINPUT_ numtext_input _ENDINPUT_ _NEXT_ control_if _STARTINPUT_ sensing_keypressed _MENU_ menu_option _MENU_ _ENDINPUT_ _STARTNEST_ looks_switchcostumeto _MENU_ menu_option _MENU_ _NEXT_ looks_sayforsecs _STARTINPUT_ numtext_input _ENDINPUT_ _STARTINPUT_ numtext_input _ENDINPUT_ _NEXT_ looks_thinkforsecs _STARTINPUT_ numtext_input _ENDINPUT_ _STARTINPUT_ numtext_input _ENDINPUT_ _NEXT_ looks_switchcostumeto _MENU_ menu_option _MENU_ _ENDNEST_ _NEXT_ control_wait _STARTINPUT_ numtext_input _ENDINPUT_ _NEXT_ looks_sayforsecs _STARTINPUT_ numtext_input _ENDINPUT_ _STARTINPUT_ numtext_input _ENDINPUT_ _NEXT_ event_broadcast _MENU_ menu_option _MENU_ _NEXT_ control_wait _STARTINPUT_ numtext_input _ENDINPUT_ _NEXT_ looks_sayforsecs _STARTINPUT_ numtext_input _ENDINPUT_ _STARTINPUT_ numtext_input _ENDINPUT_ _NEXT_ control_wait _STARTINPUT_ numtext_input _ENDINPUT_ _NEXT_ looks_sayforsecs _STARTINPUT_ numtext_input _ENDINPUT_ _STARTINPUT_ numtext_input _ENDINPUT_ _NEXT_ control_wait _STARTINPUT_ numtext_input _ENDINPUT_ _NEXT_ looks_sayforsecs _STARTINPUT_ numtext_input _ENDINPUT_ _STARTINPUT_ numtext_input _ENDINPUT_ _NEXT_ control_wait _STARTINPUT_ numtext_input _ENDINPUT_ _NEXT_ looks_sayforsecs _STARTINPUT_ numtext_input _ENDINPUT_ _STARTINPUT_ numtext_input _ENDINPUT_ _NEXT_ looks_sayforsecs _STARTINPUT_ numtext_input _ENDINPUT_ _STARTINPUT_ numtext_input _ENDINPUT_ _NEXT_ event_broadcast _MENU_ menu_option _MENU_ _NEXT_ looks_sayforsecs _STARTINPUT_ numtext_input _ENDINPUT_ _STARTINPUT_ numtext_input _ENDINPUT_ _NEXT_ control_wait _STARTINPUT_ numtext_input _ENDINPUT_ _NEXT_ looks_sayforsecs _STARTINPUT_ numtext_input _ENDINPUT_ _STARTINPUT_ numtext_input _ENDINPUT_ _NEXT_ control_wait _STARTINPUT_ numtext_input _ENDINPUT_ _NEXT_ looks_sayforsecs _STARTINPUT_ numtext_input _ENDINPUT_ _STARTINPUT_ numtext_input _ENDINPUT_ _NEXT_ control_wait _STARTINPUT_ numtext_input _ENDINPUT_ _NEXT_ looks_sayforsecs _STARTINPUT_ numtext_input _ENDINPUT_ _STARTINPUT_ numtext_input _ENDINPUT_ _NEXT_ control_wait _STARTINPUT_ numtext_input _ENDINPUT_ _NEXT_ looks_sayforsecs _STARTINPUT_ numtext_input _ENDINPUT_ _STARTINPUT_ numtext_input _ENDINPUT_ _NEXT_ looks_sayforsecs _STARTINPUT_ numtext_input _ENDINPUT_ _STARTINPUT_ numtext_input _ENDINPUT_ _NEXT_ event_broadcast _MENU_ menu_option _MENU_ _ENDSTACK_ _STARTSTACK_ event_whenbroadcastreceived _MENU_ menu_option _MENU_ _NEXT_ looks_sayforsecs _STARTINPUT_ numtext_input _ENDINPUT_ _STARTINPUT_ numtext_input _ENDINPUT_ _NEXT_ control_wait _STARTINPUT_ numtext_input _ENDINPUT_ _NEXT_ looks_hide _ENDSTACK_ _STARTSTACK_ event_whenbroadcastreceived _MENU_ menu_option _MENU_ _NEXT_ looks_hide _ENDSTACK_ _STARTSTACK_ event_whenflagclicked _NEXT_ looks_hide _ENDSTACK_ _STARTSTACK_ event_whenbroadcastreceived _MENU_ menu_option _MENU_ _NEXT_ looks_show _NEXT_ control_wait _STARTINPUT_ numtext_input _ENDINPUT_ _NEXT_ looks_sayforsecs _STARTINPUT_ numtext_input _ENDINPUT_ _STARTINPUT_ numtext_input _ENDINPUT_ _NEXT_ control_wait _STARTINPUT_ numtext_input _ENDINPUT_ _NEXT_ looks_sayforsecs _STARTINPUT_ numtext_input _ENDINPUT_ _STARTINPUT_ numtext_input _ENDINPUT_ _NEXT_ control_wait _STARTINPUT_ numtext_input _ENDINPUT_ _NEXT_ looks_sayforsecs _STARTINPUT_ numtext_input _ENDINPUT_ _STARTINPUT_ numtext_input _ENDINPUT_ _NEXT_ control_wait _STARTINPUT_ numtext_input _ENDINPUT_ _NEXT_ looks_sayforsecs _STARTINPUT_ numtext_input _ENDINPUT_ _STARTINPUT_ numtext_input _ENDINPUT_ _NEXT_ control_wait _STARTINPUT_ numtext_input _ENDINPUT_ _NEXT_ looks_sayforsecs _STARTINPUT_ numtext_input _ENDINPUT_ _STARTINPUT_ numtext_input _ENDINPUT_ _NEXT_ looks_sayforsecs _STARTINPUT_ numtext_input _ENDINPUT_ _STARTINPUT_ numtext_input _ENDINPUT_ _ENDSTACK_ _STARTSTACK_ event_whenbroadcastreceived _MENU_ menu_option _MENU_ _NEXT_ looks_hide _ENDSTACK_ _STARTSTACK_ event_whenflagclicked _NEXT_ looks_hide _ENDSTACK_ _STARTSTACK_ event_whenbroadcastreceived _MENU_ menu_option _MENU_ _NEXT_ looks_show _NEXT_ looks_sayforsecs _STARTINPUT_ numtext_input _ENDINPUT_ _STARTINPUT_ numtext_input _ENDINPUT_ _NEXT_ event_broadcast _MENU_ menu_option _MENU_ _NEXT_ control_wait _STARTINPUT_ numtext_input _ENDINPUT_ _NEXT_ looks_sayforsecs _STARTINPUT_ numtext_input _ENDINPUT_ _STARTINPUT_ numtext_input _ENDINPUT_ _NEXT_ event_broadcast _MENU_ menu_option _MENU_ _NEXT_ looks_hide _ENDSTACK_\n",
      "\n",
      "\n",
      "============== NEAREST NEIGHBORS:\n",
      "\n",
      "_STARTSTACK_ event_whenflagclicked _NEXT_ looks_switchbackdropto _MENU_ menu_option _MENU_ _NEXT_ looks_hide _NEXT_ looks_switchcostumeto _MENU_ menu_option _MENU_ _NEXT_ motion_gotoxy _STARTINPUT_ numtext_input _ENDINPUT_ _STARTINPUT_ numtext_input _ENDINPUT_ _NEXT_ looks_show _NEXT_ control_wait _STARTINPUT_ numtext_input _ENDINPUT_ _NEXT_ looks_sayforsecs _STARTINPUT_ numtext_input _ENDINPUT_ _STARTINPUT_ numtext_input _ENDINPUT_ _NEXT_ control_wait _STARTINPUT_ numtext_input _ENDINPUT_ _NEXT_ looks_sayforsecs _STARTINPUT_ numtext_input _ENDINPUT_ _STARTINPUT_ numtext_input _ENDINPUT_ _NEXT_ control_wait _STARTINPUT_ numtext_input _ENDINPUT_ _NEXT_ looks_sayforsecs _STARTINPUT_ numtext_input _ENDINPUT_ _STARTINPUT_ numtext_input _ENDINPUT_ _NEXT_ looks_switchcostumeto _MENU_ menu_option _MENU_ _NEXT_ motion_glidesecstoxy _STARTINPUT_ numtext_input _ENDINPUT_ _STARTINPUT_ numtext_input _ENDINPUT_ _STARTINPUT_ numtext_input _ENDINPUT_ _NEXT_ looks_hide _NEXT_ control_wait _STARTINPUT_ numtext_input _ENDINPUT_ _NEXT_ motion_gotoxy _STARTINPUT_ numtext_input _ENDINPUT_ _STARTINPUT_ numtext_input _ENDINPUT_ _NEXT_ looks_show _NEXT_ looks_sayforsecs _STARTINPUT_ numtext_input _ENDINPUT_ _STARTINPUT_ numtext_input _ENDINPUT_ _NEXT_ event_broadcast _MENU_ menu_option _MENU_ _NEXT_ control_wait _STARTINPUT_ numtext_input _ENDINPUT_ _NEXT_ looks_sayforsecs _STARTINPUT_ numtext_input _ENDINPUT_ _STARTINPUT_ numtext_input _ENDINPUT_ _NEXT_ control_wait _STARTINPUT_ numtext_input _ENDINPUT_ _NEXT_ looks_switchcostumeto _MENU_ menu_option _MENU_ _NEXT_ looks_sayforsecs _STARTINPUT_ numtext_input _ENDINPUT_ _STARTINPUT_ numtext_input _ENDINPUT_ _NEXT_ control_wait _STARTINPUT_ numtext_input _ENDINPUT_ _NEXT_ looks_sayforsecs _STARTINPUT_ numtext_input _ENDINPUT_ _STARTINPUT_ numtext_input _ENDINPUT_ _ENDSTACK_ _STARTSTACK_ event_whenbroadcastreceived _MENU_ menu_option _MENU_ _NEXT_ looks_sayforsecs _STARTINPUT_ numtext_input _ENDINPUT_ _STARTINPUT_ numtext_input _ENDINPUT_ _NEXT_ control_wait _STARTINPUT_ numtext_input _ENDINPUT_ _NEXT_ looks_sayforsecs _STARTINPUT_ numtext_input _ENDINPUT_ _STARTINPUT_ numtext_input _ENDINPUT_ _NEXT_ event_broadcast _MENU_ menu_option _MENU_ _NEXT_ control_wait _STARTINPUT_ numtext_input _ENDINPUT_ _NEXT_ looks_hide _NEXT_ looks_switchcostumeto _MENU_ menu_option _MENU_ _NEXT_ motion_gotoxy _STARTINPUT_ numtext_input _ENDINPUT_ _STARTINPUT_ numtext_input _ENDINPUT_ _NEXT_ event_broadcast _MENU_ menu_option _MENU_ _NEXT_ looks_show _NEXT_ control_wait _STARTINPUT_ numtext_input _ENDINPUT_ _NEXT_ looks_sayforsecs _STARTINPUT_ numtext_input _ENDINPUT_ _STARTINPUT_ numtext_input _ENDINPUT_ _NEXT_ control_wait _STARTINPUT_ numtext_input _ENDINPUT_ _NEXT_ looks_sayforsecs _STARTINPUT_ numtext_input _ENDINPUT_ _STARTINPUT_ numtext_input _ENDINPUT_ _NEXT_ looks_hide _NEXT_ looks_switchbackdropto _MENU_ menu_option _MENU_ _ENDSTACK_ _STARTSTACK_ event_whenflagclicked _NEXT_ looks_hide _NEXT_ looks_switchcostumeto _MENU_ menu_option _MENU_ _NEXT_ motion_gotoxy _STARTINPUT_ numtext_input _ENDINPUT_ _STARTINPUT_ numtext_input _ENDINPUT_ _NEXT_ control_wait _STARTINPUT_ numtext_input _ENDINPUT_ _NEXT_ looks_show _NEXT_ motion_glidesecstoxy _STARTINPUT_ numtext_input _ENDINPUT_ _STARTINPUT_ numtext_input _ENDINPUT_ _STARTINPUT_ numtext_input _ENDINPUT_ _NEXT_ looks_sayforsecs _STARTINPUT_ numtext_input _ENDINPUT_ _STARTINPUT_ numtext_input _ENDINPUT_ _NEXT_ control_wait _STARTINPUT_ numtext_input _ENDINPUT_ _NEXT_ looks_thinkforsecs _STARTINPUT_ numtext_input _ENDINPUT_ _STARTINPUT_ numtext_input _ENDINPUT_ _NEXT_ looks_sayforsecs _STARTINPUT_ numtext_input _ENDINPUT_ _STARTINPUT_ numtext_input _ENDINPUT_ _NEXT_ looks_switchcostumeto _MENU_ menu_option _MENU_ _NEXT_ motion_glidesecstoxy _STARTINPUT_ numtext_input _ENDINPUT_ _STARTINPUT_ numtext_input _ENDINPUT_ _STARTINPUT_ numtext_input _ENDINPUT_ _NEXT_ looks_hide _ENDSTACK_ _STARTSTACK_ event_whenbroadcastreceived _MENU_ menu_option _MENU_ _NEXT_ motion_gotoxy _STARTINPUT_ numtext_input _ENDINPUT_ _STARTINPUT_ numtext_input _ENDINPUT_ _NEXT_ looks_show _NEXT_ looks_sayforsecs _STARTINPUT_ numtext_input _ENDINPUT_ _STARTINPUT_ numtext_input _ENDINPUT_ _NEXT_ control_wait _STARTINPUT_ numtext_input _ENDINPUT_ _NEXT_ looks_sayforsecs _STARTINPUT_ numtext_input _ENDINPUT_ _STARTINPUT_ numtext_input _ENDINPUT_ _NEXT_ control_wait _STARTINPUT_ numtext_input _ENDINPUT_ _NEXT_ looks_sayforsecs _STARTINPUT_ numtext_input _ENDINPUT_ _STARTINPUT_ numtext_input _ENDINPUT_ _ENDSTACK_ _STARTSTACK_ event_whenbroadcastreceived _MENU_ menu_option _MENU_ _NEXT_ looks_sayforsecs _STARTINPUT_ numtext_input _ENDINPUT_ _STARTINPUT_ numtext_input _ENDINPUT_ _NEXT_ looks_hide _NEXT_ motion_gotoxy _STARTINPUT_ numtext_input _ENDINPUT_ _STARTINPUT_ numtext_input _ENDINPUT_ _NEXT_ control_wait _STARTINPUT_ numtext_input _ENDINPUT_ _NEXT_ looks_hide _ENDSTACK_ _STARTSTACK_ event_whenbroadcastreceived _MENU_ menu_option _MENU_ _NEXT_ looks_show _ENDSTACK_ _STARTSTACK_ event_whenflagclicked _NEXT_ looks_hide _NEXT_ looks_switchcostumeto _MENU_ menu_option _MENU_ _NEXT_ motion_gotoxy _STARTINPUT_ numtext_input _ENDINPUT_ _STARTINPUT_ numtext_input _ENDINPUT_ _ENDSTACK_ _STARTSTACK_ event_whenbroadcastreceived _MENU_ menu_option _MENU_ _NEXT_ looks_show _NEXT_ motion_glidesecstoxy _STARTINPUT_ numtext_input _ENDINPUT_ _STARTINPUT_ numtext_input _ENDINPUT_ _STARTINPUT_ numtext_input _ENDINPUT_ _NEXT_ looks_sayforsecs _STARTINPUT_ numtext_input _ENDINPUT_ _STARTINPUT_ numtext_input _ENDINPUT_ _NEXT_ control_wait _STARTINPUT_ numtext_input _ENDINPUT_ _NEXT_ looks_sayforsecs _STARTINPUT_ numtext_input _ENDINPUT_ _STARTINPUT_ numtext_input _ENDINPUT_ _NEXT_ looks_sayforsecs _STARTINPUT_ numtext_input _ENDINPUT_ _STARTINPUT_ numtext_input _ENDINPUT_ _NEXT_ motion_glidesecstoxy _STARTINPUT_ numtext_input _ENDINPUT_ _STARTINPUT_ numtext_input _ENDINPUT_ _STARTINPUT_ numtext_input _ENDINPUT_ _NEXT_ looks_sayforsecs _STARTINPUT_ numtext_input _ENDINPUT_ _STARTINPUT_ numtext_input _ENDINPUT_ _NEXT_ event_broadcast _MENU_ menu_option _MENU_ _NEXT_ control_wait _STARTINPUT_ numtext_input _ENDINPUT_ _NEXT_ looks_sayforsecs _STARTINPUT_ numtext_input _ENDINPUT_ _STARTINPUT_ numtext_input _ENDINPUT_ _NEXT_ control_wait _STARTINPUT_ numtext_input _ENDINPUT_ _NEXT_ looks_sayforsecs _STARTINPUT_ numtext_input _ENDINPUT_ _STARTINPUT_ numtext_input _ENDINPUT_ _NEXT_ control_wait _STARTINPUT_ numtext_input _ENDINPUT_ _NEXT_ looks_sayforsecs _STARTINPUT_ numtext_input _ENDINPUT_ _STARTINPUT_ numtext_input _ENDINPUT_ _NEXT_ event_broadcast _MENU_ menu_option _MENU_ _NEXT_ control_wait _STARTINPUT_ numtext_input _ENDINPUT_ _NEXT_ looks_sayforsecs _STARTINPUT_ numtext_input _ENDINPUT_ _STARTINPUT_ numtext_input _ENDINPUT_ _ENDSTACK_ _STARTSTACK_ event_whenbroadcastreceived _MENU_ menu_option _MENU_ _NEXT_ control_wait _STARTINPUT_ numtext_input _ENDINPUT_ _NEXT_ looks_hide _NEXT_ motion_gotoxy _STARTINPUT_ numtext_input _ENDINPUT_ _STARTINPUT_ numtext_input _ENDINPUT_ _NEXT_ control_wait _STARTINPUT_ numtext_input _ENDINPUT_ _NEXT_ looks_hide _ENDSTACK_ _STARTSTACK_ event_whenbroadcastreceived _MENU_ menu_option _MENU_ _NEXT_ looks_show _ENDSTACK_ _STARTSTACK_ event_whenflagclicked _NEXT_ looks_hide _NEXT_ looks_switchcostumeto _MENU_ menu_option _MENU_ _NEXT_ motion_gotoxy _STARTINPUT_ numtext_input _ENDINPUT_ _STARTINPUT_ numtext_input _ENDINPUT_ _NEXT_ looks_show _NEXT_ looks_sayforsecs _STARTINPUT_ numtext_input _ENDINPUT_ _STARTINPUT_ numtext_input _ENDINPUT_ _NEXT_ control_wait _STARTINPUT_ numtext_input _ENDINPUT_ _NEXT_ looks_sayforsecs _STARTINPUT_ numtext_input _ENDINPUT_ _STARTINPUT_ numtext_input _ENDINPUT_ _NEXT_ control_wait _STARTINPUT_ numtext_input _ENDINPUT_ _NEXT_ looks_sayforsecs _STARTINPUT_ numtext_input _ENDINPUT_ _STARTINPUT_ numtext_input _ENDINPUT_ _NEXT_ control_wait _STARTINPUT_ numtext_input _ENDINPUT_ _NEXT_ looks_switchcostumeto _MENU_ menu_option _MENU_ _NEXT_ motion_glidesecstoxy _STARTINPUT_ numtext_input _ENDINPUT_ _STARTINPUT_ numtext_input _ENDINPUT_ _STARTINPUT_ numtext_input _ENDINPUT_ _NEXT_ looks_hide _NEXT_ motion_gotoxy _STARTINPUT_ numtext_input _ENDINPUT_ _STARTINPUT_ numtext_input _ENDINPUT_ _NEXT_ looks_switchcostumeto _MENU_ menu_option _MENU_ _NEXT_ looks_show _NEXT_ control_wait _STARTINPUT_ numtext_input _ENDINPUT_ _NEXT_ looks_sayforsecs _STARTINPUT_ numtext_input _ENDINPUT_ _STARTINPUT_ numtext_input _ENDINPUT_ _NEXT_ control_wait _STARTINPUT_ numtext_input _ENDINPUT_ _NEXT_ looks_hide _ENDSTACK_ _STARTSTACK_ event_whenbroadcastreceived _MENU_ menu_option _MENU_ _NEXT_ looks_show _NEXT_ control_wait _STARTINPUT_ numtext_input _ENDINPUT_ _NEXT_ looks_sayforsecs _STARTINPUT_ numtext_input _ENDINPUT_ _STARTINPUT_ numtext_input _ENDINPUT_ _NEXT_ control_wait _STARTINPUT_ numtext_input _ENDINPUT_ _NEXT_ looks_hide _ENDSTACK_\n",
      "\n",
      "\n",
      "_STARTSTACK_ event_whenflagclicked _NEXT_ looks_sayforsecs _STARTINPUT_ numtext_input _ENDINPUT_ _STARTINPUT_ numtext_input _ENDINPUT_ _NEXT_ control_wait _STARTINPUT_ numtext_input _ENDINPUT_ _NEXT_ looks_sayforsecs _STARTINPUT_ numtext_input _ENDINPUT_ _STARTINPUT_ numtext_input _ENDINPUT_ _NEXT_ control_wait _STARTINPUT_ numtext_input _ENDINPUT_ _NEXT_ looks_sayforsecs _STARTINPUT_ numtext_input _ENDINPUT_ _STARTINPUT_ numtext_input _ENDINPUT_ _ENDSTACK_ _STARTSTACK_ event_whenkeypressed _MENU_ menu_option _MENU_ _NEXT_ looks_sayforsecs _STARTINPUT_ numtext_input _ENDINPUT_ _STARTINPUT_ numtext_input _ENDINPUT_ _NEXT_ control_wait _STARTINPUT_ numtext_input _ENDINPUT_ _NEXT_ looks_sayforsecs _STARTINPUT_ numtext_input _ENDINPUT_ _STARTINPUT_ numtext_input _ENDINPUT_ _ENDSTACK_ _STARTSTACK_ event_whenflagclicked _NEXT_ control_wait _STARTINPUT_ numtext_input _ENDINPUT_ _NEXT_ looks_sayforsecs _STARTINPUT_ numtext_input _ENDINPUT_ _STARTINPUT_ numtext_input _ENDINPUT_ _NEXT_ control_wait _STARTINPUT_ numtext_input _ENDINPUT_ _NEXT_ looks_sayforsecs _STARTINPUT_ numtext_input _ENDINPUT_ _STARTINPUT_ numtext_input _ENDINPUT_ _ENDSTACK_ _STARTSTACK_ event_whenkeypressed _MENU_ menu_option _MENU_ _NEXT_ control_wait _STARTINPUT_ numtext_input _ENDINPUT_ _NEXT_ looks_sayforsecs _STARTINPUT_ numtext_input _ENDINPUT_ _STARTINPUT_ numtext_input _ENDINPUT_ _NEXT_ control_wait _STARTINPUT_ numtext_input _ENDINPUT_ _NEXT_ looks_switchcostumeto _MENU_ menu_option _MENU_ _NEXT_ control_wait _STARTINPUT_ numtext_input _ENDINPUT_ _NEXT_ looks_switchcostumeto _MENU_ menu_option _MENU_ _ENDSTACK_ _STARTSTACK_ event_whenflagclicked _NEXT_ looks_hide _NEXT_ motion_gotoxy _STARTINPUT_ numtext_input _ENDINPUT_ _STARTINPUT_ numtext_input _ENDINPUT_ _NEXT_ looks_show _NEXT_ looks_gotofrontback _MENU_ menu_option _MENU_ _ENDSTACK_\n",
      "\n",
      "\n",
      "_STARTSTACK_ event_whenflagclicked _NEXT_ looks_switchbackdropto _MENU_ menu_option _MENU_ _NEXT_ control_wait _STARTINPUT_ numtext_input _ENDINPUT_ _NEXT_ event_broadcast _MENU_ menu_option _MENU_ _ENDSTACK_ _STARTSTACK_ event_whenbroadcastreceived _MENU_ menu_option _MENU_ _NEXT_ looks_switchbackdropto _MENU_ menu_option _MENU_ _ENDSTACK_ _STARTSTACK_ event_whenbroadcastreceived _MENU_ menu_option _MENU_ _NEXT_ looks_switchbackdropto _MENU_ menu_option _MENU_ _ENDSTACK_ _STARTSTACK_ event_whenflagclicked _NEXT_ looks_hide _ENDSTACK_ _STARTSTACK_ event_whenbroadcastreceived _MENU_ menu_option _MENU_ _NEXT_ looks_show _NEXT_ looks_sayforsecs _STARTINPUT_ numtext_input _ENDINPUT_ _STARTINPUT_ numtext_input _ENDINPUT_ _NEXT_ control_wait _STARTINPUT_ numtext_input _ENDINPUT_ _NEXT_ looks_sayforsecs _STARTINPUT_ numtext_input _ENDINPUT_ _STARTINPUT_ numtext_input _ENDINPUT_ _NEXT_ control_wait _STARTINPUT_ numtext_input _ENDINPUT_ _NEXT_ looks_sayforsecs _STARTINPUT_ numtext_input _ENDINPUT_ _STARTINPUT_ numtext_input _ENDINPUT_ _NEXT_ control_wait _STARTINPUT_ numtext_input _ENDINPUT_ _NEXT_ looks_sayforsecs _STARTINPUT_ numtext_input _ENDINPUT_ _STARTINPUT_ numtext_input _ENDINPUT_ _NEXT_ control_wait _STARTINPUT_ numtext_input _ENDINPUT_ _NEXT_ looks_sayforsecs _STARTINPUT_ numtext_input _ENDINPUT_ _STARTINPUT_ numtext_input _ENDINPUT_ _NEXT_ event_broadcast _MENU_ menu_option _MENU_ _ENDSTACK_ _STARTSTACK_ event_whenflagclicked _NEXT_ looks_hide _ENDSTACK_ _STARTSTACK_ event_whenbroadcastreceived _MENU_ menu_option _MENU_ _NEXT_ looks_show _NEXT_ control_wait _STARTINPUT_ numtext_input _ENDINPUT_ _NEXT_ looks_sayforsecs _STARTINPUT_ numtext_input _ENDINPUT_ _STARTINPUT_ numtext_input _ENDINPUT_ _NEXT_ control_wait _STARTINPUT_ numtext_input _ENDINPUT_ _NEXT_ looks_sayforsecs _STARTINPUT_ numtext_input _ENDINPUT_ _STARTINPUT_ numtext_input _ENDINPUT_ _NEXT_ control_wait _STARTINPUT_ numtext_input _ENDINPUT_ _NEXT_ looks_sayforsecs _STARTINPUT_ numtext_input _ENDINPUT_ _STARTINPUT_ numtext_input _ENDINPUT_ _NEXT_ control_wait _STARTINPUT_ numtext_input _ENDINPUT_ _NEXT_ looks_sayforsecs _STARTINPUT_ numtext_input _ENDINPUT_ _STARTINPUT_ numtext_input _ENDINPUT_ _ENDSTACK_\n",
      "\n",
      "\n",
      "_STARTSTACK_ event_whenflagclicked _NEXT_ control_wait _STARTINPUT_ numtext_input _ENDINPUT_ _ENDSTACK_ _STARTSTACK_ event_whenflagclicked _NEXT_ sound_playuntildone _MENU_ menu_option _MENU_ _NEXT_ looks_sayforsecs _STARTINPUT_ numtext_input _ENDINPUT_ _STARTINPUT_ numtext_input _ENDINPUT_ _NEXT_ control_wait _STARTINPUT_ numtext_input _ENDINPUT_ _NEXT_ looks_sayforsecs _STARTINPUT_ numtext_input _ENDINPUT_ _STARTINPUT_ numtext_input _ENDINPUT_ _NEXT_ control_wait _STARTINPUT_ numtext_input _ENDINPUT_ _NEXT_ looks_sayforsecs _STARTINPUT_ numtext_input _ENDINPUT_ _STARTINPUT_ numtext_input _ENDINPUT_ _NEXT_ control_wait _STARTINPUT_ numtext_input _ENDINPUT_ _NEXT_ looks_sayforsecs _STARTINPUT_ numtext_input _ENDINPUT_ _STARTINPUT_ numtext_input _ENDINPUT_ _ENDSTACK_ _STARTSTACK_ event_whenflagclicked _NEXT_ control_wait _STARTINPUT_ numtext_input _ENDINPUT_ _NEXT_ looks_sayforsecs _STARTINPUT_ numtext_input _ENDINPUT_ _STARTINPUT_ numtext_input _ENDINPUT_ _NEXT_ control_wait _STARTINPUT_ numtext_input _ENDINPUT_ _NEXT_ looks_sayforsecs _STARTINPUT_ numtext_input _ENDINPUT_ _STARTINPUT_ numtext_input _ENDINPUT_ _NEXT_ looks_sayforsecs _STARTINPUT_ numtext_input _ENDINPUT_ _STARTINPUT_ numtext_input _ENDINPUT_ _NEXT_ event_broadcast _MENU_ menu_option _MENU_ _ENDSTACK_ _STARTSTACK_ event_whenbroadcastreceived _MENU_ menu_option _MENU_ _NEXT_ motion_glidesecstoxy _STARTINPUT_ numtext_input _ENDINPUT_ _STARTINPUT_ numtext_input _ENDINPUT_ _STARTINPUT_ numtext_input _ENDINPUT_ _ENDSTACK_ _STARTSTACK_ event_whenflagclicked _NEXT_ looks_hide _NEXT_ control_wait _STARTINPUT_ numtext_input _ENDINPUT_ _NEXT_ looks_show _NEXT_ control_wait _STARTINPUT_ numtext_input _ENDINPUT_ _NEXT_ looks_sayforsecs _STARTINPUT_ numtext_input _ENDINPUT_ _STARTINPUT_ numtext_input _ENDINPUT_ _ENDSTACK_\n",
      "\n",
      "\n"
     ]
    }
   ],
   "source": [
    "# print the starting vector\n",
    "print(\"============== STARTING VECTOR:\\n\")\n",
    "print(projects_df.iloc[index]['project_text'])\n",
    "print(\"\\n\")\n",
    "\n",
    "print(\"============== NEAREST NEIGHBORS:\\n\")\n",
    "# print out the project text for those nearest neighbors\n",
    "nearest_vector_indices = nearest_vector_indices.flatten().tolist()\n",
    "for i in nearest_vector_indices:\n",
    "    if i == index:\n",
    "        # this is just the starting vector's index\n",
    "        continue\n",
    "    print(projects_df.iloc[i]['project_text'])\n",
    "    print(\"\\n\")"
   ]
  },
  {
   "cell_type": "code",
   "execution_count": null,
   "metadata": {},
   "outputs": [],
   "source": [
    "# (manually) extract project ids for those nearest neighbors.\n"
   ]
  }
 ],
 "metadata": {
  "kernelspec": {
   "display_name": "Python 3",
   "language": "python",
   "name": "python3"
  },
  "language_info": {
   "codemirror_mode": {
    "name": "ipython",
    "version": 3
   },
   "file_extension": ".py",
   "mimetype": "text/x-python",
   "name": "python",
   "nbconvert_exporter": "python",
   "pygments_lexer": "ipython3",
   "version": "3.7.3"
  }
 },
 "nbformat": 4,
 "nbformat_minor": 2
}
