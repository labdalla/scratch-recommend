{
 "cells": [
  {
   "cell_type": "markdown",
   "metadata": {},
   "source": [
    "# vectorize\n",
    "Vectorizing Scratch projects encoded in syntax-based language (using `scratch-textify`), using `fasttext` and `tf-idf`. Output is **word embeddings** (not project embeddings)."
   ]
  },
  {
   "cell_type": "markdown",
   "metadata": {},
   "source": [
    "### settings and setup"
   ]
  },
  {
   "cell_type": "code",
   "execution_count": 3,
   "metadata": {},
   "outputs": [
    {
     "name": "stdout",
     "output_type": "stream",
     "text": [
      "\u001b[33mWARNING: The directory '/home/jovyan/.cache/pip/http' or its parent directory is not owned by the current user and the cache has been disabled. Please check the permissions and owner of that directory. If executing pip with sudo, you may want sudo's -H flag.\u001b[0m\n",
      "\u001b[33mWARNING: The directory '/home/jovyan/.cache/pip' or its parent directory is not owned by the current user and caching wheels has been disabled. check the permissions and owner of that directory. If executing pip with sudo, you may want sudo's -H flag.\u001b[0m\n",
      "\u001b[33mWARNING: The directory '/home/jovyan/.cache/pip/http' or its parent directory is not owned by the current user and the cache has been disabled. Please check the permissions and owner of that directory. If executing pip with sudo, you may want sudo's -H flag.\u001b[0m\n",
      "\u001b[33mWARNING: The directory '/home/jovyan/.cache/pip' or its parent directory is not owned by the current user and caching wheels has been disabled. check the permissions and owner of that directory. If executing pip with sudo, you may want sudo's -H flag.\u001b[0m\n",
      "\u001b[33mWARNING: The directory '/home/jovyan/.cache/pip/http' or its parent directory is not owned by the current user and the cache has been disabled. Please check the permissions and owner of that directory. If executing pip with sudo, you may want sudo's -H flag.\u001b[0m\n",
      "\u001b[33mWARNING: The directory '/home/jovyan/.cache/pip' or its parent directory is not owned by the current user and caching wheels has been disabled. check the permissions and owner of that directory. If executing pip with sudo, you may want sudo's -H flag.\u001b[0m\n"
     ]
    }
   ],
   "source": [
    "# Executed by system command line\n",
    "!pip install -q fasttext\n",
    "!pip install -q gensim\n",
    "!pip install -q scikit-learn"
   ]
  },
  {
   "cell_type": "code",
   "execution_count": 4,
   "metadata": {},
   "outputs": [
    {
     "name": "stdout",
     "output_type": "stream",
     "text": [
      "0.25.1\n"
     ]
    }
   ],
   "source": [
    "import os\n",
    "import warnings\n",
    "\n",
    "import fasttext\n",
    "import gensim\n",
    "from sklearn.manifold import TSNE\n",
    "from sklearn.neighbors import NearestNeighbors\n",
    "\n",
    "import pandas as pd\n",
    "import numpy as np\n",
    "import matplotlib.pyplot as plt\n",
    "\n",
    "warnings.filterwarnings('ignore')\n",
    "\n",
    "print(pd.__version__)"
   ]
  },
  {
   "cell_type": "code",
   "execution_count": 5,
   "metadata": {},
   "outputs": [],
   "source": [
    "DATASET = \"./dataset\"\n",
    "TRAIN_TARGET = os.path.abspath(os.path.join(DATASET, 'train')) # add the .txt later.\n",
    "\n",
    "MODEL = \"./model\"\n",
    "MODEL_TARGET = os.path.abspath(os.path.join(MODEL, 'vectorization')) # add the .bin later.\n"
   ]
  },
  {
   "cell_type": "markdown",
   "metadata": {},
   "source": [
    "### train on 1000 samples\n",
    "Vectorize the dataset using fasttext. The end product are \"embeddings\" for blocks / symbols."
   ]
  },
  {
   "cell_type": "code",
   "execution_count": 6,
   "metadata": {},
   "outputs": [],
   "source": [
    "NUM_SAMPLES = 1000"
   ]
  },
  {
   "cell_type": "code",
   "execution_count": 7,
   "metadata": {},
   "outputs": [
    {
     "name": "stdout",
     "output_type": "stream",
     "text": [
      "/home/jovyan/shared/lena/dataset/train_1000.txt\n",
      "/home/jovyan/shared/lena/dataset/train_1000.ids\n",
      "/home/jovyan/shared/lena/model/vectorization_1000.bin\n"
     ]
    }
   ],
   "source": [
    "train_target = TRAIN_TARGET + \"_\" + str(NUM_SAMPLES) + \".txt\"\n",
    "train_ids_target = TRAIN_TARGET + \"_\" + str(NUM_SAMPLES) + \".ids\"\n",
    "model_target = MODEL_TARGET + \"_\" + str(NUM_SAMPLES) + \".bin\"\n",
    "\n",
    "print(train_target)\n",
    "print(train_ids_target)\n",
    "print(model_target)"
   ]
  },
  {
   "cell_type": "code",
   "execution_count": 8,
   "metadata": {},
   "outputs": [],
   "source": [
    "model = fasttext.train_unsupervised(train_target,\n",
    "                                    model = \"skipgram\",\n",
    "                                    minCount = 5,\n",
    "                                    dim=128,         # number of dimensions\n",
    "                                    minn=3,          # minimum size of subword n-grams\n",
    "                                    maxn=6,          # maximum size of subword n-grams\n",
    "                                    epoch = 5,       # number of training epochs\n",
    "                                    lr = 0.05)       # learning rate"
   ]
  },
  {
   "cell_type": "code",
   "execution_count": 9,
   "metadata": {},
   "outputs": [],
   "source": [
    "model.save_model(model_target)"
   ]
  },
  {
   "cell_type": "markdown",
   "metadata": {},
   "source": [
    "### train on 10,000 samples\n",
    "Vectorize the dataset using fasttext. The end product are \"embeddings\" for blocks / symbols."
   ]
  },
  {
   "cell_type": "code",
   "execution_count": 10,
   "metadata": {},
   "outputs": [],
   "source": [
    "NUM_SAMPLES = 10000"
   ]
  },
  {
   "cell_type": "code",
   "execution_count": 11,
   "metadata": {},
   "outputs": [
    {
     "name": "stdout",
     "output_type": "stream",
     "text": [
      "/home/jovyan/shared/lena/dataset/train_10000.txt\n",
      "/home/jovyan/shared/lena/dataset/train_10000.ids\n",
      "/home/jovyan/shared/lena/model/vectorization_10000.bin\n"
     ]
    }
   ],
   "source": [
    "train_target = TRAIN_TARGET + \"_\" + str(NUM_SAMPLES) + \".txt\"\n",
    "train_ids_target = TRAIN_TARGET + \"_\" + str(NUM_SAMPLES) + \".ids\"\n",
    "model_target = MODEL_TARGET + \"_\" + str(NUM_SAMPLES) + \".bin\"\n",
    "\n",
    "print(train_target)\n",
    "print(train_ids_target)\n",
    "print(model_target)"
   ]
  },
  {
   "cell_type": "code",
   "execution_count": 12,
   "metadata": {},
   "outputs": [],
   "source": [
    "model = fasttext.train_unsupervised(train_target,\n",
    "                                    model = \"skipgram\",\n",
    "                                    minCount = 5,\n",
    "                                    dim=128,         # number of dimensions\n",
    "                                    minn=3,          # minimum size of subword n-grams\n",
    "                                    maxn=6,          # maximum size of subword n-grams\n",
    "                                    epoch = 5,       # number of training epochs\n",
    "                                    lr = 0.05)       # learning rate"
   ]
  },
  {
   "cell_type": "code",
   "execution_count": 13,
   "metadata": {},
   "outputs": [],
   "source": [
    "model.save_model(model_target)"
   ]
  },
  {
   "cell_type": "markdown",
   "metadata": {},
   "source": [
    "### train on 100,000 samples\n",
    "Vectorize the dataset using fasttext. The end product are \"embeddings\" for blocks / symbols."
   ]
  },
  {
   "cell_type": "code",
   "execution_count": 14,
   "metadata": {},
   "outputs": [],
   "source": [
    "NUM_SAMPLES = 100000"
   ]
  },
  {
   "cell_type": "code",
   "execution_count": 16,
   "metadata": {},
   "outputs": [
    {
     "name": "stdout",
     "output_type": "stream",
     "text": [
      "/home/jovyan/shared/lena/dataset/train_100000.txt\n",
      "/home/jovyan/shared/lena/dataset/train_100000.ids\n",
      "/home/jovyan/shared/lena/model/vectorization_100000.bin\n"
     ]
    }
   ],
   "source": [
    "train_target = TRAIN_TARGET + \"_\" + str(NUM_SAMPLES) + \".txt\"\n",
    "train_ids_target = TRAIN_TARGET + \"_\" + str(NUM_SAMPLES) + \".ids\"\n",
    "model_target = MODEL_TARGET + \"_\" + str(NUM_SAMPLES) + \".bin\"\n",
    "\n",
    "print(train_target)\n",
    "print(train_ids_target)\n",
    "print(model_target)"
   ]
  },
  {
   "cell_type": "code",
   "execution_count": 17,
   "metadata": {},
   "outputs": [],
   "source": [
    "model = fasttext.train_unsupervised(train_target,\n",
    "                                    model = \"skipgram\",\n",
    "                                    minCount = 5,\n",
    "                                    dim=128,         # number of dimensions\n",
    "                                    minn=3,          # minimum size of subword n-grams\n",
    "                                    maxn=6,          # maximum size of subword n-grams\n",
    "                                    epoch = 5,       # number of training epochs\n",
    "                                    lr = 0.05)       # learning rate"
   ]
  },
  {
   "cell_type": "code",
   "execution_count": 18,
   "metadata": {},
   "outputs": [],
   "source": [
    "model.save_model(model_target)"
   ]
  },
  {
   "cell_type": "markdown",
   "metadata": {},
   "source": [
    "### train on 500,000 samples\n",
    "Vectorize the dataset using fasttext. The end product are \"embeddings\" for blocks / symbols."
   ]
  },
  {
   "cell_type": "code",
   "execution_count": 22,
   "metadata": {},
   "outputs": [],
   "source": [
    "NUM_SAMPLES = 500000"
   ]
  },
  {
   "cell_type": "code",
   "execution_count": 23,
   "metadata": {},
   "outputs": [
    {
     "name": "stdout",
     "output_type": "stream",
     "text": [
      "/home/jovyan/shared/lena/dataset/train_500000.txt\n",
      "/home/jovyan/shared/lena/dataset/train_500000.ids\n",
      "/home/jovyan/shared/lena/model/vectorization_500000.bin\n"
     ]
    }
   ],
   "source": [
    "train_target = TRAIN_TARGET + \"_\" + str(NUM_SAMPLES) + \".txt\"\n",
    "train_ids_target = TRAIN_TARGET + \"_\" + str(NUM_SAMPLES) + \".ids\"\n",
    "model_target = MODEL_TARGET + \"_\" + str(NUM_SAMPLES) + \".bin\"\n",
    "\n",
    "print(train_target)\n",
    "print(train_ids_target)\n",
    "print(model_target)"
   ]
  },
  {
   "cell_type": "code",
   "execution_count": 24,
   "metadata": {},
   "outputs": [],
   "source": [
    "model = fasttext.train_unsupervised(train_target,\n",
    "                                    model = \"skipgram\",\n",
    "                                    minCount = 5,\n",
    "                                    dim=128,         # number of dimensions\n",
    "                                    minn=3,          # minimum size of subword n-grams\n",
    "                                    maxn=6,          # maximum size of subword n-grams\n",
    "                                    epoch = 5,       # number of training epochs\n",
    "                                    lr = 0.05)       # learning rate"
   ]
  },
  {
   "cell_type": "code",
   "execution_count": 25,
   "metadata": {},
   "outputs": [],
   "source": [
    "model.save_model(model_target)"
   ]
  },
  {
   "cell_type": "code",
   "execution_count": null,
   "metadata": {},
   "outputs": [],
   "source": []
  }
 ],
 "metadata": {
  "kernelspec": {
   "display_name": "Python 3",
   "language": "python",
   "name": "python3"
  },
  "language_info": {
   "codemirror_mode": {
    "name": "ipython",
    "version": 3
   },
   "file_extension": ".py",
   "mimetype": "text/x-python",
   "name": "python",
   "nbconvert_exporter": "python",
   "pygments_lexer": "ipython3",
   "version": "3.6.4"
  }
 },
 "nbformat": 4,
 "nbformat_minor": 2
}
