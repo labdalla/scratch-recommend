{
 "cells": [
  {
   "cell_type": "markdown",
   "metadata": {},
   "source": [
    "### settings and setup"
   ]
  },
  {
   "cell_type": "code",
   "execution_count": 121,
   "metadata": {},
   "outputs": [],
   "source": [
    "import os\n",
    "import pandas as pd\n",
    "import numpy as np\n",
    "import subprocess\n",
    "\n",
    "from sklearn.model_selection import train_test_split"
   ]
  },
  {
   "cell_type": "code",
   "execution_count": 122,
   "metadata": {},
   "outputs": [
    {
     "name": "stdout",
     "output_type": "stream",
     "text": [
      "scratch-textify path: /Users/labdalla/Documents/Scratch-MEng/Workspace/supervised-learning/scratch-textify\n",
      "scratch-recommend path: /Users/labdalla/Documents/Scratch-MEng/Workspace/supervised-learning/scratch-recommend\n",
      "\n",
      "\n",
      "textified_batches path: /Users/labdalla/Documents/Scratch-MEng/Workspace/supervised-learning/scratch-recommend/scratch-classify/dataset/textified_batches\n",
      "index-pool.js path: /Users/labdalla/Documents/Scratch-MEng/Workspace/supervised-learning/scratch-textify/index-pool.js\n",
      "project_ids.csv path: /Users/labdalla/Documents/Scratch-MEng/Workspace/supervised-learning/scratch-recommend/scratch-classify/dataset/project_ids.csv\n",
      "dataset.csv path: /Users/labdalla/Documents/Scratch-MEng/Workspace/supervised-learning/scratch-recommend/scratch-classify/dataset/dataset.csv\n"
     ]
    }
   ],
   "source": [
    "CONFIDENCE_THRESHOLD = 0.7\n",
    "DATASET = \"./dataset\"\n",
    "TEXTIFY_BATCHES_TARGET = os.path.abspath(os.path.join(DATASET, 'textified_batches'))\n",
    "DATASET_TARGET = os.path.abspath(os.path.join(DATASET, 'dataset.csv'))\n",
    "PROJECTS_TARGET = os.path.abspath(os.path.join(DATASET, 'project_ids.csv'))\n",
    "TEXTIFY_TARGET = os.path.abspath(\"../../scratch-textify\")\n",
    "TEXTIFY_INDEX_TARGET = os.path.abspath(os.path.join(TEXTIFY_TARGET, 'index-pool.js'))\n",
    "COMBINE_BATCHES_TARGET = os.path.abspath(os.path.join(TEXTIFY_TARGET, 'combine_data_files.js'))\n",
    "RECOMMEND_TARGET = os.path.abspath(\"..\")\n",
    "CLASSIFICATION_TRAIN_TARGET = os.path.abspath(os.path.join(DATASET, 'classification_train.txt'))\n",
    "CLASSIFICATION_TEST_TARGET = os.path.abspath(os.path.join(DATASET, 'classification_test.txt'))\n",
    "CLASSIFICATION_TRAIN_TARGET_NO_LABELS = os.path.abspath(os.path.join(DATASET, 'classification_train_no_labels.txt'))\n",
    "CLASSIFICATION_TEST_TARGET_NO_LABELS = os.path.abspath(os.path.join(DATASET, 'classification_test_no_labels.txt'))\n",
    "BATCH_SIZE = 100\n",
    "TEST_PERCENTAGE = 0.2\n",
    "GAME_LABEL = \"__label__game\"\n",
    "ANIMATION_LABEL = \"__label_animation\"\n",
    "OTHER_LABEL = \"__label_other\"\n",
    "\n",
    "print(\"scratch-textify path:\", TEXTIFY_TARGET)\n",
    "print(\"scratch-recommend path:\", RECOMMEND_TARGET)\n",
    "print(\"\\n\")\n",
    "print(\"textified_batches path:\", TEXTIFY_BATCHES_TARGET)\n",
    "print(\"index-pool.js path:\", TEXTIFY_INDEX_TARGET)\n",
    "print(\"project_ids.csv path:\", PROJECTS_TARGET)\n",
    "print(\"dataset.csv path:\", DATASET_TARGET)\n"
   ]
  },
  {
   "cell_type": "markdown",
   "metadata": {},
   "source": [
    "### TODO: re-process the dataset in the google sheet because some projects were duplicated (seems like a golden / testcase issue where they are being put as additional rows). Maybe \"golden\" isn't the right thing to be looking at!"
   ]
  },
  {
   "cell_type": "markdown",
   "metadata": {},
   "source": [
    "### read dataset into df\n",
    "`dataset.csv` is the \"report\" that Figure Eight generated from the annotated projects. It contains information such as: unit_state, number of trusted judgements, label, confidence, etc."
   ]
  },
  {
   "cell_type": "code",
   "execution_count": 3,
   "metadata": {},
   "outputs": [
    {
     "data": {
      "text/html": [
       "<div>\n",
       "<style scoped>\n",
       "    .dataframe tbody tr th:only-of-type {\n",
       "        vertical-align: middle;\n",
       "    }\n",
       "\n",
       "    .dataframe tbody tr th {\n",
       "        vertical-align: top;\n",
       "    }\n",
       "\n",
       "    .dataframe thead th {\n",
       "        text-align: right;\n",
       "    }\n",
       "</style>\n",
       "<table border=\"1\" class=\"dataframe\">\n",
       "  <thead>\n",
       "    <tr style=\"text-align: right;\">\n",
       "      <th></th>\n",
       "      <th>unit_state</th>\n",
       "      <th>num_trusted_judgments</th>\n",
       "      <th>label</th>\n",
       "      <th>confidence</th>\n",
       "      <th>id</th>\n",
       "      <th>project_description</th>\n",
       "      <th>project_instructions</th>\n",
       "      <th>project_title</th>\n",
       "      <th>project_url</th>\n",
       "      <th>what_category_best_describes_this_project_gold</th>\n",
       "    </tr>\n",
       "  </thead>\n",
       "  <tbody>\n",
       "    <tr>\n",
       "      <th>0</th>\n",
       "      <td>finalized</td>\n",
       "      <td>3</td>\n",
       "      <td>Other</td>\n",
       "      <td>1.0000</td>\n",
       "      <td>119423992</td>\n",
       "      <td>Afraid-Of-Spiders</td>\n",
       "      <td>i dont roleplay usually in studios X3 just in ...</td>\n",
       "      <td>[THE LAND OF GEMS] RP SIGN-UP remix</td>\n",
       "      <td>https://scratch.mit.edu/projects/119423992</td>\n",
       "      <td>NaN</td>\n",
       "    </tr>\n",
       "    <tr>\n",
       "      <th>1</th>\n",
       "      <td>finalized</td>\n",
       "      <td>3</td>\n",
       "      <td>Animation</td>\n",
       "      <td>1.0000</td>\n",
       "      <td>115208879</td>\n",
       "      <td>Credit to @Chewzers !\\n\\nI just had to do this...</td>\n",
       "      <td>NaN</td>\n",
       "      <td>Baku Baku Nya Nya | MEME | Chat Noir</td>\n",
       "      <td>https://scratch.mit.edu/projects/115208879</td>\n",
       "      <td>NaN</td>\n",
       "    </tr>\n",
       "    <tr>\n",
       "      <th>2</th>\n",
       "      <td>finalized</td>\n",
       "      <td>3</td>\n",
       "      <td>Game</td>\n",
       "      <td>1.0000</td>\n",
       "      <td>106301190</td>\n",
       "      <td>NaN</td>\n",
       "      <td>NaN</td>\n",
       "      <td>Undertale Battle: \"The Creator\"</td>\n",
       "      <td>https://scratch.mit.edu/projects/106301190</td>\n",
       "      <td>NaN</td>\n",
       "    </tr>\n",
       "    <tr>\n",
       "      <th>3</th>\n",
       "      <td>finalized</td>\n",
       "      <td>3</td>\n",
       "      <td>Game</td>\n",
       "      <td>1.0000</td>\n",
       "      <td>119969509</td>\n",
       "      <td>Note: This isn't a game based off Cookie Click...</td>\n",
       "      <td>Welcome to Tycoon! A game where you make money...</td>\n",
       "      <td>Tycoon V.AlphA6</td>\n",
       "      <td>https://scratch.mit.edu/projects/119969509</td>\n",
       "      <td>NaN</td>\n",
       "    </tr>\n",
       "    <tr>\n",
       "      <th>4</th>\n",
       "      <td>finalized</td>\n",
       "      <td>5</td>\n",
       "      <td>Other</td>\n",
       "      <td>0.6019</td>\n",
       "      <td>220271346</td>\n",
       "      <td>Thanks to Gail Carson Levine's book \"Writing M...</td>\n",
       "      <td>It's the second WBC assignment! I hope the fir...</td>\n",
       "      <td>WBC Assignment #2</td>\n",
       "      <td>https://scratch.mit.edu/projects/220271346</td>\n",
       "      <td>NaN</td>\n",
       "    </tr>\n",
       "    <tr>\n",
       "      <th>...</th>\n",
       "      <td>...</td>\n",
       "      <td>...</td>\n",
       "      <td>...</td>\n",
       "      <td>...</td>\n",
       "      <td>...</td>\n",
       "      <td>...</td>\n",
       "      <td>...</td>\n",
       "      <td>...</td>\n",
       "      <td>...</td>\n",
       "      <td>...</td>\n",
       "    </tr>\n",
       "    <tr>\n",
       "      <th>1051</th>\n",
       "      <td>golden</td>\n",
       "      <td>6</td>\n",
       "      <td>Game</td>\n",
       "      <td>1.0000</td>\n",
       "      <td>12394514</td>\n",
       "      <td>NaN</td>\n",
       "      <td>Arrow keys: move paddle\\nS: Show Achievements ...</td>\n",
       "      <td>bounce and points</td>\n",
       "      <td>https://scratch.mit.edu/projects/12394514</td>\n",
       "      <td>Game\\nOther\\nCould not answer the question for...</td>\n",
       "    </tr>\n",
       "    <tr>\n",
       "      <th>1052</th>\n",
       "      <td>golden</td>\n",
       "      <td>6</td>\n",
       "      <td>Animation</td>\n",
       "      <td>1.0000</td>\n",
       "      <td>108630780</td>\n",
       "      <td>little of the shaking part by @MrMister100\\nHo...</td>\n",
       "      <td>Press Press Press the green flag!\\nMY First ev...</td>\n",
       "      <td>When I shake my head!</td>\n",
       "      <td>https://scratch.mit.edu/projects/108630780</td>\n",
       "      <td>Animation\\nOther\\nCould not answer the questio...</td>\n",
       "    </tr>\n",
       "    <tr>\n",
       "      <th>1053</th>\n",
       "      <td>golden</td>\n",
       "      <td>5</td>\n",
       "      <td>Animation</td>\n",
       "      <td>1.0000</td>\n",
       "      <td>236477301</td>\n",
       "      <td>...</td>\n",
       "      <td>my first actual animation xp\\nnew oc\\nCrystal III</td>\n",
       "      <td>The Time Machine | Crystal III</td>\n",
       "      <td>https://scratch.mit.edu/projects/236477301</td>\n",
       "      <td>Animation\\nSlideshow\\nOther\\nCould not answer ...</td>\n",
       "    </tr>\n",
       "    <tr>\n",
       "      <th>1054</th>\n",
       "      <td>golden</td>\n",
       "      <td>7</td>\n",
       "      <td>Game</td>\n",
       "      <td>1.0000</td>\n",
       "      <td>142103269</td>\n",
       "      <td>NaN</td>\n",
       "      <td>two player game use wasd and arrows</td>\n",
       "      <td>POKEBATTLE!</td>\n",
       "      <td>https://scratch.mit.edu/projects/142103269</td>\n",
       "      <td>Game\\nOther\\nCould not answer the question for...</td>\n",
       "    </tr>\n",
       "    <tr>\n",
       "      <th>1055</th>\n",
       "      <td>golden</td>\n",
       "      <td>3</td>\n",
       "      <td>Game</td>\n",
       "      <td>1.0000</td>\n",
       "      <td>128768041</td>\n",
       "      <td>NaN</td>\n",
       "      <td>up arrow= jump\\nright arrow= go right \\nleft a...</td>\n",
       "      <td>The Longest Platform Game Ever!</td>\n",
       "      <td>https://scratch.mit.edu/projects/128768041</td>\n",
       "      <td>Game\\nOther\\nCould not answer the question for...</td>\n",
       "    </tr>\n",
       "  </tbody>\n",
       "</table>\n",
       "<p>1056 rows × 10 columns</p>\n",
       "</div>"
      ],
      "text/plain": [
       "     unit_state  num_trusted_judgments      label  confidence         id  \\\n",
       "0     finalized                      3      Other      1.0000  119423992   \n",
       "1     finalized                      3  Animation      1.0000  115208879   \n",
       "2     finalized                      3       Game      1.0000  106301190   \n",
       "3     finalized                      3       Game      1.0000  119969509   \n",
       "4     finalized                      5      Other      0.6019  220271346   \n",
       "...         ...                    ...        ...         ...        ...   \n",
       "1051     golden                      6       Game      1.0000   12394514   \n",
       "1052     golden                      6  Animation      1.0000  108630780   \n",
       "1053     golden                      5  Animation      1.0000  236477301   \n",
       "1054     golden                      7       Game      1.0000  142103269   \n",
       "1055     golden                      3       Game      1.0000  128768041   \n",
       "\n",
       "                                    project_description  \\\n",
       "0                                     Afraid-Of-Spiders   \n",
       "1     Credit to @Chewzers !\\n\\nI just had to do this...   \n",
       "2                                                   NaN   \n",
       "3     Note: This isn't a game based off Cookie Click...   \n",
       "4     Thanks to Gail Carson Levine's book \"Writing M...   \n",
       "...                                                 ...   \n",
       "1051                                                NaN   \n",
       "1052  little of the shaking part by @MrMister100\\nHo...   \n",
       "1053                                                ...   \n",
       "1054                                                NaN   \n",
       "1055                                                NaN   \n",
       "\n",
       "                                   project_instructions  \\\n",
       "0     i dont roleplay usually in studios X3 just in ...   \n",
       "1                                                   NaN   \n",
       "2                                                   NaN   \n",
       "3     Welcome to Tycoon! A game where you make money...   \n",
       "4     It's the second WBC assignment! I hope the fir...   \n",
       "...                                                 ...   \n",
       "1051  Arrow keys: move paddle\\nS: Show Achievements ...   \n",
       "1052  Press Press Press the green flag!\\nMY First ev...   \n",
       "1053  my first actual animation xp\\nnew oc\\nCrystal III   \n",
       "1054                two player game use wasd and arrows   \n",
       "1055  up arrow= jump\\nright arrow= go right \\nleft a...   \n",
       "\n",
       "                             project_title  \\\n",
       "0      [THE LAND OF GEMS] RP SIGN-UP remix   \n",
       "1     Baku Baku Nya Nya | MEME | Chat Noir   \n",
       "2          Undertale Battle: \"The Creator\"   \n",
       "3                          Tycoon V.AlphA6   \n",
       "4                        WBC Assignment #2   \n",
       "...                                    ...   \n",
       "1051                     bounce and points   \n",
       "1052                 When I shake my head!   \n",
       "1053        The Time Machine | Crystal III   \n",
       "1054                           POKEBATTLE!   \n",
       "1055       The Longest Platform Game Ever!   \n",
       "\n",
       "                                     project_url  \\\n",
       "0     https://scratch.mit.edu/projects/119423992   \n",
       "1     https://scratch.mit.edu/projects/115208879   \n",
       "2     https://scratch.mit.edu/projects/106301190   \n",
       "3     https://scratch.mit.edu/projects/119969509   \n",
       "4     https://scratch.mit.edu/projects/220271346   \n",
       "...                                          ...   \n",
       "1051   https://scratch.mit.edu/projects/12394514   \n",
       "1052  https://scratch.mit.edu/projects/108630780   \n",
       "1053  https://scratch.mit.edu/projects/236477301   \n",
       "1054  https://scratch.mit.edu/projects/142103269   \n",
       "1055  https://scratch.mit.edu/projects/128768041   \n",
       "\n",
       "         what_category_best_describes_this_project_gold  \n",
       "0                                                   NaN  \n",
       "1                                                   NaN  \n",
       "2                                                   NaN  \n",
       "3                                                   NaN  \n",
       "4                                                   NaN  \n",
       "...                                                 ...  \n",
       "1051  Game\\nOther\\nCould not answer the question for...  \n",
       "1052  Animation\\nOther\\nCould not answer the questio...  \n",
       "1053  Animation\\nSlideshow\\nOther\\nCould not answer ...  \n",
       "1054  Game\\nOther\\nCould not answer the question for...  \n",
       "1055  Game\\nOther\\nCould not answer the question for...  \n",
       "\n",
       "[1056 rows x 10 columns]"
      ]
     },
     "metadata": {},
     "output_type": "display_data"
    }
   ],
   "source": [
    "# read the dataset into dataframe\n",
    "df = pd.read_csv(DATASET_TARGET)\n",
    "display(df)"
   ]
  },
  {
   "cell_type": "markdown",
   "metadata": {},
   "source": [
    "### assign final labels"
   ]
  },
  {
   "cell_type": "code",
   "execution_count": 4,
   "metadata": {},
   "outputs": [],
   "source": [
    "def assign_final_labels(projects, threshold=CONFIDENCE_THRESHOLD):\n",
    "    \"\"\"\n",
    "    For each project, we will assign the final label based on the confidence level:\n",
    "        - if confidence >= threshold: then the label is taken as is.\n",
    "        - if confidence < threshold: then the label is changed to Other, \n",
    "                                     and the confidence is set to 1.\n",
    "\n",
    "    inputs:\n",
    "        - threshold: confidence threshold above which that category is retained\n",
    "                    (and below which it gets transformed into \"Other\")\n",
    "        - projects: projects dataframe.\n",
    "\n",
    "    returns:\n",
    "        - new projects dataframe\n",
    "    \"\"\"\n",
    "\n",
    "    def replace_label(row):\n",
    "        if row['confidence'] < threshold:\n",
    "            row['label'] = \"Other\"\n",
    "            row['confidence'] = 1.0 # change the confidence to 1 that it's Other\n",
    "        return row\n",
    "\n",
    "    projects = projects.apply(replace_label, axis=1, result_type='broadcast')\n",
    "    projects = pd.DataFrame(projects)\n",
    "\n",
    "    return projects"
   ]
  },
  {
   "cell_type": "code",
   "execution_count": 5,
   "metadata": {},
   "outputs": [
    {
     "data": {
      "text/html": [
       "<div>\n",
       "<style scoped>\n",
       "    .dataframe tbody tr th:only-of-type {\n",
       "        vertical-align: middle;\n",
       "    }\n",
       "\n",
       "    .dataframe tbody tr th {\n",
       "        vertical-align: top;\n",
       "    }\n",
       "\n",
       "    .dataframe thead th {\n",
       "        text-align: right;\n",
       "    }\n",
       "</style>\n",
       "<table border=\"1\" class=\"dataframe\">\n",
       "  <thead>\n",
       "    <tr style=\"text-align: right;\">\n",
       "      <th></th>\n",
       "      <th>unit_state</th>\n",
       "      <th>num_trusted_judgments</th>\n",
       "      <th>label</th>\n",
       "      <th>confidence</th>\n",
       "      <th>id</th>\n",
       "      <th>project_description</th>\n",
       "      <th>project_instructions</th>\n",
       "      <th>project_title</th>\n",
       "      <th>project_url</th>\n",
       "      <th>what_category_best_describes_this_project_gold</th>\n",
       "    </tr>\n",
       "  </thead>\n",
       "  <tbody>\n",
       "    <tr>\n",
       "      <th>0</th>\n",
       "      <td>finalized</td>\n",
       "      <td>3</td>\n",
       "      <td>Other</td>\n",
       "      <td>1</td>\n",
       "      <td>119423992</td>\n",
       "      <td>Afraid-Of-Spiders</td>\n",
       "      <td>i dont roleplay usually in studios X3 just in ...</td>\n",
       "      <td>[THE LAND OF GEMS] RP SIGN-UP remix</td>\n",
       "      <td>https://scratch.mit.edu/projects/119423992</td>\n",
       "      <td>NaN</td>\n",
       "    </tr>\n",
       "    <tr>\n",
       "      <th>1</th>\n",
       "      <td>finalized</td>\n",
       "      <td>3</td>\n",
       "      <td>Animation</td>\n",
       "      <td>1</td>\n",
       "      <td>115208879</td>\n",
       "      <td>Credit to @Chewzers !\\n\\nI just had to do this...</td>\n",
       "      <td>NaN</td>\n",
       "      <td>Baku Baku Nya Nya | MEME | Chat Noir</td>\n",
       "      <td>https://scratch.mit.edu/projects/115208879</td>\n",
       "      <td>NaN</td>\n",
       "    </tr>\n",
       "    <tr>\n",
       "      <th>2</th>\n",
       "      <td>finalized</td>\n",
       "      <td>3</td>\n",
       "      <td>Game</td>\n",
       "      <td>1</td>\n",
       "      <td>106301190</td>\n",
       "      <td>NaN</td>\n",
       "      <td>NaN</td>\n",
       "      <td>Undertale Battle: \"The Creator\"</td>\n",
       "      <td>https://scratch.mit.edu/projects/106301190</td>\n",
       "      <td>NaN</td>\n",
       "    </tr>\n",
       "    <tr>\n",
       "      <th>3</th>\n",
       "      <td>finalized</td>\n",
       "      <td>3</td>\n",
       "      <td>Game</td>\n",
       "      <td>1</td>\n",
       "      <td>119969509</td>\n",
       "      <td>Note: This isn't a game based off Cookie Click...</td>\n",
       "      <td>Welcome to Tycoon! A game where you make money...</td>\n",
       "      <td>Tycoon V.AlphA6</td>\n",
       "      <td>https://scratch.mit.edu/projects/119969509</td>\n",
       "      <td>NaN</td>\n",
       "    </tr>\n",
       "    <tr>\n",
       "      <th>4</th>\n",
       "      <td>finalized</td>\n",
       "      <td>5</td>\n",
       "      <td>Other</td>\n",
       "      <td>1</td>\n",
       "      <td>220271346</td>\n",
       "      <td>Thanks to Gail Carson Levine's book \"Writing M...</td>\n",
       "      <td>It's the second WBC assignment! I hope the fir...</td>\n",
       "      <td>WBC Assignment #2</td>\n",
       "      <td>https://scratch.mit.edu/projects/220271346</td>\n",
       "      <td>NaN</td>\n",
       "    </tr>\n",
       "    <tr>\n",
       "      <th>...</th>\n",
       "      <td>...</td>\n",
       "      <td>...</td>\n",
       "      <td>...</td>\n",
       "      <td>...</td>\n",
       "      <td>...</td>\n",
       "      <td>...</td>\n",
       "      <td>...</td>\n",
       "      <td>...</td>\n",
       "      <td>...</td>\n",
       "      <td>...</td>\n",
       "    </tr>\n",
       "    <tr>\n",
       "      <th>1051</th>\n",
       "      <td>golden</td>\n",
       "      <td>6</td>\n",
       "      <td>Game</td>\n",
       "      <td>1</td>\n",
       "      <td>12394514</td>\n",
       "      <td>NaN</td>\n",
       "      <td>Arrow keys: move paddle\\nS: Show Achievements ...</td>\n",
       "      <td>bounce and points</td>\n",
       "      <td>https://scratch.mit.edu/projects/12394514</td>\n",
       "      <td>Game\\nOther\\nCould not answer the question for...</td>\n",
       "    </tr>\n",
       "    <tr>\n",
       "      <th>1052</th>\n",
       "      <td>golden</td>\n",
       "      <td>6</td>\n",
       "      <td>Animation</td>\n",
       "      <td>1</td>\n",
       "      <td>108630780</td>\n",
       "      <td>little of the shaking part by @MrMister100\\nHo...</td>\n",
       "      <td>Press Press Press the green flag!\\nMY First ev...</td>\n",
       "      <td>When I shake my head!</td>\n",
       "      <td>https://scratch.mit.edu/projects/108630780</td>\n",
       "      <td>Animation\\nOther\\nCould not answer the questio...</td>\n",
       "    </tr>\n",
       "    <tr>\n",
       "      <th>1053</th>\n",
       "      <td>golden</td>\n",
       "      <td>5</td>\n",
       "      <td>Animation</td>\n",
       "      <td>1</td>\n",
       "      <td>236477301</td>\n",
       "      <td>...</td>\n",
       "      <td>my first actual animation xp\\nnew oc\\nCrystal III</td>\n",
       "      <td>The Time Machine | Crystal III</td>\n",
       "      <td>https://scratch.mit.edu/projects/236477301</td>\n",
       "      <td>Animation\\nSlideshow\\nOther\\nCould not answer ...</td>\n",
       "    </tr>\n",
       "    <tr>\n",
       "      <th>1054</th>\n",
       "      <td>golden</td>\n",
       "      <td>7</td>\n",
       "      <td>Game</td>\n",
       "      <td>1</td>\n",
       "      <td>142103269</td>\n",
       "      <td>NaN</td>\n",
       "      <td>two player game use wasd and arrows</td>\n",
       "      <td>POKEBATTLE!</td>\n",
       "      <td>https://scratch.mit.edu/projects/142103269</td>\n",
       "      <td>Game\\nOther\\nCould not answer the question for...</td>\n",
       "    </tr>\n",
       "    <tr>\n",
       "      <th>1055</th>\n",
       "      <td>golden</td>\n",
       "      <td>3</td>\n",
       "      <td>Game</td>\n",
       "      <td>1</td>\n",
       "      <td>128768041</td>\n",
       "      <td>NaN</td>\n",
       "      <td>up arrow= jump\\nright arrow= go right \\nleft a...</td>\n",
       "      <td>The Longest Platform Game Ever!</td>\n",
       "      <td>https://scratch.mit.edu/projects/128768041</td>\n",
       "      <td>Game\\nOther\\nCould not answer the question for...</td>\n",
       "    </tr>\n",
       "  </tbody>\n",
       "</table>\n",
       "<p>1056 rows × 10 columns</p>\n",
       "</div>"
      ],
      "text/plain": [
       "     unit_state num_trusted_judgments      label confidence         id  \\\n",
       "0     finalized                     3      Other          1  119423992   \n",
       "1     finalized                     3  Animation          1  115208879   \n",
       "2     finalized                     3       Game          1  106301190   \n",
       "3     finalized                     3       Game          1  119969509   \n",
       "4     finalized                     5      Other          1  220271346   \n",
       "...         ...                   ...        ...        ...        ...   \n",
       "1051     golden                     6       Game          1   12394514   \n",
       "1052     golden                     6  Animation          1  108630780   \n",
       "1053     golden                     5  Animation          1  236477301   \n",
       "1054     golden                     7       Game          1  142103269   \n",
       "1055     golden                     3       Game          1  128768041   \n",
       "\n",
       "                                    project_description  \\\n",
       "0                                     Afraid-Of-Spiders   \n",
       "1     Credit to @Chewzers !\\n\\nI just had to do this...   \n",
       "2                                                   NaN   \n",
       "3     Note: This isn't a game based off Cookie Click...   \n",
       "4     Thanks to Gail Carson Levine's book \"Writing M...   \n",
       "...                                                 ...   \n",
       "1051                                                NaN   \n",
       "1052  little of the shaking part by @MrMister100\\nHo...   \n",
       "1053                                                ...   \n",
       "1054                                                NaN   \n",
       "1055                                                NaN   \n",
       "\n",
       "                                   project_instructions  \\\n",
       "0     i dont roleplay usually in studios X3 just in ...   \n",
       "1                                                   NaN   \n",
       "2                                                   NaN   \n",
       "3     Welcome to Tycoon! A game where you make money...   \n",
       "4     It's the second WBC assignment! I hope the fir...   \n",
       "...                                                 ...   \n",
       "1051  Arrow keys: move paddle\\nS: Show Achievements ...   \n",
       "1052  Press Press Press the green flag!\\nMY First ev...   \n",
       "1053  my first actual animation xp\\nnew oc\\nCrystal III   \n",
       "1054                two player game use wasd and arrows   \n",
       "1055  up arrow= jump\\nright arrow= go right \\nleft a...   \n",
       "\n",
       "                             project_title  \\\n",
       "0      [THE LAND OF GEMS] RP SIGN-UP remix   \n",
       "1     Baku Baku Nya Nya | MEME | Chat Noir   \n",
       "2          Undertale Battle: \"The Creator\"   \n",
       "3                          Tycoon V.AlphA6   \n",
       "4                        WBC Assignment #2   \n",
       "...                                    ...   \n",
       "1051                     bounce and points   \n",
       "1052                 When I shake my head!   \n",
       "1053        The Time Machine | Crystal III   \n",
       "1054                           POKEBATTLE!   \n",
       "1055       The Longest Platform Game Ever!   \n",
       "\n",
       "                                     project_url  \\\n",
       "0     https://scratch.mit.edu/projects/119423992   \n",
       "1     https://scratch.mit.edu/projects/115208879   \n",
       "2     https://scratch.mit.edu/projects/106301190   \n",
       "3     https://scratch.mit.edu/projects/119969509   \n",
       "4     https://scratch.mit.edu/projects/220271346   \n",
       "...                                          ...   \n",
       "1051   https://scratch.mit.edu/projects/12394514   \n",
       "1052  https://scratch.mit.edu/projects/108630780   \n",
       "1053  https://scratch.mit.edu/projects/236477301   \n",
       "1054  https://scratch.mit.edu/projects/142103269   \n",
       "1055  https://scratch.mit.edu/projects/128768041   \n",
       "\n",
       "         what_category_best_describes_this_project_gold  \n",
       "0                                                   NaN  \n",
       "1                                                   NaN  \n",
       "2                                                   NaN  \n",
       "3                                                   NaN  \n",
       "4                                                   NaN  \n",
       "...                                                 ...  \n",
       "1051  Game\\nOther\\nCould not answer the question for...  \n",
       "1052  Animation\\nOther\\nCould not answer the questio...  \n",
       "1053  Animation\\nSlideshow\\nOther\\nCould not answer ...  \n",
       "1054  Game\\nOther\\nCould not answer the question for...  \n",
       "1055  Game\\nOther\\nCould not answer the question for...  \n",
       "\n",
       "[1056 rows x 10 columns]"
      ]
     },
     "metadata": {},
     "output_type": "display_data"
    }
   ],
   "source": [
    "# assign the final labels based on confidence threshold\n",
    "df = assign_final_labels(df, threshold=CONFIDENCE_THRESHOLD)\n",
    "display(df)"
   ]
  },
  {
   "cell_type": "code",
   "execution_count": 6,
   "metadata": {},
   "outputs": [
    {
     "name": "stdout",
     "output_type": "stream",
     "text": [
      "Empty DataFrame\n",
      "Columns: [unit_state, num_trusted_judgments, label, confidence, id, project_description, project_instructions, project_title, project_url, what_category_best_describes_this_project_gold]\n",
      "Index: []\n"
     ]
    }
   ],
   "source": [
    "# sanity check that there is no confidence less than CONFIDENCE_THRESHOLD anymore.\n",
    "print(df[ df['confidence'] < CONFIDENCE_THRESHOLD])"
   ]
  },
  {
   "cell_type": "markdown",
   "metadata": {},
   "source": [
    "### lump categories "
   ]
  },
  {
   "cell_type": "code",
   "execution_count": 7,
   "metadata": {},
   "outputs": [],
   "source": [
    "def lump_categories(projects, from_label=\"Slideshow\", to_label=\"Other\"):\n",
    "    \"\"\"\n",
    "    Lumps the projects in the \"from_label\" category into projects in the \"to_label\" category.\n",
    "\n",
    "    inputs:\n",
    "        - projects: projects dataframe.\n",
    "        - from_label: \"from\" category.\n",
    "        - to_label: \"to\" category.\n",
    "\n",
    "    returns:\n",
    "        - new projects dataframe\n",
    "    \"\"\"\n",
    "    def replace_label(row):\n",
    "        if row['label'] == from_label:\n",
    "            row['label'] = to_label\n",
    "        return row\n",
    "\n",
    "    projects = projects.apply(replace_label, axis=1, result_type='broadcast')\n",
    "    projects = pd.DataFrame(projects)\n",
    "    return projects"
   ]
  },
  {
   "cell_type": "code",
   "execution_count": 8,
   "metadata": {},
   "outputs": [],
   "source": [
    "# lump \"Slideshow\" projects into \"Other\" category.\n",
    "df = lump_categories(df, from_label=\"Slideshow\", to_label=\"Other\")"
   ]
  },
  {
   "cell_type": "code",
   "execution_count": 9,
   "metadata": {
    "scrolled": true
   },
   "outputs": [
    {
     "name": "stdout",
     "output_type": "stream",
     "text": [
      "Empty DataFrame\n",
      "Columns: [unit_state, num_trusted_judgments, label, confidence, id, project_description, project_instructions, project_title, project_url, what_category_best_describes_this_project_gold]\n",
      "Index: []\n"
     ]
    }
   ],
   "source": [
    "# sanity check that there are no \"Slideshow\" projects anymore.\n",
    "print(df[ df['label'] == \"Slideshow\"])"
   ]
  },
  {
   "cell_type": "markdown",
   "metadata": {},
   "source": [
    "### export project ids"
   ]
  },
  {
   "cell_type": "code",
   "execution_count": 10,
   "metadata": {},
   "outputs": [
    {
     "name": "stdout",
     "output_type": "stream",
     "text": [
      "/Users/labdalla/Documents/Scratch-MEng/Workspace/supervised-learning/scratch-recommend/scratch-classify/dataset/project_ids.csv\n"
     ]
    }
   ],
   "source": [
    "# write out the project ids for the classification task to a csv file (useful to have)\n",
    "project_ids = df['id'].tolist()\n",
    "\n",
    "with open(PROJECTS_TARGET, 'w+') as file:\n",
    "    [file.write((str(project_id) + \"\\n\")) for project_id in project_ids]\n",
    "\n",
    "print(PROJECTS_TARGET)"
   ]
  },
  {
   "cell_type": "markdown",
   "metadata": {},
   "source": [
    "### textify projects"
   ]
  },
  {
   "cell_type": "code",
   "execution_count": 48,
   "metadata": {},
   "outputs": [
    {
     "name": "stdout",
     "output_type": "stream",
     "text": [
      "command:  node /Users/labdalla/Documents/Scratch MEng/Workspace/supervised-learning/scratch-textify/index-pool.js --projects_file /Users/labdalla/Documents/Scratch MEng/Workspace/supervised-learning/scratch-recommend/scratch-classify/dataset/project_ids.csv --batch_size 100 --write_target /Users/labdalla/Documents/Scratch MEng/Workspace/supervised-learning/scratch-recommend/scratch-classify/dataset/textified_batches --textify_directory /Users/labdalla/Documents/Scratch MEng/Workspace/supervised-learning/scratch-textify\n",
      "\n",
      "\n"
     ]
    }
   ],
   "source": [
    "command = [\"node\", TEXTIFY_INDEX_TARGET, \"--projects_file\", PROJECTS_TARGET, \"--batch_size\", str(BATCH_SIZE), \"--write_target\", TEXTIFY_BATCHES_TARGET, \"--textify_directory\", TEXTIFY_TARGET]\n",
    "print(\"command: \", \" \".join(command))\n",
    "print(\"\\n\")"
   ]
  },
  {
   "cell_type": "code",
   "execution_count": null,
   "metadata": {},
   "outputs": [],
   "source": [
    "code = subprocess.check_call(command)"
   ]
  },
  {
   "cell_type": "markdown",
   "metadata": {},
   "source": [
    "### combine textified batches into single file"
   ]
  },
  {
   "cell_type": "markdown",
   "metadata": {},
   "source": [
    "#### combine .ids"
   ]
  },
  {
   "cell_type": "code",
   "execution_count": 19,
   "metadata": {},
   "outputs": [],
   "source": [
    "extension = \".ids\"\n",
    "CLASSIFICATION_DATASET_TARGET = os.path.abspath(os.path.join(DATASET, 'classification_dataset'))"
   ]
  },
  {
   "cell_type": "code",
   "execution_count": 14,
   "metadata": {
    "scrolled": true
   },
   "outputs": [
    {
     "name": "stdout",
     "output_type": "stream",
     "text": [
      "command:  node /Users/labdalla/Documents/Scratch-MEng/Workspace/supervised-learning/scratch-textify/combine_data_files.js --extension .ids --directory /Users/labdalla/Documents/Scratch-MEng/Workspace/supervised-learning/scratch-recommend/scratch-classify/dataset/textified_batches --write_target /Users/labdalla/Documents/Scratch-MEng/Workspace/supervised-learning/scratch-recommend/scratch-classify/dataset/classification_dataset\n",
      "\n",
      "\n"
     ]
    }
   ],
   "source": [
    "command = [\"node\", COMBINE_BATCHES_TARGET, \"--extension\", extension, \"--directory\", TEXTIFY_BATCHES_TARGET, \"--write_target\", CLASSIFICATION_DATASET_TARGET]\n",
    "print(\"command: \", \" \".join(command))\n",
    "print(\"\\n\")"
   ]
  },
  {
   "cell_type": "code",
   "execution_count": 15,
   "metadata": {},
   "outputs": [],
   "source": [
    "code = subprocess.check_call(command)"
   ]
  },
  {
   "cell_type": "markdown",
   "metadata": {},
   "source": [
    "#### combine .txt"
   ]
  },
  {
   "cell_type": "code",
   "execution_count": 20,
   "metadata": {},
   "outputs": [],
   "source": [
    "extension = \".txt\"\n",
    "CLASSIFICATION_DATASET_TARGET = os.path.abspath(os.path.join(DATASET, 'classification_dataset'))"
   ]
  },
  {
   "cell_type": "code",
   "execution_count": 21,
   "metadata": {},
   "outputs": [
    {
     "name": "stdout",
     "output_type": "stream",
     "text": [
      "command:  node /Users/labdalla/Documents/Scratch-MEng/Workspace/supervised-learning/scratch-textify/combine_data_files.js --extension .txt --directory /Users/labdalla/Documents/Scratch-MEng/Workspace/supervised-learning/scratch-recommend/scratch-classify/dataset/textified_batches --write_target /Users/labdalla/Documents/Scratch-MEng/Workspace/supervised-learning/scratch-recommend/scratch-classify/dataset/classification_dataset\n",
      "\n",
      "\n"
     ]
    }
   ],
   "source": [
    "command = [\"node\", COMBINE_BATCHES_TARGET, \"--extension\", extension, \"--directory\", TEXTIFY_BATCHES_TARGET, \"--write_target\", CLASSIFICATION_DATASET_TARGET]\n",
    "print(\"command: \", \" \".join(command))\n",
    "print(\"\\n\")"
   ]
  },
  {
   "cell_type": "code",
   "execution_count": 22,
   "metadata": {},
   "outputs": [],
   "source": [
    "code = subprocess.check_call(command)"
   ]
  },
  {
   "cell_type": "markdown",
   "metadata": {},
   "source": [
    "#### combine .err"
   ]
  },
  {
   "cell_type": "code",
   "execution_count": 23,
   "metadata": {},
   "outputs": [],
   "source": [
    "extension = \".err\"\n",
    "CLASSIFICATION_DATASET_TARGET = os.path.abspath(os.path.join(DATASET, 'classification_dataset'))"
   ]
  },
  {
   "cell_type": "code",
   "execution_count": 24,
   "metadata": {},
   "outputs": [
    {
     "name": "stdout",
     "output_type": "stream",
     "text": [
      "command:  node /Users/labdalla/Documents/Scratch-MEng/Workspace/supervised-learning/scratch-textify/combine_data_files.js --extension .err --directory /Users/labdalla/Documents/Scratch-MEng/Workspace/supervised-learning/scratch-recommend/scratch-classify/dataset/textified_batches --write_target /Users/labdalla/Documents/Scratch-MEng/Workspace/supervised-learning/scratch-recommend/scratch-classify/dataset/classification_dataset\n",
      "\n",
      "\n"
     ]
    }
   ],
   "source": [
    "command = [\"node\", COMBINE_BATCHES_TARGET, \"--extension\", extension, \"--directory\", TEXTIFY_BATCHES_TARGET, \"--write_target\", CLASSIFICATION_DATASET_TARGET]\n",
    "print(\"command: \", \" \".join(command))\n",
    "print(\"\\n\")"
   ]
  },
  {
   "cell_type": "code",
   "execution_count": 25,
   "metadata": {},
   "outputs": [],
   "source": [
    "code = subprocess.check_call(command)"
   ]
  },
  {
   "cell_type": "markdown",
   "metadata": {},
   "source": [
    "### add labels"
   ]
  },
  {
   "cell_type": "code",
   "execution_count": 123,
   "metadata": {},
   "outputs": [
    {
     "name": "stdout",
     "output_type": "stream",
     "text": [
      "/Users/labdalla/Documents/Scratch-MEng/Workspace/supervised-learning/scratch-recommend/scratch-classify/dataset/classification_dataset.ids\n",
      "/Users/labdalla/Documents/Scratch-MEng/Workspace/supervised-learning/scratch-recommend/scratch-classify/dataset/classification_dataset.txt\n"
     ]
    }
   ],
   "source": [
    "# get the appropriate dataset targets\n",
    "CLASSIFICATION_IDS_TARGET = os.path.abspath(os.path.join(DATASET, 'classification_dataset.ids'))\n",
    "CLASSIFICATION_TXT_TARGET = os.path.abspath(os.path.join(DATASET, 'classification_dataset.txt'))\n",
    "print(CLASSIFICATION_IDS_TARGET)\n",
    "print(CLASSIFICATION_TXT_TARGET)\n",
    "\n"
   ]
  },
  {
   "cell_type": "code",
   "execution_count": 124,
   "metadata": {},
   "outputs": [],
   "source": [
    "# read in the combined dataset files into dataframes\n",
    "ids_df = pd.read_csv(CLASSIFICATION_IDS_TARGET, sep=\"\\n\", header=None)\n",
    "ids_df.columns = ['id']\n",
    "\n",
    "txt_df = pd.read_csv(CLASSIFICATION_TXT_TARGET, sep=\"\\n\", header=None)\n",
    "txt_df.columns = ['project_text']\n"
   ]
  },
  {
   "cell_type": "code",
   "execution_count": 125,
   "metadata": {},
   "outputs": [],
   "source": [
    "NUM_PROJECTS = ids_df.shape[0]"
   ]
  },
  {
   "cell_type": "code",
   "execution_count": 126,
   "metadata": {
    "scrolled": false
   },
   "outputs": [
    {
     "name": "stdout",
     "output_type": "stream",
     "text": [
      "(1011, 1)\n",
      "(1011, 1)\n"
     ]
    },
    {
     "data": {
      "text/html": [
       "<div>\n",
       "<style scoped>\n",
       "    .dataframe tbody tr th:only-of-type {\n",
       "        vertical-align: middle;\n",
       "    }\n",
       "\n",
       "    .dataframe tbody tr th {\n",
       "        vertical-align: top;\n",
       "    }\n",
       "\n",
       "    .dataframe thead th {\n",
       "        text-align: right;\n",
       "    }\n",
       "</style>\n",
       "<table border=\"1\" class=\"dataframe\">\n",
       "  <thead>\n",
       "    <tr style=\"text-align: right;\">\n",
       "      <th></th>\n",
       "      <th>id</th>\n",
       "    </tr>\n",
       "  </thead>\n",
       "  <tbody>\n",
       "    <tr>\n",
       "      <th>308</th>\n",
       "      <td>12617990</td>\n",
       "    </tr>\n",
       "    <tr>\n",
       "      <th>329</th>\n",
       "      <td>174634032</td>\n",
       "    </tr>\n",
       "    <tr>\n",
       "      <th>688</th>\n",
       "      <td>147167467</td>\n",
       "    </tr>\n",
       "    <tr>\n",
       "      <th>235</th>\n",
       "      <td>20974745</td>\n",
       "    </tr>\n",
       "    <tr>\n",
       "      <th>38</th>\n",
       "      <td>102848870</td>\n",
       "    </tr>\n",
       "  </tbody>\n",
       "</table>\n",
       "</div>"
      ],
      "text/plain": [
       "            id\n",
       "308   12617990\n",
       "329  174634032\n",
       "688  147167467\n",
       "235   20974745\n",
       "38   102848870"
      ]
     },
     "metadata": {},
     "output_type": "display_data"
    },
    {
     "data": {
      "text/html": [
       "<div>\n",
       "<style scoped>\n",
       "    .dataframe tbody tr th:only-of-type {\n",
       "        vertical-align: middle;\n",
       "    }\n",
       "\n",
       "    .dataframe tbody tr th {\n",
       "        vertical-align: top;\n",
       "    }\n",
       "\n",
       "    .dataframe thead th {\n",
       "        text-align: right;\n",
       "    }\n",
       "</style>\n",
       "<table border=\"1\" class=\"dataframe\">\n",
       "  <thead>\n",
       "    <tr style=\"text-align: right;\">\n",
       "      <th></th>\n",
       "      <th>project_text</th>\n",
       "    </tr>\n",
       "  </thead>\n",
       "  <tbody>\n",
       "    <tr>\n",
       "      <th>974</th>\n",
       "      <td>_STARTSTACK_ event_whenflagclicked _NEXT_ look...</td>\n",
       "    </tr>\n",
       "    <tr>\n",
       "      <th>849</th>\n",
       "      <td>_STARTSTACK_ event_whenthisspriteclicked _NEXT...</td>\n",
       "    </tr>\n",
       "    <tr>\n",
       "      <th>609</th>\n",
       "      <td>_STARTSTACK_ event_whenflagclicked _NEXT_ look...</td>\n",
       "    </tr>\n",
       "    <tr>\n",
       "      <th>823</th>\n",
       "      <td>_STARTSTACK_ event_whenflagclicked _NEXT_ moti...</td>\n",
       "    </tr>\n",
       "    <tr>\n",
       "      <th>141</th>\n",
       "      <td>_STARTSTACK_ event_whenbroadcastreceived _MENU...</td>\n",
       "    </tr>\n",
       "  </tbody>\n",
       "</table>\n",
       "</div>"
      ],
      "text/plain": [
       "                                          project_text\n",
       "974  _STARTSTACK_ event_whenflagclicked _NEXT_ look...\n",
       "849  _STARTSTACK_ event_whenthisspriteclicked _NEXT...\n",
       "609  _STARTSTACK_ event_whenflagclicked _NEXT_ look...\n",
       "823  _STARTSTACK_ event_whenflagclicked _NEXT_ moti...\n",
       "141  _STARTSTACK_ event_whenbroadcastreceived _MENU..."
      ]
     },
     "metadata": {},
     "output_type": "display_data"
    }
   ],
   "source": [
    "print(ids_df.shape)\n",
    "print(txt_df.shape)\n",
    "display(ids_df.sample(n=5))\n",
    "display(txt_df.sample(n=5))"
   ]
  },
  {
   "cell_type": "code",
   "execution_count": 127,
   "metadata": {},
   "outputs": [],
   "source": [
    "# join these two dataframes together\n",
    "projects_text_column = txt_df['project_text'].tolist()\n",
    "ids_df['project_text'] = projects_text_column"
   ]
  },
  {
   "cell_type": "code",
   "execution_count": 128,
   "metadata": {},
   "outputs": [
    {
     "data": {
      "text/html": [
       "<div>\n",
       "<style scoped>\n",
       "    .dataframe tbody tr th:only-of-type {\n",
       "        vertical-align: middle;\n",
       "    }\n",
       "\n",
       "    .dataframe tbody tr th {\n",
       "        vertical-align: top;\n",
       "    }\n",
       "\n",
       "    .dataframe thead th {\n",
       "        text-align: right;\n",
       "    }\n",
       "</style>\n",
       "<table border=\"1\" class=\"dataframe\">\n",
       "  <thead>\n",
       "    <tr style=\"text-align: right;\">\n",
       "      <th></th>\n",
       "      <th>id</th>\n",
       "      <th>project_text</th>\n",
       "    </tr>\n",
       "  </thead>\n",
       "  <tbody>\n",
       "    <tr>\n",
       "      <th>186</th>\n",
       "      <td>12943384</td>\n",
       "      <td>_STARTSTACK_ procedures_definition _NEXT_ cont...</td>\n",
       "    </tr>\n",
       "    <tr>\n",
       "      <th>22</th>\n",
       "      <td>12391492</td>\n",
       "      <td>_STARTSTACK_ event_whenflagclicked _NEXT_ cont...</td>\n",
       "    </tr>\n",
       "    <tr>\n",
       "      <th>591</th>\n",
       "      <td>165884570</td>\n",
       "      <td>_STARTSTACK_ event_whenthisspriteclicked _NEXT...</td>\n",
       "    </tr>\n",
       "    <tr>\n",
       "      <th>585</th>\n",
       "      <td>108636510</td>\n",
       "      <td>_STARTSTACK_ event_whenflagclicked _NEXT_ cont...</td>\n",
       "    </tr>\n",
       "    <tr>\n",
       "      <th>727</th>\n",
       "      <td>201278690</td>\n",
       "      <td>_STARTSTACK_ event_whenflagclicked _NEXT_ cont...</td>\n",
       "    </tr>\n",
       "  </tbody>\n",
       "</table>\n",
       "</div>"
      ],
      "text/plain": [
       "            id                                       project_text\n",
       "186   12943384  _STARTSTACK_ procedures_definition _NEXT_ cont...\n",
       "22    12391492  _STARTSTACK_ event_whenflagclicked _NEXT_ cont...\n",
       "591  165884570  _STARTSTACK_ event_whenthisspriteclicked _NEXT...\n",
       "585  108636510  _STARTSTACK_ event_whenflagclicked _NEXT_ cont...\n",
       "727  201278690  _STARTSTACK_ event_whenflagclicked _NEXT_ cont..."
      ]
     },
     "execution_count": 128,
     "metadata": {},
     "output_type": "execute_result"
    }
   ],
   "source": [
    "ids_df.sample(n=5)"
   ]
  },
  {
   "cell_type": "code",
   "execution_count": 129,
   "metadata": {},
   "outputs": [],
   "source": [
    "# initialize labels column to OTHER_LABEL\n",
    "ids_df['label'] = [OTHER_LABEL]*NUM_PROJECTS"
   ]
  },
  {
   "cell_type": "code",
   "execution_count": 130,
   "metadata": {},
   "outputs": [],
   "source": [
    "# apply the labels using the full df from above\n",
    "def get_label(row):\n",
    "    matching_df = df[df['id'] == row['id']] # multiple rows might match! (bug: duplicate projects in FE dataset)\n",
    "    row['label'] = matching_df.iloc[0]['label'] # TODO: change this when you fix the duplicates bug?\n",
    "    return row\n",
    "\n",
    "ids_df = ids_df.apply(get_label, axis=1, result_type='broadcast')\n",
    "ids_df = pd.DataFrame(ids_df)"
   ]
  },
  {
   "cell_type": "code",
   "execution_count": 131,
   "metadata": {},
   "outputs": [
    {
     "data": {
      "text/html": [
       "<div>\n",
       "<style scoped>\n",
       "    .dataframe tbody tr th:only-of-type {\n",
       "        vertical-align: middle;\n",
       "    }\n",
       "\n",
       "    .dataframe tbody tr th {\n",
       "        vertical-align: top;\n",
       "    }\n",
       "\n",
       "    .dataframe thead th {\n",
       "        text-align: right;\n",
       "    }\n",
       "</style>\n",
       "<table border=\"1\" class=\"dataframe\">\n",
       "  <thead>\n",
       "    <tr style=\"text-align: right;\">\n",
       "      <th></th>\n",
       "      <th>id</th>\n",
       "      <th>project_text</th>\n",
       "      <th>label</th>\n",
       "    </tr>\n",
       "  </thead>\n",
       "  <tbody>\n",
       "    <tr>\n",
       "      <th>829</th>\n",
       "      <td>12789243</td>\n",
       "      <td>_STARTSTACK_ event_whenbroadcastreceived _MENU...</td>\n",
       "      <td>Animation</td>\n",
       "    </tr>\n",
       "    <tr>\n",
       "      <th>870</th>\n",
       "      <td>12141553</td>\n",
       "      <td>_STARTSTACK_ event_whenflagclicked _NEXT_ look...</td>\n",
       "      <td>Game</td>\n",
       "    </tr>\n",
       "    <tr>\n",
       "      <th>750</th>\n",
       "      <td>12513031</td>\n",
       "      <td>_STARTSTACK_ event_whenbroadcastreceived _MENU...</td>\n",
       "      <td>Game</td>\n",
       "    </tr>\n",
       "    <tr>\n",
       "      <th>748</th>\n",
       "      <td>12219166</td>\n",
       "      <td>_STARTSTACK_ event_whenflagclicked _NEXT_ look...</td>\n",
       "      <td>Game</td>\n",
       "    </tr>\n",
       "    <tr>\n",
       "      <th>497</th>\n",
       "      <td>225884070</td>\n",
       "      <td>_STARTSTACK_ event_whenflagclicked _NEXT_ look...</td>\n",
       "      <td>Game</td>\n",
       "    </tr>\n",
       "  </tbody>\n",
       "</table>\n",
       "</div>"
      ],
      "text/plain": [
       "            id                                       project_text      label\n",
       "829   12789243  _STARTSTACK_ event_whenbroadcastreceived _MENU...  Animation\n",
       "870   12141553  _STARTSTACK_ event_whenflagclicked _NEXT_ look...       Game\n",
       "750   12513031  _STARTSTACK_ event_whenbroadcastreceived _MENU...       Game\n",
       "748   12219166  _STARTSTACK_ event_whenflagclicked _NEXT_ look...       Game\n",
       "497  225884070  _STARTSTACK_ event_whenflagclicked _NEXT_ look...       Game"
      ]
     },
     "execution_count": 131,
     "metadata": {},
     "output_type": "execute_result"
    }
   ],
   "source": [
    "ids_df.sample(n=5)"
   ]
  },
  {
   "cell_type": "markdown",
   "metadata": {},
   "source": [
    "### shuffle and split dataset"
   ]
  },
  {
   "cell_type": "code",
   "execution_count": 132,
   "metadata": {},
   "outputs": [],
   "source": [
    "dataframes = train_test_split(ids_df, shuffle=True, test_size=TEST_PERCENTAGE)"
   ]
  },
  {
   "cell_type": "code",
   "execution_count": 133,
   "metadata": {},
   "outputs": [],
   "source": [
    "train_df = dataframes[0]\n",
    "test_df = dataframes[1]"
   ]
  },
  {
   "cell_type": "code",
   "execution_count": 134,
   "metadata": {},
   "outputs": [
    {
     "name": "stdout",
     "output_type": "stream",
     "text": [
      "train: (808, 3)\n",
      "test: (203, 3)\n"
     ]
    }
   ],
   "source": [
    "print(\"train:\", train_df.shape)\n",
    "print(\"test:\", test_df.shape)"
   ]
  },
  {
   "cell_type": "code",
   "execution_count": 135,
   "metadata": {},
   "outputs": [
    {
     "data": {
      "text/html": [
       "<div>\n",
       "<style scoped>\n",
       "    .dataframe tbody tr th:only-of-type {\n",
       "        vertical-align: middle;\n",
       "    }\n",
       "\n",
       "    .dataframe tbody tr th {\n",
       "        vertical-align: top;\n",
       "    }\n",
       "\n",
       "    .dataframe thead th {\n",
       "        text-align: right;\n",
       "    }\n",
       "</style>\n",
       "<table border=\"1\" class=\"dataframe\">\n",
       "  <thead>\n",
       "    <tr style=\"text-align: right;\">\n",
       "      <th></th>\n",
       "      <th>id</th>\n",
       "      <th>project_text</th>\n",
       "      <th>label</th>\n",
       "    </tr>\n",
       "  </thead>\n",
       "  <tbody>\n",
       "    <tr>\n",
       "      <th>94</th>\n",
       "      <td>115317599</td>\n",
       "      <td>_STARTSTACK_ event_whenflagclicked _NEXT_ moti...</td>\n",
       "      <td>Game</td>\n",
       "    </tr>\n",
       "    <tr>\n",
       "      <th>767</th>\n",
       "      <td>107385342</td>\n",
       "      <td>_STARTSTACK_ event_whenbroadcastreceived _MENU...</td>\n",
       "      <td>Game</td>\n",
       "    </tr>\n",
       "    <tr>\n",
       "      <th>137</th>\n",
       "      <td>12487113</td>\n",
       "      <td>_STARTSTACK_ event_whenbroadcastreceived _MENU...</td>\n",
       "      <td>Game</td>\n",
       "    </tr>\n",
       "    <tr>\n",
       "      <th>359</th>\n",
       "      <td>122207592</td>\n",
       "      <td>_STARTSTACK_ event_whenkeypressed _MENU_ menu_...</td>\n",
       "      <td>Game</td>\n",
       "    </tr>\n",
       "    <tr>\n",
       "      <th>294</th>\n",
       "      <td>12682709</td>\n",
       "      <td>_STARTSTACK_ event_whenflagclicked _NEXT_ look...</td>\n",
       "      <td>Game</td>\n",
       "    </tr>\n",
       "    <tr>\n",
       "      <th>...</th>\n",
       "      <td>...</td>\n",
       "      <td>...</td>\n",
       "      <td>...</td>\n",
       "    </tr>\n",
       "    <tr>\n",
       "      <th>50</th>\n",
       "      <td>213423941</td>\n",
       "      <td>_STARTSTACK_ event_whenflagclicked _NEXT_ even...</td>\n",
       "      <td>Game</td>\n",
       "    </tr>\n",
       "    <tr>\n",
       "      <th>865</th>\n",
       "      <td>12791495</td>\n",
       "      <td>_STARTSTACK_ event_whenbroadcastreceived _MENU...</td>\n",
       "      <td>Game</td>\n",
       "    </tr>\n",
       "    <tr>\n",
       "      <th>5</th>\n",
       "      <td>12504018</td>\n",
       "      <td>_STARTSTACK_ event_whenbroadcastreceived _MENU...</td>\n",
       "      <td>Game</td>\n",
       "    </tr>\n",
       "    <tr>\n",
       "      <th>989</th>\n",
       "      <td>12204110</td>\n",
       "      <td>_STARTSTACK_ event_whenflagclicked _NEXT_ look...</td>\n",
       "      <td>Game</td>\n",
       "    </tr>\n",
       "    <tr>\n",
       "      <th>699</th>\n",
       "      <td>187068246</td>\n",
       "      <td>_STARTSTACK_ event_whenbroadcastreceived _MENU...</td>\n",
       "      <td>Game</td>\n",
       "    </tr>\n",
       "  </tbody>\n",
       "</table>\n",
       "<p>322 rows × 3 columns</p>\n",
       "</div>"
      ],
      "text/plain": [
       "            id                                       project_text label\n",
       "94   115317599  _STARTSTACK_ event_whenflagclicked _NEXT_ moti...  Game\n",
       "767  107385342  _STARTSTACK_ event_whenbroadcastreceived _MENU...  Game\n",
       "137   12487113  _STARTSTACK_ event_whenbroadcastreceived _MENU...  Game\n",
       "359  122207592  _STARTSTACK_ event_whenkeypressed _MENU_ menu_...  Game\n",
       "294   12682709  _STARTSTACK_ event_whenflagclicked _NEXT_ look...  Game\n",
       "..         ...                                                ...   ...\n",
       "50   213423941  _STARTSTACK_ event_whenflagclicked _NEXT_ even...  Game\n",
       "865   12791495  _STARTSTACK_ event_whenbroadcastreceived _MENU...  Game\n",
       "5     12504018  _STARTSTACK_ event_whenbroadcastreceived _MENU...  Game\n",
       "989   12204110  _STARTSTACK_ event_whenflagclicked _NEXT_ look...  Game\n",
       "699  187068246  _STARTSTACK_ event_whenbroadcastreceived _MENU...  Game\n",
       "\n",
       "[322 rows x 3 columns]"
      ]
     },
     "execution_count": 135,
     "metadata": {},
     "output_type": "execute_result"
    }
   ],
   "source": [
    "train_df[train_df['label'] == \"Game\"]"
   ]
  },
  {
   "cell_type": "code",
   "execution_count": 136,
   "metadata": {},
   "outputs": [
    {
     "data": {
      "text/html": [
       "<div>\n",
       "<style scoped>\n",
       "    .dataframe tbody tr th:only-of-type {\n",
       "        vertical-align: middle;\n",
       "    }\n",
       "\n",
       "    .dataframe tbody tr th {\n",
       "        vertical-align: top;\n",
       "    }\n",
       "\n",
       "    .dataframe thead th {\n",
       "        text-align: right;\n",
       "    }\n",
       "</style>\n",
       "<table border=\"1\" class=\"dataframe\">\n",
       "  <thead>\n",
       "    <tr style=\"text-align: right;\">\n",
       "      <th></th>\n",
       "      <th>id</th>\n",
       "      <th>project_text</th>\n",
       "      <th>label</th>\n",
       "    </tr>\n",
       "  </thead>\n",
       "  <tbody>\n",
       "    <tr>\n",
       "      <th>866</th>\n",
       "      <td>236477301</td>\n",
       "      <td>_STARTSTACK_ event_whenflagclicked _NEXT_ look...</td>\n",
       "      <td>Animation</td>\n",
       "    </tr>\n",
       "    <tr>\n",
       "      <th>743</th>\n",
       "      <td>215517495</td>\n",
       "      <td>_STARTSTACK_ event_whenflagclicked _NEXT_ soun...</td>\n",
       "      <td>Animation</td>\n",
       "    </tr>\n",
       "    <tr>\n",
       "      <th>401</th>\n",
       "      <td>229847307</td>\n",
       "      <td>_STARTSTACK_ event_whenflagclicked _NEXT_ soun...</td>\n",
       "      <td>Animation</td>\n",
       "    </tr>\n",
       "    <tr>\n",
       "      <th>986</th>\n",
       "      <td>152404976</td>\n",
       "      <td>_STARTSTACK_ event_whenflagclicked _NEXT_ soun...</td>\n",
       "      <td>Animation</td>\n",
       "    </tr>\n",
       "    <tr>\n",
       "      <th>528</th>\n",
       "      <td>162561728</td>\n",
       "      <td>_STARTSTACK_ event_whenflagclicked _NEXT_ moti...</td>\n",
       "      <td>Animation</td>\n",
       "    </tr>\n",
       "    <tr>\n",
       "      <th>...</th>\n",
       "      <td>...</td>\n",
       "      <td>...</td>\n",
       "      <td>...</td>\n",
       "    </tr>\n",
       "    <tr>\n",
       "      <th>375</th>\n",
       "      <td>147108702</td>\n",
       "      <td>_STARTSTACK_ event_whenflagclicked _NEXT_ look...</td>\n",
       "      <td>Animation</td>\n",
       "    </tr>\n",
       "    <tr>\n",
       "      <th>516</th>\n",
       "      <td>11796918</td>\n",
       "      <td>_STARTSTACK_ event_whenflagclicked _NEXT_ look...</td>\n",
       "      <td>Animation</td>\n",
       "    </tr>\n",
       "    <tr>\n",
       "      <th>576</th>\n",
       "      <td>12566151</td>\n",
       "      <td>_STARTSTACK_ event_whenflagclicked _NEXT_ cont...</td>\n",
       "      <td>Animation</td>\n",
       "    </tr>\n",
       "    <tr>\n",
       "      <th>972</th>\n",
       "      <td>229857679</td>\n",
       "      <td>_STARTSTACK_ event_whenflagclicked _NEXT_ look...</td>\n",
       "      <td>Animation</td>\n",
       "    </tr>\n",
       "    <tr>\n",
       "      <th>515</th>\n",
       "      <td>171132527</td>\n",
       "      <td>_STARTSTACK_ event_whenflagclicked _NEXT_ look...</td>\n",
       "      <td>Animation</td>\n",
       "    </tr>\n",
       "  </tbody>\n",
       "</table>\n",
       "<p>255 rows × 3 columns</p>\n",
       "</div>"
      ],
      "text/plain": [
       "            id                                       project_text      label\n",
       "866  236477301  _STARTSTACK_ event_whenflagclicked _NEXT_ look...  Animation\n",
       "743  215517495  _STARTSTACK_ event_whenflagclicked _NEXT_ soun...  Animation\n",
       "401  229847307  _STARTSTACK_ event_whenflagclicked _NEXT_ soun...  Animation\n",
       "986  152404976  _STARTSTACK_ event_whenflagclicked _NEXT_ soun...  Animation\n",
       "528  162561728  _STARTSTACK_ event_whenflagclicked _NEXT_ moti...  Animation\n",
       "..         ...                                                ...        ...\n",
       "375  147108702  _STARTSTACK_ event_whenflagclicked _NEXT_ look...  Animation\n",
       "516   11796918  _STARTSTACK_ event_whenflagclicked _NEXT_ look...  Animation\n",
       "576   12566151  _STARTSTACK_ event_whenflagclicked _NEXT_ cont...  Animation\n",
       "972  229857679  _STARTSTACK_ event_whenflagclicked _NEXT_ look...  Animation\n",
       "515  171132527  _STARTSTACK_ event_whenflagclicked _NEXT_ look...  Animation\n",
       "\n",
       "[255 rows x 3 columns]"
      ]
     },
     "execution_count": 136,
     "metadata": {},
     "output_type": "execute_result"
    }
   ],
   "source": [
    "train_df[train_df['label'] == \"Animation\"]"
   ]
  },
  {
   "cell_type": "code",
   "execution_count": 137,
   "metadata": {},
   "outputs": [
    {
     "data": {
      "text/html": [
       "<div>\n",
       "<style scoped>\n",
       "    .dataframe tbody tr th:only-of-type {\n",
       "        vertical-align: middle;\n",
       "    }\n",
       "\n",
       "    .dataframe tbody tr th {\n",
       "        vertical-align: top;\n",
       "    }\n",
       "\n",
       "    .dataframe thead th {\n",
       "        text-align: right;\n",
       "    }\n",
       "</style>\n",
       "<table border=\"1\" class=\"dataframe\">\n",
       "  <thead>\n",
       "    <tr style=\"text-align: right;\">\n",
       "      <th></th>\n",
       "      <th>id</th>\n",
       "      <th>project_text</th>\n",
       "      <th>label</th>\n",
       "    </tr>\n",
       "  </thead>\n",
       "  <tbody>\n",
       "    <tr>\n",
       "      <th>705</th>\n",
       "      <td>91724853</td>\n",
       "      <td>_STARTSTACK_ event_whenbackdropswitchesto _MEN...</td>\n",
       "      <td>Other</td>\n",
       "    </tr>\n",
       "    <tr>\n",
       "      <th>712</th>\n",
       "      <td>196396672</td>\n",
       "      <td>_STARTSTACK_ event_whenflagclicked _NEXT_ cont...</td>\n",
       "      <td>Other</td>\n",
       "    </tr>\n",
       "    <tr>\n",
       "      <th>371</th>\n",
       "      <td>288010892</td>\n",
       "      <td>_STARTSTACK_ event_whenflagclicked _NEXT_ moti...</td>\n",
       "      <td>Other</td>\n",
       "    </tr>\n",
       "    <tr>\n",
       "      <th>746</th>\n",
       "      <td>141206552</td>\n",
       "      <td>_STARTSTACK_ event_whenflagclicked _NEXT_ cont...</td>\n",
       "      <td>Other</td>\n",
       "    </tr>\n",
       "    <tr>\n",
       "      <th>907</th>\n",
       "      <td>86714101</td>\n",
       "      <td>_STARTSTACK_ event_whenkeypressed _MENU_ menu_...</td>\n",
       "      <td>Other</td>\n",
       "    </tr>\n",
       "    <tr>\n",
       "      <th>...</th>\n",
       "      <td>...</td>\n",
       "      <td>...</td>\n",
       "      <td>...</td>\n",
       "    </tr>\n",
       "    <tr>\n",
       "      <th>852</th>\n",
       "      <td>122752480</td>\n",
       "      <td>_STARTSTACK_ event_whenflagclicked _NEXT_ cont...</td>\n",
       "      <td>Other</td>\n",
       "    </tr>\n",
       "    <tr>\n",
       "      <th>276</th>\n",
       "      <td>12494887</td>\n",
       "      <td>_STARTSTACK_ event_whenflagclicked _NEXT_ look...</td>\n",
       "      <td>Other</td>\n",
       "    </tr>\n",
       "    <tr>\n",
       "      <th>513</th>\n",
       "      <td>12978908</td>\n",
       "      <td>_STARTSTACK_ event_whenflagclicked _NEXT_ look...</td>\n",
       "      <td>Other</td>\n",
       "    </tr>\n",
       "    <tr>\n",
       "      <th>884</th>\n",
       "      <td>137605037</td>\n",
       "      <td>_STARTSTACK_ event_whenflagclicked _ENDSTACK_ ...</td>\n",
       "      <td>Other</td>\n",
       "    </tr>\n",
       "    <tr>\n",
       "      <th>392</th>\n",
       "      <td>12395478</td>\n",
       "      <td>_STARTSTACK_ event_whenkeypressed _MENU_ menu_...</td>\n",
       "      <td>Other</td>\n",
       "    </tr>\n",
       "  </tbody>\n",
       "</table>\n",
       "<p>231 rows × 3 columns</p>\n",
       "</div>"
      ],
      "text/plain": [
       "            id                                       project_text  label\n",
       "705   91724853  _STARTSTACK_ event_whenbackdropswitchesto _MEN...  Other\n",
       "712  196396672  _STARTSTACK_ event_whenflagclicked _NEXT_ cont...  Other\n",
       "371  288010892  _STARTSTACK_ event_whenflagclicked _NEXT_ moti...  Other\n",
       "746  141206552  _STARTSTACK_ event_whenflagclicked _NEXT_ cont...  Other\n",
       "907   86714101  _STARTSTACK_ event_whenkeypressed _MENU_ menu_...  Other\n",
       "..         ...                                                ...    ...\n",
       "852  122752480  _STARTSTACK_ event_whenflagclicked _NEXT_ cont...  Other\n",
       "276   12494887  _STARTSTACK_ event_whenflagclicked _NEXT_ look...  Other\n",
       "513   12978908  _STARTSTACK_ event_whenflagclicked _NEXT_ look...  Other\n",
       "884  137605037  _STARTSTACK_ event_whenflagclicked _ENDSTACK_ ...  Other\n",
       "392   12395478  _STARTSTACK_ event_whenkeypressed _MENU_ menu_...  Other\n",
       "\n",
       "[231 rows x 3 columns]"
      ]
     },
     "execution_count": 137,
     "metadata": {},
     "output_type": "execute_result"
    }
   ],
   "source": [
    "train_df[train_df['label'] == \"Other\"]"
   ]
  },
  {
   "cell_type": "markdown",
   "metadata": {},
   "source": [
    "### export datasets"
   ]
  },
  {
   "cell_type": "code",
   "execution_count": 138,
   "metadata": {},
   "outputs": [
    {
     "name": "stdout",
     "output_type": "stream",
     "text": [
      "/Users/labdalla/Documents/Scratch-MEng/Workspace/supervised-learning/scratch-recommend/scratch-classify/dataset/classification_train.txt\n",
      "/Users/labdalla/Documents/Scratch-MEng/Workspace/supervised-learning/scratch-recommend/scratch-classify/dataset/classification_train_no_labels.txt\n"
     ]
    }
   ],
   "source": [
    "# write both labels and project text to the first file\n",
    "with open(CLASSIFICATION_TRAIN_TARGET, 'w+') as file:   \n",
    "    for index, row in train_df.iterrows():\n",
    "        label = \"__label__\" + row['label'].lower()\n",
    "        project_text = row['project_text']\n",
    "        line = f'{label} {project_text}\\n'\n",
    "        file.write(line)\n",
    "\n",
    "# write only project text to the second file\n",
    "with open(CLASSIFICATION_TRAIN_TARGET_NO_LABELS, 'w+') as file:\n",
    "    for index, row in train_df.iterrows():\n",
    "        project_text = row['project_text']\n",
    "        line = f'{project_text}\\n'\n",
    "        file.write(line)\n",
    "        \n",
    "print(CLASSIFICATION_TRAIN_TARGET)\n",
    "print(CLASSIFICATION_TRAIN_TARGET_NO_LABELS)"
   ]
  },
  {
   "cell_type": "code",
   "execution_count": 139,
   "metadata": {},
   "outputs": [
    {
     "name": "stdout",
     "output_type": "stream",
     "text": [
      "/Users/labdalla/Documents/Scratch-MEng/Workspace/supervised-learning/scratch-recommend/scratch-classify/dataset/classification_test.txt\n",
      "/Users/labdalla/Documents/Scratch-MEng/Workspace/supervised-learning/scratch-recommend/scratch-classify/dataset/classification_test_no_labels.txt\n"
     ]
    }
   ],
   "source": [
    "with open(CLASSIFICATION_TEST_TARGET, 'w+') as file:\n",
    "    for index, row in test_df.iterrows():\n",
    "        label = \"__label__\" + row['label'].lower()\n",
    "        project_text = row['project_text']\n",
    "        line = f'{label} {project_text}\\n'\n",
    "        file.write(line)\n",
    "\n",
    "# write only project text to the second file\n",
    "with open(CLASSIFICATION_TEST_TARGET_NO_LABELS, 'w+') as file:\n",
    "    for index, row in test_df.iterrows():\n",
    "        project_text = row['project_text']\n",
    "        line = f'{project_text}\\n'\n",
    "        file.write(line)\n",
    "        \n",
    "print(CLASSIFICATION_TEST_TARGET)\n",
    "print(CLASSIFICATION_TEST_TARGET_NO_LABELS)"
   ]
  },
  {
   "cell_type": "code",
   "execution_count": null,
   "metadata": {},
   "outputs": [],
   "source": []
  }
 ],
 "metadata": {
  "kernelspec": {
   "display_name": "Python 3",
   "language": "python",
   "name": "python3"
  },
  "language_info": {
   "codemirror_mode": {
    "name": "ipython",
    "version": 3
   },
   "file_extension": ".py",
   "mimetype": "text/x-python",
   "name": "python",
   "nbconvert_exporter": "python",
   "pygments_lexer": "ipython3",
   "version": "3.6.4"
  }
 },
 "nbformat": 4,
 "nbformat_minor": 2
}
