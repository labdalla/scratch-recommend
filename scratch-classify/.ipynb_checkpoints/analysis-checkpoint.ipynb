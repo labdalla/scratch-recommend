{
 "cells": [
  {
   "cell_type": "markdown",
   "metadata": {},
   "source": [
    "### settings and setup"
   ]
  },
  {
   "cell_type": "code",
   "execution_count": 18,
   "metadata": {},
   "outputs": [
    {
     "name": "stdout",
     "output_type": "stream",
     "text": [
      "0.22\n"
     ]
    }
   ],
   "source": [
    "import fasttext\n",
    "import numpy as np\n",
    "import matplotlib.pyplot as plt\n",
    "import os\n",
    "import pandas as pd\n",
    "import sklearn\n",
    "from sklearn.metrics import *\n",
    "from sklearn.metrics import plot_confusion_matrix\n",
    "import seaborn as sns; sns.set()\n",
    "print(sklearn.__version__)"
   ]
  },
  {
   "cell_type": "code",
   "execution_count": 3,
   "metadata": {},
   "outputs": [
    {
     "name": "stdout",
     "output_type": "stream",
     "text": [
      "/Users/labdalla/Documents/Scratch-MEng/Workspace/supervised-learning/scratch-recommend/scratch-classify/dataset/classification_test.txt\n",
      "/Users/labdalla/Documents/Scratch-MEng/Workspace/supervised-learning/scratch-recommend/scratch-classify/model/classification_500000.bin\n"
     ]
    }
   ],
   "source": [
    "DATASET = \"./dataset\"\n",
    "TEST_TARGET = os.path.abspath(os.path.join(DATASET, 'classification_test.txt'))\n",
    "TEST_TARGET_NO_LABELS = os.path.abspath(os.path.join(DATASET, 'classification_test_no_labels.txt'))\n",
    "\n",
    "\n",
    "MODEL = \"./model\"\n",
    "MODEL_TARGET = os.path.abspath(os.path.join(MODEL, 'classification_500000.bin'))\n",
    "\n",
    "print(TEST_TARGET)\n",
    "print(MODEL_TARGET)"
   ]
  },
  {
   "cell_type": "markdown",
   "metadata": {},
   "source": [
    "### load model (trained with pretrained vectors)"
   ]
  },
  {
   "cell_type": "code",
   "execution_count": 4,
   "metadata": {},
   "outputs": [
    {
     "name": "stderr",
     "output_type": "stream",
     "text": [
      "\n"
     ]
    }
   ],
   "source": [
    "model = fasttext.load_model(MODEL_TARGET)"
   ]
  },
  {
   "cell_type": "markdown",
   "metadata": {},
   "source": [
    "### analyze"
   ]
  },
  {
   "cell_type": "code",
   "execution_count": 5,
   "metadata": {},
   "outputs": [
    {
     "data": {
      "text/plain": [
       "(203, 0.7438423645320197, 0.7438423645320197)"
      ]
     },
     "execution_count": 5,
     "metadata": {},
     "output_type": "execute_result"
    }
   ],
   "source": [
    "model.test(TEST_TARGET)"
   ]
  },
  {
   "cell_type": "code",
   "execution_count": 6,
   "metadata": {},
   "outputs": [
    {
     "data": {
      "text/plain": [
       "{'precision': 0.8043478260869565,\n",
       " 'recall': 0.8505747126436781,\n",
       " 'f1score': 0.8268156424581006}"
      ]
     },
     "execution_count": 6,
     "metadata": {},
     "output_type": "execute_result"
    }
   ],
   "source": [
    "model.test_label(TEST_TARGET)['__label__game']"
   ]
  },
  {
   "cell_type": "code",
   "execution_count": 7,
   "metadata": {
    "scrolled": true
   },
   "outputs": [
    {
     "data": {
      "text/plain": [
       "{'precision': 0.7714285714285715,\n",
       " 'recall': 0.8571428571428571,\n",
       " 'f1score': 0.8120300751879699}"
      ]
     },
     "execution_count": 7,
     "metadata": {},
     "output_type": "execute_result"
    }
   ],
   "source": [
    "model.test_label(TEST_TARGET)['__label__animation']"
   ]
  },
  {
   "cell_type": "code",
   "execution_count": 8,
   "metadata": {},
   "outputs": [
    {
     "data": {
      "text/plain": [
       "{'precision': 0.5609756097560976,\n",
       " 'recall': 0.4339622641509434,\n",
       " 'f1score': 0.48936170212765956}"
      ]
     },
     "execution_count": 8,
     "metadata": {},
     "output_type": "execute_result"
    }
   ],
   "source": [
    "model.test_label(TEST_TARGET)['__label__other']"
   ]
  },
  {
   "cell_type": "markdown",
   "metadata": {},
   "source": [
    "### confusion matrix"
   ]
  },
  {
   "cell_type": "code",
   "execution_count": 9,
   "metadata": {
    "scrolled": true
   },
   "outputs": [],
   "source": [
    "# read in the test target without labels\n",
    "y_true = []\n",
    "test_project_texts = []\n",
    "with open(TEST_TARGET, 'r') as file:\n",
    "    lines = file.readlines()\n",
    "    for line in lines:\n",
    "        split_line = line.split(\" \", 1) # only split at the first space\n",
    "        label = split_line[0]\n",
    "        project_text = split_line[1]\n",
    "        project_text = project_text.rstrip('\\n')\n",
    "        \n",
    "        y_true.append(label)\n",
    "        test_project_texts.append(project_text)\n",
    "        "
   ]
  },
  {
   "cell_type": "code",
   "execution_count": 10,
   "metadata": {},
   "outputs": [
    {
     "name": "stdout",
     "output_type": "stream",
     "text": [
      "203\n",
      "203\n"
     ]
    }
   ],
   "source": [
    "print(len(y_true))\n",
    "print(len(test_project_texts))"
   ]
  },
  {
   "cell_type": "code",
   "execution_count": 11,
   "metadata": {},
   "outputs": [
    {
     "name": "stdout",
     "output_type": "stream",
     "text": [
      "203\n"
     ]
    }
   ],
   "source": [
    "y_pred, y_probs = model.predict(test_project_texts)\n",
    "print(len(y_pred))"
   ]
  },
  {
   "cell_type": "code",
   "execution_count": 12,
   "metadata": {},
   "outputs": [
    {
     "name": "stdout",
     "output_type": "stream",
     "text": [
      "y_pred: [['__label__other'], ['__label__game'], ['__label__animation'], ['__label__animation'], ['__label__game'], ['__label__game'], ['__label__animation'], ['__label__game'], ['__label__animation'], ['__label__other'], ['__label__game'], ['__label__game'], ['__label__game'], ['__label__animation'], ['__label__game'], ['__label__animation'], ['__label__game'], ['__label__animation'], ['__label__other'], ['__label__other'], ['__label__game'], ['__label__other'], ['__label__game'], ['__label__game'], ['__label__animation'], ['__label__game'], ['__label__animation'], ['__label__animation'], ['__label__game'], ['__label__animation'], ['__label__game'], ['__label__other'], ['__label__animation'], ['__label__animation'], ['__label__game'], ['__label__animation'], ['__label__animation'], ['__label__game'], ['__label__other'], ['__label__game'], ['__label__other'], ['__label__game'], ['__label__game'], ['__label__game'], ['__label__game'], ['__label__game'], ['__label__animation'], ['__label__animation'], ['__label__animation'], ['__label__animation'], ['__label__other'], ['__label__animation'], ['__label__animation'], ['__label__game'], ['__label__game'], ['__label__game'], ['__label__other'], ['__label__animation'], ['__label__animation'], ['__label__animation'], ['__label__game'], ['__label__game'], ['__label__animation'], ['__label__animation'], ['__label__other'], ['__label__animation'], ['__label__other'], ['__label__animation'], ['__label__other'], ['__label__other'], ['__label__game'], ['__label__other'], ['__label__game'], ['__label__game'], ['__label__animation'], ['__label__animation'], ['__label__other'], ['__label__game'], ['__label__animation'], ['__label__game'], ['__label__animation'], ['__label__other'], ['__label__game'], ['__label__other'], ['__label__game'], ['__label__game'], ['__label__other'], ['__label__game'], ['__label__animation'], ['__label__other'], ['__label__animation'], ['__label__animation'], ['__label__animation'], ['__label__other'], ['__label__animation'], ['__label__game'], ['__label__game'], ['__label__other'], ['__label__animation'], ['__label__game'], ['__label__game'], ['__label__game'], ['__label__other'], ['__label__animation'], ['__label__other'], ['__label__animation'], ['__label__game'], ['__label__game'], ['__label__animation'], ['__label__game'], ['__label__animation'], ['__label__game'], ['__label__other'], ['__label__game'], ['__label__animation'], ['__label__game'], ['__label__animation'], ['__label__game'], ['__label__game'], ['__label__animation'], ['__label__game'], ['__label__other'], ['__label__animation'], ['__label__other'], ['__label__other'], ['__label__game'], ['__label__animation'], ['__label__game'], ['__label__animation'], ['__label__game'], ['__label__game'], ['__label__game'], ['__label__game'], ['__label__animation'], ['__label__animation'], ['__label__game'], ['__label__game'], ['__label__game'], ['__label__game'], ['__label__animation'], ['__label__game'], ['__label__game'], ['__label__other'], ['__label__game'], ['__label__animation'], ['__label__other'], ['__label__game'], ['__label__game'], ['__label__animation'], ['__label__animation'], ['__label__game'], ['__label__game'], ['__label__game'], ['__label__animation'], ['__label__game'], ['__label__animation'], ['__label__animation'], ['__label__other'], ['__label__game'], ['__label__game'], ['__label__game'], ['__label__game'], ['__label__other'], ['__label__game'], ['__label__game'], ['__label__animation'], ['__label__game'], ['__label__other'], ['__label__game'], ['__label__animation'], ['__label__animation'], ['__label__animation'], ['__label__game'], ['__label__game'], ['__label__game'], ['__label__game'], ['__label__other'], ['__label__other'], ['__label__game'], ['__label__game'], ['__label__other'], ['__label__animation'], ['__label__other'], ['__label__game'], ['__label__other'], ['__label__game'], ['__label__animation'], ['__label__animation'], ['__label__animation'], ['__label__animation'], ['__label__animation'], ['__label__game'], ['__label__animation'], ['__label__game'], ['__label__game'], ['__label__animation'], ['__label__game'], ['__label__animation'], ['__label__other'], ['__label__other'], ['__label__game'], ['__label__game'], ['__label__other']]\n",
      "\n",
      "\n",
      "\n",
      "\n",
      "y_true: ['__label__other', '__label__game', '__label__animation', '__label__animation', '__label__game', '__label__game', '__label__animation', '__label__game', '__label__animation', '__label__game', '__label__game', '__label__game', '__label__game', '__label__animation', '__label__game', '__label__animation', '__label__game', '__label__animation', '__label__other', '__label__other', '__label__game', '__label__other', '__label__game', '__label__game', '__label__animation', '__label__game', '__label__animation', '__label__animation', '__label__game', '__label__animation', '__label__game', '__label__other', '__label__animation', '__label__animation', '__label__game', '__label__other', '__label__animation', '__label__other', '__label__animation', '__label__game', '__label__game', '__label__game', '__label__game', '__label__game', '__label__other', '__label__other', '__label__other', '__label__animation', '__label__other', '__label__animation', '__label__animation', '__label__animation', '__label__animation', '__label__game', '__label__game', '__label__other', '__label__game', '__label__animation', '__label__other', '__label__animation', '__label__game', '__label__game', '__label__animation', '__label__other', '__label__other', '__label__animation', '__label__other', '__label__animation', '__label__animation', '__label__other', '__label__other', '__label__other', '__label__other', '__label__game', '__label__animation', '__label__animation', '__label__other', '__label__game', '__label__animation', '__label__game', '__label__game', '__label__other', '__label__game', '__label__other', '__label__game', '__label__game', '__label__game', '__label__other', '__label__animation', '__label__other', '__label__animation', '__label__animation', '__label__other', '__label__other', '__label__other', '__label__other', '__label__game', '__label__other', '__label__animation', '__label__game', '__label__animation', '__label__other', '__label__animation', '__label__other', '__label__other', '__label__animation', '__label__game', '__label__game', '__label__animation', '__label__game', '__label__animation', '__label__game', '__label__other', '__label__game', '__label__animation', '__label__game', '__label__animation', '__label__game', '__label__game', '__label__animation', '__label__game', '__label__game', '__label__animation', '__label__game', '__label__game', '__label__other', '__label__animation', '__label__other', '__label__animation', '__label__game', '__label__other', '__label__game', '__label__game', '__label__animation', '__label__game', '__label__game', '__label__game', '__label__other', '__label__game', '__label__other', '__label__game', '__label__other', '__label__game', '__label__game', '__label__animation', '__label__other', '__label__game', '__label__game', '__label__animation', '__label__animation', '__label__game', '__label__game', '__label__game', '__label__animation', '__label__game', '__label__animation', '__label__animation', '__label__other', '__label__game', '__label__game', '__label__other', '__label__game', '__label__game', '__label__game', '__label__other', '__label__animation', '__label__other', '__label__game', '__label__game', '__label__animation', '__label__other', '__label__other', '__label__game', '__label__game', '__label__game', '__label__game', '__label__other', '__label__animation', '__label__game', '__label__game', '__label__animation', '__label__animation', '__label__animation', '__label__game', '__label__other', '__label__game', '__label__animation', '__label__animation', '__label__animation', '__label__game', '__label__other', '__label__game', '__label__other', '__label__game', '__label__game', '__label__animation', '__label__game', '__label__animation', '__label__other', '__label__other', '__label__game', '__label__game', '__label__animation']\n"
     ]
    }
   ],
   "source": [
    "print(\"y_pred:\", y_pred)\n",
    "print(\"\\n\\n\\n\")\n",
    "\n",
    "print(\"y_true:\", y_true)"
   ]
  },
  {
   "cell_type": "code",
   "execution_count": 36,
   "metadata": {},
   "outputs": [
    {
     "name": "stdout",
     "output_type": "stream",
     "text": [
      "[[54  1  8]\n",
      " [ 3 74 10]\n",
      " [13 17 23]]\n"
     ]
    }
   ],
   "source": [
    "confusion = confusion_matrix(y_true, y_pred, labels=[\"__label__animation\", \"__label__game\", \"__label__other\"])\n",
    "print(confusion)\n"
   ]
  },
  {
   "cell_type": "markdown",
   "metadata": {},
   "source": [
    "### plot confusion matrix"
   ]
  },
  {
   "cell_type": "code",
   "execution_count": 41,
   "metadata": {},
   "outputs": [
    {
     "data": {
      "text/plain": [
       "Text(30.5,0.5,'True')"
      ]
     },
     "execution_count": 41,
     "metadata": {},
     "output_type": "execute_result"
    },
    {
     "data": {
      "image/png": "[encoded data removed]",
      "text/plain": [
       "<Figure size 432x288 with 2 Axes>"
      ]
     },
     "metadata": {},
     "output_type": "display_data"
    }
   ],
   "source": [
    "ax = sns.heatmap(confusion, cmap=\"Reds\", annot=True, fmt='d', xticklabels=[\"animation\", \"game\", \"other\"], yticklabels=[\"animation\", \"game\", \"other\"])\n",
    "ax.set_xlabel('Predicted')\n",
    "ax.set_ylabel('True')"
   ]
  },
  {
   "cell_type": "markdown",
   "metadata": {},
   "source": [
    "### normalize confusion matrix?"
   ]
  },
  {
   "cell_type": "code",
   "execution_count": null,
   "metadata": {},
   "outputs": [],
   "source": []
  },
  {
   "cell_type": "code",
   "execution_count": null,
   "metadata": {},
   "outputs": [],
   "source": []
  },
  {
   "cell_type": "markdown",
   "metadata": {},
   "source": [
    "### load model (trained without pretrained vectors)"
   ]
  },
  {
   "cell_type": "code",
   "execution_count": 10,
   "metadata": {},
   "outputs": [],
   "source": [
    "model_target = os.path.abspath(os.path.join(MODEL, 'classification_500000_no_pretrained_vectors.bin'))"
   ]
  },
  {
   "cell_type": "code",
   "execution_count": 11,
   "metadata": {},
   "outputs": [
    {
     "name": "stderr",
     "output_type": "stream",
     "text": [
      "\n"
     ]
    }
   ],
   "source": [
    "model = fasttext.load_model(model_target)"
   ]
  },
  {
   "cell_type": "markdown",
   "metadata": {},
   "source": [
    "### analyze"
   ]
  },
  {
   "cell_type": "code",
   "execution_count": 12,
   "metadata": {},
   "outputs": [
    {
     "data": {
      "text/plain": [
       "(203, 0.7389162561576355, 0.7389162561576355)"
      ]
     },
     "execution_count": 12,
     "metadata": {},
     "output_type": "execute_result"
    }
   ],
   "source": [
    "model.test(TEST_TARGET)"
   ]
  },
  {
   "cell_type": "code",
   "execution_count": 14,
   "metadata": {},
   "outputs": [
    {
     "data": {
      "text/plain": [
       "{'precision': 0.7425742574257426,\n",
       " 'recall': 0.872093023255814,\n",
       " 'f1score': 0.8021390374331551}"
      ]
     },
     "execution_count": 14,
     "metadata": {},
     "output_type": "execute_result"
    }
   ],
   "source": [
    "model.test_label(TEST_TARGET)['__label__game']"
   ]
  },
  {
   "cell_type": "code",
   "execution_count": 15,
   "metadata": {
    "scrolled": true
   },
   "outputs": [
    {
     "data": {
      "text/plain": [
       "{'precision': 0.7638888888888888,\n",
       " 'recall': 0.9166666666666666,\n",
       " 'f1score': 0.8333333333333334}"
      ]
     },
     "execution_count": 15,
     "metadata": {},
     "output_type": "execute_result"
    }
   ],
   "source": [
    "model.test_label(TEST_TARGET)['__label__animation']"
   ]
  },
  {
   "cell_type": "code",
   "execution_count": 16,
   "metadata": {},
   "outputs": [
    {
     "data": {
      "text/plain": [
       "{'precision': 0.6666666666666666,\n",
       " 'recall': 0.3508771929824561,\n",
       " 'f1score': 0.45977011494252873}"
      ]
     },
     "execution_count": 16,
     "metadata": {},
     "output_type": "execute_result"
    }
   ],
   "source": [
    "model.test_label(TEST_TARGET)['__label__other']"
   ]
  },
  {
   "cell_type": "code",
   "execution_count": null,
   "metadata": {},
   "outputs": [],
   "source": []
  },
  {
   "cell_type": "markdown",
   "metadata": {},
   "source": [
    "### load model (minn: 2, maxn: 10)"
   ]
  },
  {
   "cell_type": "code",
   "execution_count": 42,
   "metadata": {},
   "outputs": [],
   "source": [
    "model_target = os.path.abspath(os.path.join(MODEL, 'classification_500000_minn_2_maxn_10.bin'))"
   ]
  },
  {
   "cell_type": "code",
   "execution_count": 43,
   "metadata": {},
   "outputs": [
    {
     "name": "stderr",
     "output_type": "stream",
     "text": [
      "\n"
     ]
    }
   ],
   "source": [
    "model = fasttext.load_model(model_target)"
   ]
  },
  {
   "cell_type": "markdown",
   "metadata": {},
   "source": [
    "### analyze"
   ]
  },
  {
   "cell_type": "code",
   "execution_count": 44,
   "metadata": {},
   "outputs": [
    {
     "data": {
      "text/plain": [
       "(203, 0.7389162561576355, 0.7389162561576355)"
      ]
     },
     "execution_count": 44,
     "metadata": {},
     "output_type": "execute_result"
    }
   ],
   "source": [
    "model.test(TEST_TARGET)"
   ]
  },
  {
   "cell_type": "code",
   "execution_count": 45,
   "metadata": {},
   "outputs": [
    {
     "data": {
      "text/plain": [
       "{'precision': 0.7956989247311828,\n",
       " 'recall': 0.8505747126436781,\n",
       " 'f1score': 0.8222222222222222}"
      ]
     },
     "execution_count": 45,
     "metadata": {},
     "output_type": "execute_result"
    }
   ],
   "source": [
    "model.test_label(TEST_TARGET)['__label__game']"
   ]
  },
  {
   "cell_type": "code",
   "execution_count": 46,
   "metadata": {
    "scrolled": true
   },
   "outputs": [
    {
     "data": {
      "text/plain": [
       "{'precision': 0.782608695652174,\n",
       " 'recall': 0.8571428571428571,\n",
       " 'f1score': 0.8181818181818182}"
      ]
     },
     "execution_count": 46,
     "metadata": {},
     "output_type": "execute_result"
    }
   ],
   "source": [
    "model.test_label(TEST_TARGET)['__label__animation']"
   ]
  },
  {
   "cell_type": "code",
   "execution_count": 47,
   "metadata": {},
   "outputs": [
    {
     "data": {
      "text/plain": [
       "{'precision': 0.5365853658536586,\n",
       " 'recall': 0.41509433962264153,\n",
       " 'f1score': 0.46808510638297873}"
      ]
     },
     "execution_count": 47,
     "metadata": {},
     "output_type": "execute_result"
    }
   ],
   "source": [
    "model.test_label(TEST_TARGET)['__label__other']"
   ]
  },
  {
   "cell_type": "code",
   "execution_count": null,
   "metadata": {},
   "outputs": [],
   "source": []
  },
  {
   "cell_type": "markdown",
   "metadata": {},
   "source": [
    "### visualize embeddings"
   ]
  },
  {
   "cell_type": "code",
   "execution_count": null,
   "metadata": {},
   "outputs": [],
   "source": []
  }
 ],
 "metadata": {
  "kernelspec": {
   "display_name": "Python 3",
   "language": "python",
   "name": "python3"
  },
  "language_info": {
   "codemirror_mode": {
    "name": "ipython",
    "version": 3
   },
   "file_extension": ".py",
   "mimetype": "text/x-python",
   "name": "python",
   "nbconvert_exporter": "python",
   "pygments_lexer": "ipython3",
   "version": "3.6.4"
  }
 },
 "nbformat": 4,
 "nbformat_minor": 2
}
