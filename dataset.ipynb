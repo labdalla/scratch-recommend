{
 "cells": [
  {
   "cell_type": "markdown",
   "metadata": {},
   "source": [
    "# dataset\n",
    "Gather project IDs for vectorization task."
   ]
  },
  {
   "cell_type": "markdown",
   "metadata": {},
   "source": [
    "### Import Dependencies"
   ]
  },
  {
   "cell_type": "code",
   "execution_count": 38,
   "metadata": {},
   "outputs": [],
   "source": [
    "!pip install -q --no-cache-dir mysqlclient\n",
    "\n",
    "import os\n",
    "import pandas as pd\n",
    "import numpy as np\n",
    "import sqlalchemy as db"
   ]
  },
  {
   "cell_type": "markdown",
   "metadata": {},
   "source": [
    "### Settings & Configuration"
   ]
  },
  {
   "cell_type": "code",
   "execution_count": 39,
   "metadata": {},
   "outputs": [],
   "source": [
    "DB_HOST = 'rdb0.scratch.mit.edu'\n",
    "DB_PORT = 3306\n",
    "DB_USER = 'haproxy_rr'\n",
    "DB_PASS = 'SHlv8t1Ta1g0wjfuBbOZ'\n",
    "DB_BASE = 'scratchr2_final'\n",
    "DB_CONN = f'mysql+mysqldb://{DB_USER}:{DB_PASS}@{DB_HOST}:{DB_PORT}/{DB_BASE}'"
   ]
  },
  {
   "cell_type": "code",
   "execution_count": 73,
   "metadata": {},
   "outputs": [],
   "source": [
    "# Sample size \n",
    "SAMPLE_SIZE = 600000\n",
    "\n",
    "# Dataset paths\n",
    "DATASET = './dataset'\n",
    "IDS_TARGET = os.path.join(DATASET, 'project_ids') # add the .csv later.\n",
    "ORIGINAL_TARGET = os.path.abspath(os.path.join(DATASET, 'dataset_unprocessed.txt'))\n",
    "DATASET_TARGET = os.path.abspath(os.path.join(DATASET, 'dataset.txt'))\n",
    "TRAIN_TARGET = os.path.abspath(os.path.join(DATASET, 'train')) # add the .txt later."
   ]
  },
  {
   "cell_type": "markdown",
   "metadata": {},
   "source": [
    "### Connect to Database"
   ]
  },
  {
   "cell_type": "code",
   "execution_count": 41,
   "metadata": {},
   "outputs": [],
   "source": [
    "engine = db.create_engine(DB_CONN)\n",
    "connection = engine.connect()"
   ]
  },
  {
   "cell_type": "code",
   "execution_count": 42,
   "metadata": {},
   "outputs": [],
   "source": [
    "def query(q, **kwargs):\n",
    "    q = db.text(q)\n",
    "    return pd.read_sql(q, connection, coerce_float=False, params=kwargs)"
   ]
  },
  {
   "cell_type": "markdown",
   "metadata": {},
   "source": [
    "----"
   ]
  },
  {
   "cell_type": "markdown",
   "metadata": {},
   "source": [
    "## Get Random Sample of Project IDs\n",
    "Get a random sample of *shared* project IDs."
   ]
  },
  {
   "cell_type": "code",
   "execution_count": 52,
   "metadata": {},
   "outputs": [],
   "source": [
    "def get_projects(limit):\n",
    "    q = f'SELECT id FROM projects_project WHERE isPublished = TRUE ORDER BY RAND() LIMIT :limit'\n",
    "    return query(q, limit=limit)\n",
    "\n",
    "df = get_projects(SAMPLE_SIZE)"
   ]
  },
  {
   "cell_type": "code",
   "execution_count": 44,
   "metadata": {},
   "outputs": [],
   "source": [
    "df = df.set_index('id')"
   ]
  },
  {
   "cell_type": "markdown",
   "metadata": {},
   "source": [
    "----"
   ]
  },
  {
   "cell_type": "markdown",
   "metadata": {},
   "source": [
    "### Inspect"
   ]
  },
  {
   "cell_type": "code",
   "execution_count": 53,
   "metadata": {},
   "outputs": [
    {
     "data": {
      "text/plain": [
       "600000"
      ]
     },
     "execution_count": 53,
     "metadata": {},
     "output_type": "execute_result"
    }
   ],
   "source": [
    "len(df)"
   ]
  },
  {
   "cell_type": "code",
   "execution_count": 54,
   "metadata": {},
   "outputs": [
    {
     "data": {
      "text/html": [
       "<div>\n",
       "<style scoped>\n",
       "    .dataframe tbody tr th:only-of-type {\n",
       "        vertical-align: middle;\n",
       "    }\n",
       "\n",
       "    .dataframe tbody tr th {\n",
       "        vertical-align: top;\n",
       "    }\n",
       "\n",
       "    .dataframe thead th {\n",
       "        text-align: right;\n",
       "    }\n",
       "</style>\n",
       "<table border=\"1\" class=\"dataframe\">\n",
       "  <thead>\n",
       "    <tr style=\"text-align: right;\">\n",
       "      <th></th>\n",
       "      <th>id</th>\n",
       "    </tr>\n",
       "  </thead>\n",
       "  <tbody>\n",
       "    <tr>\n",
       "      <td>368385</td>\n",
       "      <td>275171007</td>\n",
       "    </tr>\n",
       "    <tr>\n",
       "      <td>484862</td>\n",
       "      <td>110850</td>\n",
       "    </tr>\n",
       "    <tr>\n",
       "      <td>273553</td>\n",
       "      <td>154241579</td>\n",
       "    </tr>\n",
       "    <tr>\n",
       "      <td>452574</td>\n",
       "      <td>302477864</td>\n",
       "    </tr>\n",
       "    <tr>\n",
       "      <td>111830</td>\n",
       "      <td>35465474</td>\n",
       "    </tr>\n",
       "  </tbody>\n",
       "</table>\n",
       "</div>"
      ],
      "text/plain": [
       "               id\n",
       "368385  275171007\n",
       "484862     110850\n",
       "273553  154241579\n",
       "452574  302477864\n",
       "111830   35465474"
      ]
     },
     "execution_count": 54,
     "metadata": {},
     "output_type": "execute_result"
    }
   ],
   "source": [
    "df.sample(n=5)"
   ]
  },
  {
   "cell_type": "markdown",
   "metadata": {},
   "source": [
    "----"
   ]
  },
  {
   "cell_type": "markdown",
   "metadata": {},
   "source": [
    "### split into multiple batches"
   ]
  },
  {
   "cell_type": "code",
   "execution_count": 69,
   "metadata": {},
   "outputs": [
    {
     "name": "stdout",
     "output_type": "stream",
     "text": [
      "10\n"
     ]
    },
    {
     "data": {
      "text/html": [
       "<div>\n",
       "<style scoped>\n",
       "    .dataframe tbody tr th:only-of-type {\n",
       "        vertical-align: middle;\n",
       "    }\n",
       "\n",
       "    .dataframe tbody tr th {\n",
       "        vertical-align: top;\n",
       "    }\n",
       "\n",
       "    .dataframe thead th {\n",
       "        text-align: right;\n",
       "    }\n",
       "</style>\n",
       "<table border=\"1\" class=\"dataframe\">\n",
       "  <thead>\n",
       "    <tr style=\"text-align: right;\">\n",
       "      <th></th>\n",
       "    </tr>\n",
       "    <tr>\n",
       "      <th>id</th>\n",
       "    </tr>\n",
       "  </thead>\n",
       "  <tbody>\n",
       "    <tr>\n",
       "      <td>1331995</td>\n",
       "    </tr>\n",
       "    <tr>\n",
       "      <td>272818763</td>\n",
       "    </tr>\n",
       "    <tr>\n",
       "      <td>321764747</td>\n",
       "    </tr>\n",
       "    <tr>\n",
       "      <td>64429924</td>\n",
       "    </tr>\n",
       "    <tr>\n",
       "      <td>88380991</td>\n",
       "    </tr>\n",
       "    <tr>\n",
       "      <td>...</td>\n",
       "    </tr>\n",
       "    <tr>\n",
       "      <td>256213757</td>\n",
       "    </tr>\n",
       "    <tr>\n",
       "      <td>184332448</td>\n",
       "    </tr>\n",
       "    <tr>\n",
       "      <td>181258045</td>\n",
       "    </tr>\n",
       "    <tr>\n",
       "      <td>218430041</td>\n",
       "    </tr>\n",
       "    <tr>\n",
       "      <td>186654911</td>\n",
       "    </tr>\n",
       "  </tbody>\n",
       "</table>\n",
       "<p>60000 rows × 0 columns</p>\n",
       "</div>"
      ],
      "text/plain": [
       "Empty DataFrame\n",
       "Columns: []\n",
       "Index: [1331995, 272818763, 321764747, 64429924, 88380991, 287147291, 159246460, 223154584, 170001536, 88454635, 1928771, 281221274, 300613492, 98820814, 81705634, 295588477, 295443080, 60898128, 273940382, 233009360, 18193686, 315006667, 314087530, 226256724, 60406388, 273901714, 267140054, 146077284, 105961694, 132155890, 234016060, 322708423, 169078018, 180204201, 190892456, 240506313, 147899174, 233510999, 100315074, 321701153, 3137228, 253420713, 253617849, 210758456, 232030415, 22046543, 274076001, 135711182, 258276908, 300276686, 109705340, 68654578, 155537133, 254227380, 2812664, 82763608, 68099732, 109418949, 117572427, 1013680, 2704057, 277023554, 234558480, 146407708, 23006654, 56681118, 304950563, 214217832, 197814413, 177452020, 170767523, 250422086, 71786142, 322264316, 328375504, 280850717, 111640101, 34150020, 230928615, 15661703, 319129869, 272995191, 256660413, 11945295, 232910680, 28439078, 322839578, 262321753, 170965726, 259539739, 272514776, 274127144, 131233128, 31327642, 96367686, 206743987, 170813741, 1180952, 296843957, 329137021, ...]\n",
       "\n",
       "[60000 rows x 0 columns]"
      ]
     },
     "metadata": {},
     "output_type": "display_data"
    }
   ],
   "source": [
    "dataframes = []\n",
    "step = 60000\n",
    "start = 0\n",
    "end = 60000\n",
    "for i in range(1,11):\n",
    "    dataframe = df.iloc[start:end]\n",
    "    start = end # since splicing is non-inclusive of last index\n",
    "    end = (i+1)*step\n",
    "    dataframe = dataframe.set_index('id')\n",
    "    dataframes.append(dataframe)\n",
    "    \n",
    "print(len(dataframes))\n",
    "display(dataframes[9])"
   ]
  },
  {
   "cell_type": "markdown",
   "metadata": {},
   "source": [
    "### export batches"
   ]
  },
  {
   "cell_type": "code",
   "execution_count": 75,
   "metadata": {},
   "outputs": [],
   "source": [
    "for i in range(len(dataframes)):\n",
    "    dataframe = dataframes[i]\n",
    "    target = IDS_TARGET + \"_\" + str((i+1)) + \".csv\"\n",
    "    dataframe.to_csv(target)"
   ]
  },
  {
   "cell_type": "code",
   "execution_count": 76,
   "metadata": {},
   "outputs": [
    {
     "name": "stdout",
     "output_type": "stream",
     "text": [
      "60001 ./dataset/project_ids_1.csv\n",
      "60001 ./dataset/project_ids_2.csv\n",
      "60001 ./dataset/project_ids_3.csv\n",
      "60001 ./dataset/project_ids_4.csv\n",
      "60001 ./dataset/project_ids_5.csv\n",
      "60001 ./dataset/project_ids_6.csv\n",
      "60001 ./dataset/project_ids_7.csv\n",
      "60001 ./dataset/project_ids_8.csv\n",
      "60001 ./dataset/project_ids_9.csv\n",
      "60001 ./dataset/project_ids_10.csv\n"
     ]
    }
   ],
   "source": [
    "for i in range(len(dataframes)):\n",
    "    target = IDS_TARGET + \"_\" + str((i+1)) + \".csv\"\n",
    "    !wc -l {target}"
   ]
  },
  {
   "cell_type": "code",
   "execution_count": 82,
   "metadata": {},
   "outputs": [],
   "source": [
    "# first = 1\n",
    "# second = 4\n",
    "# target_1 = IDS_TARGET + \"_\" + str(first) + \".csv\"\n",
    "# target_2 = IDS_TARGET + \"_\" + str(second) + \".csv\"\n",
    "# !diff {target_1} {target_2}"
   ]
  },
  {
   "cell_type": "markdown",
   "metadata": {},
   "source": [
    "----"
   ]
  },
  {
   "cell_type": "markdown",
   "metadata": {},
   "source": [
    "## Extract Datasets of Different Sample Sizes"
   ]
  },
  {
   "cell_type": "markdown",
   "metadata": {},
   "source": [
    "### clean and examine dataset\n",
    "Clean the dataset by removing empty lines, examine text file, clean the resulting dataframe from empty / NaN rows, examine the resulting dataframe."
   ]
  },
  {
   "cell_type": "code",
   "execution_count": 26,
   "metadata": {},
   "outputs": [],
   "source": [
    "# read in dataset\n",
    "with open(ORIGINAL_TARGET, \"r\") as f:\n",
    "    lines = f.readlines()\n",
    "\n",
    "# remove empty lines and\n",
    "# write to new .txt file\n",
    "with open(DATASET_TARGET, \"w+\") as f:\n",
    "    lines = filter(str.strip, lines)\n",
    "    f.writelines(lines)"
   ]
  },
  {
   "cell_type": "code",
   "execution_count": 27,
   "metadata": {},
   "outputs": [
    {
     "name": "stdout",
     "output_type": "stream",
     "text": [
      "7889 /home/jovyan/shared/lena/dataset/dataset.txt\r\n"
     ]
    }
   ],
   "source": [
    "!wc -l {DATASET_TARGET}"
   ]
  },
  {
   "cell_type": "code",
   "execution_count": 28,
   "metadata": {
    "scrolled": false
   },
   "outputs": [
    {
     "name": "stdout",
     "output_type": "stream",
     "text": [
      "_STARTSTACK_ event_whenkeypressed _MENU_ menu_option _MENU_ _NEXT_ pen_clear _NEXT_ pen_penDown _NEXT_ pen_setPenColorToColor _STARTINPUT_ numtext_input _ENDINPUT_ _NEXT_ procedures_call _ENDSTACK_ _STARTSTACK_ procedures_definition _NEXT_ control_repeat _STARTINPUT_ numtext_input _ENDINPUT_ _STARTNEST_ motion_movesteps _STARTINPUT_ numtext_input _ENDINPUT_ _NEXT_ motion_turnright _STARTINPUT_ numtext_input _ENDINPUT_ _NEXT_ control_wait _STARTINPUT_ numtext_input _ENDINPUT_ _ENDNEST_ _ENDSTACK_ _STARTSTACK_ event_whenkeypressed _MENU_ menu_option _MENU_ _ENDSTACK_ _STARTSTACK_ event_whenkeypressed _MENU_ menu_option _MENU_ _NEXT_ pen_clear _NEXT_ pen_penDown _NEXT_ pen_setPenColorToColor _STARTINPUT_ numtext_input _ENDINPUT_ _NEXT_ procedures_call _ENDSTACK_ _STARTSTACK_ procedures_definition _NEXT_ control_repeat _STARTINPUT_ numtext_input _ENDINPUT_ _STARTNEST_ motion_movesteps _STARTINPUT_ numtext_input _ENDINPUT_ _NEXT_ motion_turnright _STARTINPUT_ numtext_input _ENDINPUT_ _ENDNEST_ _ENDSTACK_ _STARTSTACK_ event_whenkeypressed _MENU_ menu_option _MENU_ _NEXT_ pen_clear _NEXT_ pen_penDown _NEXT_ pen_setPenColorToColor _STARTINPUT_ numtext_input _ENDINPUT_ _NEXT_ procedures_call _ENDSTACK_ _STARTSTACK_ procedures_definition _NEXT_ control_repeat _STARTINPUT_ numtext_input _ENDINPUT_ _STARTNEST_ motion_movesteps _STARTINPUT_ numtext_input _ENDINPUT_ _NEXT_ motion_turnright _STARTINPUT_ numtext_input _ENDINPUT_ _ENDNEST_ _ENDSTACK_ _STARTSTACK_ procedures_definition _NEXT_ control_repeat _STARTINPUT_ numtext_input _ENDINPUT_ _STARTNEST_ motion_movesteps _STARTINPUT_ numtext_input _ENDINPUT_ _NEXT_ motion_turnright _STARTINPUT_ numtext_input _ENDINPUT_ _ENDNEST_ _ENDSTACK_ _STARTSTACK_ event_whenkeypressed _MENU_ menu_option _MENU_ _NEXT_ pen_clear _NEXT_ pen_penDown _NEXT_ pen_setPenColorToColor _STARTINPUT_ numtext_input _ENDINPUT_ _NEXT_ procedures_call _ENDSTACK_ _STARTSTACK_ event_whenkeypressed _MENU_ menu_option _MENU_ _NEXT_ pen_clear _NEXT_ pen_penDown _NEXT_ pen_setPenColorToColor _STARTINPUT_ numtext_input _ENDINPUT_ _NEXT_ procedures_call _ENDSTACK_ _STARTSTACK_ event_whenkeypressed _MENU_ menu_option _MENU_ _NEXT_ pen_clear _NEXT_ pen_penDown _NEXT_ pen_setPenColorToColor _STARTINPUT_ numtext_input _ENDINPUT_ _NEXT_ procedures_call _ENDSTACK_ _STARTSTACK_ procedures_definition _NEXT_ control_repeat _STARTINPUT_ numtext_input _ENDINPUT_ _STARTNEST_ motion_movesteps _STARTINPUT_ numtext_input _ENDINPUT_ _NEXT_ motion_turnright _STARTINPUT_ numtext_input _ENDINPUT_ _ENDNEST_ _ENDSTACK_ _STARTSTACK_ procedures_definition _NEXT_ motion_movesteps _STARTINPUT_ numtext_input _ENDINPUT_ _NEXT_ motion_turnright _STARTINPUT_ numtext_input _ENDINPUT_ _NEXT_ motion_movesteps _STARTINPUT_ numtext_input _ENDINPUT_ _NEXT_ motion_turnright _STARTINPUT_ numtext_input _ENDINPUT_ _NEXT_ motion_movesteps _STARTINPUT_ numtext_input _ENDINPUT_ _NEXT_ motion_turnright _STARTINPUT_ numtext_input _ENDINPUT_ _NEXT_ motion_movesteps _STARTINPUT_ numtext_input _ENDINPUT_ _NEXT_ motion_turnright _STARTINPUT_ numtext_input _ENDINPUT_ _ENDSTACK_\r\n",
      "_STARTSTACK_ event_whenflagclicked _NEXT_ data_setvariableto _MENU_ _VAR_ _MENU_ _STARTINPUT_ numtext_input _ENDINPUT_ _ENDSTACK_ _STARTSTACK_ event_whenflagclicked _NEXT_ looks_setsizeto _STARTINPUT_ numtext_input _ENDINPUT_ _NEXT_ looks_gotofrontback _MENU_ menu_option _MENU_ _NEXT_ motion_gotoxy _STARTINPUT_ numtext_input _ENDINPUT_ _STARTINPUT_ numtext_input _ENDINPUT_ _NEXT_ looks_goforwardbackwardlayers _MENU_ menu_option _MENU_ _STARTINPUT_ numtext_input _ENDINPUT_ _ENDSTACK_ _STARTSTACK_ event_whenflagclicked _NEXT_ control_forever _STARTNEST_ control_if _STARTINPUT_ sensing_keypressed _MENU_ menu_option _MENU_ _ENDINPUT_ _STARTNEST_ motion_setrotationstyle _MENU_ menu_option _MENU_ _NEXT_ motion_pointindirection _STARTINPUT_ numtext_input _ENDINPUT_ _NEXT_ motion_changexby _STARTINPUT_ numtext_input _ENDINPUT_ _NEXT_ looks_nextcostume _ENDNEST_ _NEXT_ control_if _STARTINPUT_ sensing_keypressed _MENU_ menu_option _MENU_ _ENDINPUT_ _STARTNEST_ motion_setrotationstyle _MENU_ menu_option _MENU_ _NEXT_ motion_pointindirection _STARTINPUT_ numtext_input _ENDINPUT_ _NEXT_ motion_changexby _STARTINPUT_ numtext_input _ENDINPUT_ _NEXT_ looks_nextcostume _ENDNEST_ _NEXT_ control_if _STARTINPUT_ operator_not _STARTINPUT_ sensing_touchingobject _MENU_ menu_option _MENU_ _ENDINPUT_ _ENDINPUT_ _STARTNEST_ motion_changeyby _STARTINPUT_ numtext_input _ENDINPUT_ _ENDNEST_ _NEXT_ control_if _STARTINPUT_ sensing_touchingobject _MENU_ menu_option _MENU_ _ENDINPUT_ _STARTNEST_ motion_changeyby _STARTINPUT_ numtext_input _ENDINPUT_ _ENDNEST_ _ENDNEST_ _ENDSTACK_ _STARTSTACK_ event_whenflagclicked _NEXT_ control_wait _STARTINPUT_ numtext_input _ENDINPUT_ _NEXT_ control_forever _STARTNEST_ control_if _STARTINPUT_ sensing_touchingobject _MENU_ menu_option _MENU_ _ENDINPUT_ _STARTNEST_ data_changevariableby _MENU_ _VAR_ _MENU_ _STARTINPUT_ numtext_input _ENDINPUT_ _NEXT_ control_wait _STARTINPUT_ numtext_input _ENDINPUT_ _NEXT_ control_if _STARTINPUT_ operator_equals _STARTINPUT_ _VAR_ _ENDINPUT_ _STARTINPUT_ numtext_input _ENDINPUT_ _ENDINPUT_ _STARTNEST_ event_broadcast _MENU_ menu_option _MENU_ _NEXT_ motion_gotoxy _STARTINPUT_ numtext_input _ENDINPUT_ _STARTINPUT_ numtext_input _ENDINPUT_ _NEXT_ motion_setrotationstyle _MENU_ menu_option _MENU_ _NEXT_ motion_pointindirection _STARTINPUT_ numtext_input _ENDINPUT_ _ENDNEST_ _NEXT_ control_if _STARTINPUT_ operator_equals _STARTINPUT_ _VAR_ _ENDINPUT_ _STARTINPUT_ numtext_input _ENDINPUT_ _ENDINPUT_ _STARTNEST_ event_broadcast _MENU_ menu_option _MENU_ _NEXT_ motion_gotoxy _STARTINPUT_ numtext_input _ENDINPUT_ _STARTINPUT_ numtext_input _ENDINPUT_ _NEXT_ motion_setrotationstyle _MENU_ menu_option _MENU_ _NEXT_ motion_pointindirection _STARTINPUT_ numtext_input _ENDINPUT_ _ENDNEST_ _NEXT_ control_if _STARTINPUT_ operator_equals _STARTINPUT_ _VAR_ _ENDINPUT_ _STARTINPUT_ numtext_input _ENDINPUT_ _ENDINPUT_ _STARTNEST_ event_broadcast _MENU_ menu_option _MENU_ _NEXT_ motion_gotoxy _STARTINPUT_ numtext_input _ENDINPUT_ _STARTINPUT_ numtext_input _ENDINPUT_ _NEXT_ motion_setrotationstyle _MENU_ menu_option _MENU_ _NEXT_ motion_pointindirection _STARTINPUT_ numtext_input _ENDINPUT_ _ENDNEST_ _NEXT_ control_if _STARTINPUT_ operator_equals _STARTINPUT_ _VAR_ _ENDINPUT_ _STARTINPUT_ numtext_input _ENDINPUT_ _ENDINPUT_ _STARTNEST_ event_broadcast _MENU_ menu_option _MENU_ _NEXT_ motion_gotoxy _STARTINPUT_ numtext_input _ENDINPUT_ _STARTINPUT_ numtext_input _ENDINPUT_ _NEXT_ motion_setrotationstyle _MENU_ menu_option _MENU_ _NEXT_ motion_pointindirection _STARTINPUT_ numtext_input _ENDINPUT_ _ENDNEST_ _NEXT_ control_if _STARTINPUT_ operator_equals _STARTINPUT_ _VAR_ _ENDINPUT_ _STARTINPUT_ numtext_input _ENDINPUT_ _ENDINPUT_ _STARTNEST_ event_broadcast _MENU_ menu_option _MENU_ _NEXT_ motion_gotoxy _STARTINPUT_ numtext_input _ENDINPUT_ _STARTINPUT_ numtext_input _ENDINPUT_ _NEXT_ motion_setrotationstyle _MENU_ menu_option _MENU_ _NEXT_ motion_pointindirection _STARTINPUT_ numtext_input _ENDINPUT_ _ENDNEST_ _ENDNEST_ _ENDNEST_ _ENDSTACK_ _STARTSTACK_ event_whenflagclicked _NEXT_ control_forever _STARTNEST_ control_if _STARTINPUT_ operator_and _STARTINPUT_ sensing_keypressed _MENU_ menu_option _MENU_ _ENDINPUT_ _STARTINPUT_ sensing_touchingobject _MENU_ menu_option _MENU_ _ENDINPUT_ _ENDINPUT_ _STARTNEST_ control_repeat _STARTINPUT_ numtext_input _ENDINPUT_ _STARTNEST_ motion_changeyby _STARTINPUT_ numtext_input _ENDINPUT_ _ENDNEST_ _ENDNEST_ _ENDNEST_ _ENDSTACK_ _STARTSTACK_ event_whenflagclicked _NEXT_ data_setvariableto _MENU_ _VAR_ _MENU_ _STARTINPUT_ numtext_input _ENDINPUT_ _NEXT_ control_if _STARTINPUT_ sensing_touchingobject _MENU_ menu_option _MENU_ _ENDINPUT_ _STARTNEST_ data_changevariableby _MENU_ _VAR_ _MENU_ _STARTINPUT_ numtext_input _ENDINPUT_ _NEXT_ control_wait _STARTINPUT_ numtext_input _ENDINPUT_ _NEXT_ sound_playuntildone _MENU_ menu_option _MENU_ _NEXT_ looks_setsizeto _STARTINPUT_ numtext_input _ENDINPUT_ _NEXT_ control_wait _STARTINPUT_ numtext_input _ENDINPUT_ _NEXT_ looks_setsizeto _STARTINPUT_ numtext_input _ENDINPUT_ _NEXT_ control_wait _STARTINPUT_ numtext_input _ENDINPUT_ _NEXT_ looks_setsizeto _STARTINPUT_ numtext_input _ENDINPUT_ _NEXT_ control_wait _STARTINPUT_ numtext_input _ENDINPUT_ _NEXT_ looks_setsizeto _STARTINPUT_ numtext_input _ENDINPUT_ _NEXT_ control_wait _STARTINPUT_ numtext_input _ENDINPUT_ _NEXT_ looks_setsizeto _STARTINPUT_ numtext_input _ENDINPUT_ _NEXT_ control_wait _STARTINPUT_ numtext_input _ENDINPUT_ _NEXT_ control_if _STARTINPUT_ operator_or _STARTINPUT_ sensing_touchingobject _MENU_ menu_option _MENU_ _ENDINPUT_ _STARTINPUT_ sensing_touchingobject _MENU_ menu_option _MENU_ _ENDINPUT_ _ENDINPUT_ _STARTNEST_ data_changevariableby _MENU_ _VAR_ _MENU_ _STARTINPUT_ numtext_input _ENDINPUT_ _NEXT_ control_wait _STARTINPUT_ numtext_input _ENDINPUT_ _NEXT_ sound_playuntildone _MENU_ menu_option _MENU_ _NEXT_ looks_setsizeto _STARTINPUT_ numtext_input _ENDINPUT_ _NEXT_ control_wait _STARTINPUT_ numtext_input _ENDINPUT_ _NEXT_ looks_setsizeto _STARTINPUT_ numtext_input _ENDINPUT_ _NEXT_ control_wait _STARTINPUT_ numtext_input _ENDINPUT_ _NEXT_ looks_setsizeto _STARTINPUT_ numtext_input _ENDINPUT_ _ENDNEST_ _ENDNEST_ _ENDSTACK_ _STARTSTACK_ event_whenflagclicked _NEXT_ control_forever _STARTNEST_ control_if _STARTINPUT_ sensing_touchingobject _MENU_ menu_option _MENU_ _ENDINPUT_ _STARTNEST_ data_changevariableby _MENU_ _VAR_ _MENU_ _STARTINPUT_ numtext_input _ENDINPUT_ _NEXT_ event_broadcast _MENU_ menu_option _MENU_ _ENDNEST_ _ENDNEST_ _ENDSTACK_ _STARTSTACK_ event_whenflagclicked _NEXT_ looks_switchcostumeto _MENU_ menu_option _MENU_ _ENDSTACK_ _STARTSTACK_ event_whenflagclicked _NEXT_ motion_gotoxy _STARTINPUT_ numtext_input _ENDINPUT_ _STARTINPUT_ numtext_input _ENDINPUT_ _NEXT_ looks_show _NEXT_ looks_goforwardbackwardlayers _MENU_ menu_option _MENU_ _STARTINPUT_ numtext_input _ENDINPUT_ _ENDSTACK_ _STARTSTACK_ event_whenbroadcastreceived _MENU_ menu_option _MENU_ _NEXT_ looks_nextcostume _ENDSTACK_ _STARTSTACK_ event_whenflagclicked _NEXT_ looks_hide _NEXT_ control_wait _STARTINPUT_ numtext_input _ENDINPUT_ _NEXT_ looks_switchcostumeto _MENU_ menu_option _MENU_ _NEXT_ motion_gotoxy _STARTINPUT_ numtext_input _ENDINPUT_ _STARTINPUT_ numtext_input _ENDINPUT_ _NEXT_ looks_show _NEXT_ looks_goforwardbackwardlayers _MENU_ menu_option _MENU_ _STARTINPUT_ numtext_input _ENDINPUT_ _ENDSTACK_ _STARTSTACK_ event_whenbroadcastreceived _MENU_ menu_option _MENU_ _NEXT_ control_if _STARTINPUT_ operator_equals _STARTINPUT_ _VAR_ _ENDINPUT_ _STARTINPUT_ numtext_input _ENDINPUT_ _ENDINPUT_ _STARTNEST_ motion_gotoxy _STARTINPUT_ numtext_input _ENDINPUT_ _STARTINPUT_ numtext_input _ENDINPUT_ _NEXT_ looks_switchcostumeto _MENU_ menu_option _MENU_ _ENDNEST_ _NEXT_ control_if _STARTINPUT_ operator_equals _STARTINPUT_ _VAR_ _ENDINPUT_ _STARTINPUT_ numtext_input _ENDINPUT_ _ENDINPUT_ _STARTNEST_ motion_gotoxy _STARTINPUT_ numtext_input _ENDINPUT_ _STARTINPUT_ numtext_input _ENDINPUT_ _NEXT_ looks_switchcostumeto _MENU_ menu_option _MENU_ _ENDNEST_ _NEXT_ control_if _STARTINPUT_ operator_equals _STARTINPUT_ _VAR_ _ENDINPUT_ _STARTINPUT_ numtext_input _ENDINPUT_ _ENDINPUT_ _STARTNEST_ motion_gotoxy _STARTINPUT_ numtext_input _ENDINPUT_ _STARTINPUT_ numtext_input _ENDINPUT_ _NEXT_ looks_switchcostumeto _MENU_ menu_option _MENU_ _ENDNEST_ _NEXT_ control_if _STARTINPUT_ operator_equals _STARTINPUT_ _VAR_ _ENDINPUT_ _STARTINPUT_ numtext_input _ENDINPUT_ _ENDINPUT_ _STARTNEST_ motion_gotoxy _STARTINPUT_ numtext_input _ENDINPUT_ _STARTINPUT_ numtext_input _ENDINPUT_ _NEXT_ looks_switchcostumeto _MENU_ menu_option _MENU_ _ENDNEST_ _NEXT_ control_if _STARTINPUT_ operator_equals _STARTINPUT_ _VAR_ _ENDINPUT_ _STARTINPUT_ numtext_input _ENDINPUT_ _ENDINPUT_ _STARTNEST_ motion_gotoxy _STARTINPUT_ numtext_input _ENDINPUT_ _STARTINPUT_ numtext_input _ENDINPUT_ _NEXT_ looks_switchcostumeto _MENU_ menu_option _MENU_ _ENDNEST_ _ENDSTACK_ _STARTSTACK_ event_whenflagclicked _NEXT_ looks_hide _NEXT_ control_wait _STARTINPUT_ numtext_input _ENDINPUT_ _NEXT_ motion_gotoxy _STARTINPUT_ numtext_input _ENDINPUT_ _STARTINPUT_ numtext_input _ENDINPUT_ _NEXT_ looks_show _NEXT_ looks_goforwardbackwardlayers _MENU_ menu_option _MENU_ _STARTINPUT_ numtext_input _ENDINPUT_ _ENDSTACK_ _STARTSTACK_ event_whenflagclicked _NEXT_ looks_hide _ENDSTACK_ _STARTSTACK_ event_whenbroadcastreceived _MENU_ menu_option _MENU_ _NEXT_ looks_gotofrontback _MENU_ menu_option _MENU_ _NEXT_ looks_show _NEXT_ motion_gotoxy _STARTINPUT_ numtext_input _ENDINPUT_ _STARTINPUT_ numtext_input _ENDINPUT_ _NEXT_ control_forever _STARTNEST_ control_if_else _STARTINPUT_ operator_equals _STARTINPUT_ _VAR_ _ENDINPUT_ _STARTINPUT_ numtext_input _ENDINPUT_ _ENDINPUT_ _STARTNEST_ control_forever _STARTNEST_ motion_glidesecstoxy _STARTINPUT_ numtext_input _ENDINPUT_ _STARTINPUT_ numtext_input _ENDINPUT_ _STARTINPUT_ numtext_input _ENDINPUT_ _NEXT_ looks_nextcostume _NEXT_ motion_gotoxy _STARTINPUT_ numtext_input _ENDINPUT_ _STARTINPUT_ numtext_input _ENDINPUT_ _NEXT_ looks_nextcostume _ENDNEST_ _ENDNEST_ _STARTNEST_ looks_hide _ENDNEST_ _NEXT_ control_wait _STARTINPUT_ numtext_input _ENDINPUT_ _NEXT_ motion_gotoxy _STARTINPUT_ numtext_input _ENDINPUT_ _STARTINPUT_ numtext_input _ENDINPUT_ _NEXT_ control_if_else _STARTINPUT_ operator_equals _STARTINPUT_ _VAR_ _ENDINPUT_ _STARTINPUT_ numtext_input _ENDINPUT_ _ENDINPUT_ _STARTNEST_ control_forever _STARTNEST_ motion_gotoxy _STARTINPUT_ numtext_input _ENDINPUT_ _STARTINPUT_ numtext_input _ENDINPUT_ _NEXT_ looks_nextcostume _ENDNEST_ _ENDNEST_ _STARTNEST_ looks_hide _ENDNEST_ _ENDNEST_ _ENDSTACK_ _STARTSTACK_ event_whenflagclicked _NEXT_ looks_hide _ENDSTACK_ _STARTSTACK_ event_whenflagclicked _NEXT_ data_setvariableto _MENU_ _VAR_ _MENU_ _STARTINPUT_ numtext_input _ENDINPUT_ _NEXT_ control_forever _STARTNEST_ control_if _STARTINPUT_ sensing_touchingobject _MENU_ menu_option _MENU_ _ENDINPUT_ _STARTNEST_ control_wait _STARTINPUT_ numtext_input _ENDINPUT_ _NEXT_ data_changevariableby _MENU_ _VAR_ _MENU_ _STARTINPUT_ numtext_input _ENDINPUT_ _NEXT_ control_wait _STARTINPUT_ numtext_input _ENDINPUT_ _NEXT_ sound_play _MENU_ menu_option _MENU_ _ENDNEST_ _ENDNEST_ _ENDSTACK_ _STARTSTACK_ event_whenbroadcastreceived _MENU_ menu_option _MENU_ _NEXT_ control_if_else _STARTINPUT_ operator_equals _STARTINPUT_ _VAR_ _ENDINPUT_ _STARTINPUT_ numtext_input _ENDINPUT_ _ENDINPUT_ _STARTNEST_ control_forever _STARTNEST_ motion_glidesecstoxy _STARTINPUT_ numtext_input _ENDINPUT_ _STARTINPUT_ operator_random _STARTINPUT_ numtext_input _ENDINPUT_ _STARTINPUT_ numtext_input _ENDINPUT_ _ENDINPUT_ _STARTINPUT_ operator_random _STARTINPUT_ numtext_input _ENDINPUT_ _STARTINPUT_ numtext_input _ENDINPUT_ _ENDINPUT_ _NEXT_ control_if _STARTINPUT_ sensing_touchingobject _MENU_ menu_option _MENU_ _ENDINPUT_ _STARTNEST_ looks_hide _NEXT_ looks_nextcostume _NEXT_ motion_gotoxy _STARTINPUT_ numtext_input _ENDINPUT_ _STARTINPUT_ numtext_input _ENDINPUT_ _NEXT_ control_wait _STARTINPUT_ numtext_input _ENDINPUT_ _NEXT_ looks_show _ENDNEST_ _ENDNEST_ _ENDNEST_ _STARTNEST_ looks_hide _ENDNEST_ _ENDSTACK_ _STARTSTACK_ event_whenflagclicked _NEXT_ looks_show _NEXT_ motion_gotoxy _STARTINPUT_ numtext_input _ENDINPUT_ _STARTINPUT_ numtext_input _ENDINPUT_ _NEXT_ control_repeat _STARTINPUT_ numtext_input _ENDINPUT_ _STARTNEST_ looks_hide _NEXT_ control_wait _STARTINPUT_ numtext_input _ENDINPUT_ _NEXT_ looks_show _NEXT_ control_wait _STARTINPUT_ numtext_input _ENDINPUT_ _ENDNEST_ _NEXT_ looks_hide _ENDSTACK_ _STARTSTACK_ event_whenbroadcastreceived _MENU_ menu_option _MENU_ _NEXT_ looks_gotofrontback _MENU_ menu_option _MENU_ _NEXT_ looks_show _NEXT_ motion_gotoxy _STARTINPUT_ numtext_input _ENDINPUT_ _STARTINPUT_ numtext_input _ENDINPUT_ _NEXT_ control_forever _STARTNEST_ control_if_else _STARTINPUT_ operator_equals _STARTINPUT_ _VAR_ _ENDINPUT_ _STARTINPUT_ numtext_input _ENDINPUT_ _ENDINPUT_ _STARTNEST_ control_forever _STARTNEST_ control_wait _STARTINPUT_ numtext_input _ENDINPUT_ _NEXT_ looks_nextcostume _ENDNEST_ _ENDNEST_ _STARTNEST_ looks_hide _ENDNEST_ _NEXT_ looks_goforwardbackwardlayers _MENU_ menu_option _MENU_ _STARTINPUT_ numtext_input _ENDINPUT_ _ENDNEST_ _ENDSTACK_ _STARTSTACK_ event_whenflagclicked _NEXT_ looks_hide _ENDSTACK_ _STARTSTACK_ event_whenbroadcastreceived _MENU_ menu_option _MENU_ _NEXT_ looks_gotofrontback _MENU_ menu_option _MENU_ _NEXT_ looks_show _NEXT_ motion_gotoxy _STARTINPUT_ numtext_input _ENDINPUT_ _STARTINPUT_ numtext_input _ENDINPUT_ _NEXT_ control_forever _STARTNEST_ control_if_else _STARTINPUT_ operator_equals _STARTINPUT_ _VAR_ _ENDINPUT_ _STARTINPUT_ numtext_input _ENDINPUT_ _ENDINPUT_ _STARTNEST_ control_forever _STARTNEST_ control_wait _STARTINPUT_ numtext_input _ENDINPUT_ _NEXT_ looks_nextcostume _ENDNEST_ _ENDNEST_ _STARTNEST_ looks_hide _ENDNEST_ _NEXT_ looks_goforwardbackwardlayers _MENU_ menu_option _MENU_ _STARTINPUT_ numtext_input _ENDINPUT_ _ENDNEST_ _ENDSTACK_ _STARTSTACK_ event_whenflagclicked _NEXT_ looks_hide _ENDSTACK_ _STARTSTACK_ event_whenbroadcastreceived _MENU_ menu_option _MENU_ _NEXT_ looks_hide _ENDSTACK_ _STARTSTACK_ event_whenbroadcastreceived _MENU_ menu_option _MENU_ _NEXT_ looks_gotofrontback _MENU_ menu_option _MENU_ _NEXT_ looks_show _NEXT_ motion_gotoxy _STARTINPUT_ numtext_input _ENDINPUT_ _STARTINPUT_ numtext_input _ENDINPUT_ _NEXT_ control_forever _STARTNEST_ control_if_else _STARTINPUT_ operator_equals _STARTINPUT_ _VAR_ _ENDINPUT_ _STARTINPUT_ numtext_input _ENDINPUT_ _ENDINPUT_ _STARTNEST_ control_forever _STARTNEST_ control_wait _STARTINPUT_ numtext_input _ENDINPUT_ _NEXT_ looks_nextcostume _ENDNEST_ _ENDNEST_ _STARTNEST_ looks_hide _ENDNEST_ _NEXT_ looks_goforwardbackwardlayers _MENU_ menu_option _MENU_ _STARTINPUT_ numtext_input _ENDINPUT_ _ENDNEST_ _ENDSTACK_ _STARTSTACK_ event_whenflagclicked _NEXT_ looks_hide _ENDSTACK_ _STARTSTACK_ event_whenbroadcastreceived _MENU_ menu_option _MENU_ _NEXT_ looks_hide _ENDSTACK_ _STARTSTACK_ event_whenbroadcastreceived _MENU_ menu_option _MENU_ _NEXT_ looks_gotofrontback _MENU_ menu_option _MENU_ _NEXT_ looks_show _NEXT_ motion_gotoxy _STARTINPUT_ numtext_input _ENDINPUT_ _STARTINPUT_ numtext_input _ENDINPUT_ _NEXT_ control_forever _STARTNEST_ control_if_else _STARTINPUT_ operator_equals _STARTINPUT_ _VAR_ _ENDINPUT_ _STARTINPUT_ numtext_input _ENDINPUT_ _ENDINPUT_ _STARTNEST_ control_forever _STARTNEST_ motion_glidesecstoxy _STARTINPUT_ numtext_input _ENDINPUT_ _STARTINPUT_ numtext_input _ENDINPUT_ _STARTINPUT_ numtext_input _ENDINPUT_ _NEXT_ control_wait _STARTINPUT_ numtext_input _ENDINPUT_ _NEXT_ motion_glidesecstoxy _STARTINPUT_ numtext_input _ENDINPUT_ _STARTINPUT_ numtext_input _ENDINPUT_ _STARTINPUT_ numtext_input _ENDINPUT_ _ENDNEST_ _ENDNEST_ _STARTNEST_ looks_hide _ENDNEST_ _ENDNEST_ _ENDSTACK_ _STARTSTACK_ event_whenflagclicked _NEXT_ looks_goforwardbackwardlayers _MENU_ menu_option _MENU_ _STARTINPUT_ numtext_input _ENDINPUT_ _NEXT_ looks_hide _NEXT_ looks_setsizeto _STARTINPUT_ numtext_input _ENDINPUT_ _ENDSTACK_ _STARTSTACK_ event_whenflagclicked _NEXT_ looks_switchcostumeto _MENU_ menu_option _MENU_ _NEXT_ motion_gotoxy _STARTINPUT_ numtext_input _ENDINPUT_ _STARTINPUT_ numtext_input _ENDINPUT_ _NEXT_ looks_gotofrontback _MENU_ menu_option _MENU_ _NEXT_ looks_setsizeto _STARTINPUT_ numtext_input _ENDINPUT_ _ENDSTACK_ _STARTSTACK_ event_whenflagclicked _NEXT_ control_forever _STARTNEST_ control_if _STARTINPUT_ operator_equals _STARTINPUT_ _VAR_ _ENDINPUT_ _STARTINPUT_ numtext_input _ENDINPUT_ _ENDINPUT_ _STARTNEST_ looks_switchcostumeto _MENU_ menu_option _MENU_ _ENDNEST_ _NEXT_ control_if _STARTINPUT_ operator_equals _STARTINPUT_ _VAR_ _ENDINPUT_ _STARTINPUT_ numtext_input _ENDINPUT_ _ENDINPUT_ _STARTNEST_ looks_switchcostumeto _MENU_ menu_option _MENU_ _ENDNEST_ _NEXT_ control_if _STARTINPUT_ operator_equals _STARTINPUT_ _VAR_ _ENDINPUT_ _STARTINPUT_ numtext_input _ENDINPUT_ _ENDINPUT_ _STARTNEST_ looks_switchcostumeto _MENU_ menu_option _MENU_ _ENDNEST_ _NEXT_ control_if _STARTINPUT_ operator_equals _STARTINPUT_ _VAR_ _ENDINPUT_ _STARTINPUT_ numtext_input _ENDINPUT_ _ENDINPUT_ _STARTNEST_ looks_switchcostumeto _MENU_ menu_option _MENU_ _NEXT_ event_broadcast _MENU_ menu_option _MENU_ _ENDNEST_ _ENDNEST_ _ENDSTACK_ _STARTSTACK_ event_whenflagclicked _NEXT_ looks_hide _ENDSTACK_ _STARTSTACK_ event_whenbroadcastreceived _MENU_ menu_option _MENU_ _NEXT_ looks_show _ENDSTACK_ _STARTSTACK_ event_whenflagclicked _NEXT_ looks_hide _ENDSTACK_ _STARTSTACK_ event_whenbroadcastreceived _MENU_ menu_option _MENU_ _NEXT_ motion_gotoxy _STARTINPUT_ numtext_input _ENDINPUT_ _STARTINPUT_ numtext_input _ENDINPUT_ _NEXT_ looks_show _NEXT_ looks_gotofrontback _MENU_ menu_option _MENU_ _ENDSTACK_\r\n",
      "_STARTSTACK_ event_whenflagclicked _ENDSTACK_ _STARTSTACK_ event_whenflagclicked _NEXT_ motion_gotoxy _STARTINPUT_ numtext_input _ENDINPUT_ _STARTINPUT_ numtext_input _ENDINPUT_ _NEXT_ control_forever _STARTNEST_ motion_pointtowards _MENU_ menu_option _MENU_ _NEXT_ motion_movesteps _STARTINPUT_ numtext_input _ENDINPUT_ _ENDNEST_ _ENDSTACK_ _STARTSTACK_ event_whenflagclicked _NEXT_ data_setvariableto _MENU_ _VAR_ _MENU_ _STARTINPUT_ numtext_input _ENDINPUT_ _NEXT_ control_forever _STARTNEST_ control_wait _STARTINPUT_ numtext_input _ENDINPUT_ _NEXT_ data_changevariableby _MENU_ _VAR_ _MENU_ _STARTINPUT_ numtext_input _ENDINPUT_ _ENDNEST_ _ENDSTACK_ _STARTSTACK_ event_whenflagclicked _NEXT_ control_wait_until _STARTINPUT_ sensing_touchingobject _MENU_ menu_option _MENU_ _ENDINPUT_ _NEXT_ looks_hide _NEXT_ control_stop _MENU_ menu_option _MENU_ _ENDSTACK_ _STARTSTACK_ event_whenflagclicked _NEXT_ looks_show _ENDSTACK_ _STARTSTACK_ event_whenflagclicked _NEXT_ control_forever _STARTNEST_ motion_pointtowards _MENU_ menu_option _MENU_ _NEXT_ motion_movesteps _STARTINPUT_ numtext_input _ENDINPUT_ _ENDNEST_ _ENDSTACK_ _STARTSTACK_ event_whenflagclicked _NEXT_ motion_goto _MENU_ menu_option _MENU_ _ENDSTACK_ _STARTSTACK_ event_whenflagclicked _NEXT_ control_forever _STARTNEST_ control_wait_until _STARTINPUT_ sensing_touchingobject _MENU_ menu_option _MENU_ _ENDINPUT_ _NEXT_ control_stop _MENU_ menu_option _MENU_ _ENDNEST_ _ENDSTACK_ _STARTSTACK_ event_whenflagclicked _NEXT_ looks_show _ENDSTACK_ _STARTSTACK_ event_whenflagclicked _NEXT_ control_forever _STARTNEST_ sound_playuntildone _MENU_ menu_option _MENU_ _ENDNEST_ _ENDSTACK_\r\n",
      "_STARTSTACK_ event_whenthisspriteclicked _NEXT_ control_create_clone_of _MENU_ menu_option _MENU_ _ENDSTACK_ _STARTSTACK_ control_start_as_clone _NEXT_ control_wait _STARTINPUT_ numtext_input _ENDINPUT_ _NEXT_ looks_seteffectto _MENU_ menu_option _MENU_ _STARTINPUT_ numtext_input _ENDINPUT_ _NEXT_ looks_setsizeto _STARTINPUT_ numtext_input _ENDINPUT_ _NEXT_ control_wait _STARTINPUT_ numtext_input _ENDINPUT_ _NEXT_ looks_seteffectto _MENU_ menu_option _MENU_ _STARTINPUT_ numtext_input _ENDINPUT_ _NEXT_ looks_setsizeto _STARTINPUT_ numtext_input _ENDINPUT_ _NEXT_ control_wait _STARTINPUT_ numtext_input _ENDINPUT_ _NEXT_ looks_seteffectto _MENU_ menu_option _MENU_ _STARTINPUT_ numtext_input _ENDINPUT_ _NEXT_ looks_setsizeto _STARTINPUT_ numtext_input _ENDINPUT_ _NEXT_ control_delete_this_clone _ENDSTACK_ _STARTSTACK_ event_whenflagclicked _NEXT_ looks_seteffectto _MENU_ menu_option _MENU_ _STARTINPUT_ numtext_input _ENDINPUT_ _NEXT_ motion_goto _MENU_ menu_option _MENU_ _ENDSTACK_\r\n",
      "_STARTSTACK_ event_whenflagclicked _NEXT_ looks_switchbackdropto _MENU_ menu_option _MENU_ _ENDSTACK_ _STARTSTACK_ event_whenflagclicked _NEXT_ looks_gotofrontback _MENU_ menu_option _MENU_ _NEXT_ looks_goforwardbackwardlayers _MENU_ menu_option _MENU_ _STARTINPUT_ numtext_input _ENDINPUT_ _ENDSTACK_ _STARTSTACK_ event_whenflagclicked _NEXT_ looks_gotofrontback _MENU_ menu_option _MENU_ _NEXT_ control_forever _STARTNEST_ control_repeat _STARTINPUT_ numtext_input _ENDINPUT_ _STARTNEST_ looks_changeeffectby _MENU_ menu_option _MENU_ _STARTINPUT_ numtext_input _ENDINPUT_ _NEXT_ control_wait _STARTINPUT_ numtext_input _ENDINPUT_ _ENDNEST_ _NEXT_ control_repeat _STARTINPUT_ numtext_input _ENDINPUT_ _STARTNEST_ looks_changeeffectby _MENU_ menu_option _MENU_ _STARTINPUT_ numtext_input _ENDINPUT_ _NEXT_ control_wait _STARTINPUT_ numtext_input _ENDINPUT_ _ENDNEST_ _ENDNEST_ _ENDSTACK_ _STARTSTACK_ event_whenflagclicked _NEXT_ looks_gotofrontback _MENU_ menu_option _MENU_ _NEXT_ control_wait _STARTINPUT_ numtext_input _ENDINPUT_ _NEXT_ looks_sayforsecs _STARTINPUT_ numtext_input _ENDINPUT_ _STARTINPUT_ numtext_input _ENDINPUT_ _NEXT_ control_wait _STARTINPUT_ numtext_input _ENDINPUT_ _NEXT_ looks_sayforsecs _STARTINPUT_ numtext_input _ENDINPUT_ _STARTINPUT_ numtext_input _ENDINPUT_ _NEXT_ control_wait _STARTINPUT_ numtext_input _ENDINPUT_ _NEXT_ looks_sayforsecs _STARTINPUT_ numtext_input _ENDINPUT_ _STARTINPUT_ numtext_input _ENDINPUT_ _ENDSTACK_ _STARTSTACK_ event_whenflagclicked _NEXT_ looks_gotofrontback _MENU_ menu_option _MENU_ _NEXT_ looks_sayforsecs _STARTINPUT_ numtext_input _ENDINPUT_ _STARTINPUT_ numtext_input _ENDINPUT_ _NEXT_ control_wait _STARTINPUT_ numtext_input _ENDINPUT_ _NEXT_ looks_sayforsecs _STARTINPUT_ numtext_input _ENDINPUT_ _STARTINPUT_ numtext_input _ENDINPUT_ _NEXT_ control_wait _STARTINPUT_ numtext_input _ENDINPUT_ _NEXT_ looks_sayforsecs _STARTINPUT_ numtext_input _ENDINPUT_ _STARTINPUT_ numtext_input _ENDINPUT_ _ENDSTACK_\r\n"
     ]
    }
   ],
   "source": [
    "!shuf -n 5 {DATASET_TARGET}"
   ]
  },
  {
   "cell_type": "code",
   "execution_count": 29,
   "metadata": {},
   "outputs": [
    {
     "name": "stdout",
     "output_type": "stream",
     "text": [
      "                                           project_text\n",
      "6177  _STARTSTACK_ event_whenflagclicked _NEXT_ cont...\n",
      "1910  _STARTSTACK_ event_whenflagclicked _NEXT_ look...\n",
      "7193  _STARTSTACK_ event_whenflagclicked _NEXT_ even...\n",
      "6444  _STARTSTACK_ event_whenflagclicked _NEXT_ soun...\n",
      "2494  _STARTSTACK_ event_whenkeypressed _MENU_ menu_...\n"
     ]
    }
   ],
   "source": [
    "# df = pd.read_csv(DATASET_TARGET, sep=\"\\n\", header=None)\n",
    "# df.columns = ['project_text']\n",
    "# print(df.sample(n=5))\n",
    "\n",
    "# read in the text file into a dataframe\n",
    "def csv_to_df(filepath, columns=[]):\n",
    "    df = pd.read_csv(filepath, sep=\"\\n\", header=None)\n",
    "    df.columns = columns\n",
    "    return df\n",
    "\n",
    "df = csv_to_df(DATASET_TARGET, columns=['project_text'])\n",
    "print(df.sample(n=5))"
   ]
  },
  {
   "cell_type": "code",
   "execution_count": 30,
   "metadata": {},
   "outputs": [
    {
     "data": {
      "text/plain": [
       "(array([], dtype=int64), array([], dtype=int64))"
      ]
     },
     "execution_count": 30,
     "metadata": {},
     "output_type": "execute_result"
    }
   ],
   "source": [
    "np.where(df.isnull())"
   ]
  },
  {
   "cell_type": "markdown",
   "metadata": {},
   "source": [
    "### 1000 samples"
   ]
  },
  {
   "cell_type": "code",
   "execution_count": 31,
   "metadata": {},
   "outputs": [],
   "source": [
    "num_samples = 1000"
   ]
  },
  {
   "cell_type": "code",
   "execution_count": 32,
   "metadata": {},
   "outputs": [
    {
     "name": "stdout",
     "output_type": "stream",
     "text": [
      "(1000, 1)\n",
      "/home/jovyan/shared/lena/dataset/train_1000.txt\n"
     ]
    }
   ],
   "source": [
    "def extract_samples(dataframe, n=1000):\n",
    "    # Slice the dataframe to get the top n samples\n",
    "    df = dataframe.iloc[:n]\n",
    "    print(df.shape)\n",
    "    \n",
    "    # Write the dataframe back into a text file\n",
    "    target = TRAIN_TARGET + \"_\" + str(n) + \".txt\"\n",
    "    f = open(target, 'w+')\n",
    "    for i in df.index:\n",
    "        f.write(df.iloc[i]['project_text'] + \"\\n\")\n",
    "    \n",
    "    # Return the text file handle\n",
    "    return target\n",
    "\n",
    "train_target = extract_samples(df, n=num_samples)\n",
    "print(train_target)"
   ]
  },
  {
   "cell_type": "code",
   "execution_count": 33,
   "metadata": {},
   "outputs": [
    {
     "name": "stdout",
     "output_type": "stream",
     "text": [
      "1000 /home/jovyan/shared/lena/dataset/train_1000.txt\r\n"
     ]
    }
   ],
   "source": [
    "!wc -l {train_target}"
   ]
  },
  {
   "cell_type": "markdown",
   "metadata": {},
   "source": [
    "### 10,000 samples"
   ]
  },
  {
   "cell_type": "code",
   "execution_count": 39,
   "metadata": {},
   "outputs": [],
   "source": [
    "num_samples = 10000"
   ]
  },
  {
   "cell_type": "code",
   "execution_count": 40,
   "metadata": {},
   "outputs": [
    {
     "name": "stdout",
     "output_type": "stream",
     "text": [
      "(10000, 1)\n",
      "/home/jovyan/shared/lena/dataset/train_10000.txt\n"
     ]
    }
   ],
   "source": [
    "train_target = extract_samples(df, n=num_samples)\n",
    "print(train_target)"
   ]
  },
  {
   "cell_type": "code",
   "execution_count": 41,
   "metadata": {
    "scrolled": true
   },
   "outputs": [
    {
     "name": "stdout",
     "output_type": "stream",
     "text": [
      "10000 /home/jovyan/shared/lena/dataset/train_10000.txt\r\n"
     ]
    }
   ],
   "source": [
    "!wc -l {train_target}"
   ]
  },
  {
   "cell_type": "markdown",
   "metadata": {},
   "source": [
    "### 100,000 samples"
   ]
  },
  {
   "cell_type": "code",
   "execution_count": 42,
   "metadata": {},
   "outputs": [],
   "source": [
    "num_samples = 100000"
   ]
  },
  {
   "cell_type": "code",
   "execution_count": 44,
   "metadata": {},
   "outputs": [
    {
     "name": "stdout",
     "output_type": "stream",
     "text": [
      "(100000, 1)\n",
      "/home/jovyan/shared/lena/dataset/train_100000.txt\n"
     ]
    }
   ],
   "source": [
    "train_target = extract_samples(df, n=num_samples)\n",
    "print(train_target)"
   ]
  },
  {
   "cell_type": "code",
   "execution_count": 45,
   "metadata": {},
   "outputs": [
    {
     "name": "stdout",
     "output_type": "stream",
     "text": [
      "100000 /home/jovyan/shared/lena/dataset/train_100000.txt\r\n"
     ]
    }
   ],
   "source": [
    "!wc -l {train_target}"
   ]
  },
  {
   "cell_type": "markdown",
   "metadata": {},
   "source": [
    "### 500,000 samples"
   ]
  },
  {
   "cell_type": "code",
   "execution_count": 46,
   "metadata": {},
   "outputs": [],
   "source": [
    "num_samples = 500000"
   ]
  },
  {
   "cell_type": "code",
   "execution_count": 37,
   "metadata": {},
   "outputs": [
    {
     "name": "stdout",
     "output_type": "stream",
     "text": [
      "(1000, 1)\n",
      "/home/jovyan/shared/lena/dataset/train_1000.txt\n"
     ]
    }
   ],
   "source": [
    "train_target = extract_samples(df, n=num_samples)\n",
    "print(train_target)"
   ]
  },
  {
   "cell_type": "code",
   "execution_count": 38,
   "metadata": {},
   "outputs": [
    {
     "name": "stdout",
     "output_type": "stream",
     "text": [
      "1000 /home/jovyan/shared/lena/dataset/train_1000.txt\r\n"
     ]
    }
   ],
   "source": [
    "!wc -l {train_target}"
   ]
  }
 ],
 "metadata": {
  "kernelspec": {
   "display_name": "Python 3",
   "language": "python",
   "name": "python3"
  },
  "language_info": {
   "codemirror_mode": {
    "name": "ipython",
    "version": 3
   },
   "file_extension": ".py",
   "mimetype": "text/x-python",
   "name": "python",
   "nbconvert_exporter": "python",
   "pygments_lexer": "ipython3",
   "version": "3.7.3"
  }
 },
 "nbformat": 4,
 "nbformat_minor": 2
}
